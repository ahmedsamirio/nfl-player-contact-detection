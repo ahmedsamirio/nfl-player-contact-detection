{
 "cells": [
  {
   "cell_type": "markdown",
   "id": "dc57572d-c3f9-43a1-bff2-cb31b2a29802",
   "metadata": {
    "tags": []
   },
   "source": [
    "# Load libraries"
   ]
  },
  {
   "cell_type": "code",
   "execution_count": 6,
   "id": "43a26634-4786-4daa-a1fa-12dae1b99e10",
   "metadata": {
    "tags": []
   },
   "outputs": [
    {
     "data": {
      "text/plain": [
       "False"
      ]
     },
     "execution_count": 6,
     "metadata": {},
     "output_type": "execute_result"
    }
   ],
   "source": [
    "LS = !ls\n",
    "IS_KAGGLE = 'init.sh' not in LS\n",
    "IS_KAGGLE"
   ]
  },
  {
   "cell_type": "code",
   "execution_count": 7,
   "id": "4f3fcd42-0b4f-417c-952c-3394d8035ec9",
   "metadata": {
    "tags": []
   },
   "outputs": [],
   "source": [
    "import sys\n",
    "\n",
    "class CFG:\n",
    "    seed = 4121995\n",
    "\n",
    "if IS_KAGGLE:\n",
    "    sys.path.append('/kaggle/input/timm-0-6-9/pytorch-image-models-master')\n",
    "    CFG.frames_path = ''\n",
    "    CFG.utils_path = '/kaggle/input/nflutils'\n",
    "    \n",
    "    sys.path.insert(0, '../input/nflutils')\n",
    "    !mkdir -p nflutils\n",
    "    !cp ../input/nflutils/*.py nflutils/\n",
    "    \n",
    "else:\n",
    "    CFG.frames_path = 'frames/content/work/frames/train'\n",
    "    CFG.utils_path = 'nflutils'"
   ]
  },
  {
   "cell_type": "code",
   "execution_count": 8,
   "id": "f0e9bf95-b155-4936-b796-e9a9146962d0",
   "metadata": {
    "tags": []
   },
   "outputs": [],
   "source": [
    "import numpy as np\n",
    "import pandas as pd\n",
    "import matplotlib.pylab as plt\n",
    "\n",
    "import pickle\n",
    "import timm\n",
    "import cv2\n",
    "\n",
    "from pathlib import Path\n",
    "\n",
    "from nflutils.dataprep import *\n",
    "\n",
    "from tqdm.notebook import tqdm\n",
    "\n",
    "from sklearn.metrics import matthews_corrcoef\n",
    "\n",
    "import albumentations as A\n",
    "from albumentations.pytorch import ToTensorV2\n",
    "\n",
    "from fastai.vision.all import *\n",
    "\n",
    "import wandb\n",
    "from fastai.callback.wandb import *\n",
    "\n",
    "pd.set_option('display.max_columns', 500)"
   ]
  },
  {
   "cell_type": "markdown",
   "id": "74ccab4e-581c-4cd3-9c36-940be85754e2",
   "metadata": {
    "tags": []
   },
   "source": [
    "# Read Files"
   ]
  },
  {
   "cell_type": "code",
   "execution_count": 9,
   "id": "3cdbaa1d-b1a2-40c9-95ba-03bac79b60e5",
   "metadata": {
    "tags": []
   },
   "outputs": [],
   "source": [
    "if IS_KAGGLE:\n",
    "    BASE_DIR = Path(\"../input/nfl-player-contact-detection\")\n",
    "    OUT_DIR = Path(\"/kaggle/working/\")\n",
    "else:\n",
    "    BASE_DIR = Path(\"nfl-player-contact-detection\")\n",
    "    OUT_DIR = Path(\"nfl-player-contact-detection/frames\")"
   ]
  },
  {
   "cell_type": "code",
   "execution_count": 10,
   "id": "2e5b4170-eb51-4468-94f8-ed4f2f17adde",
   "metadata": {
    "tags": []
   },
   "outputs": [],
   "source": [
    "ss = pd.read_csv(BASE_DIR/\"sample_submission.csv\")\n",
    "\n",
    "# Player tracking data\n",
    "te_tracking = pd.read_csv(\n",
    "    BASE_DIR/\"test_player_tracking.csv\", parse_dates=[\"datetime\"]\n",
    ")\n",
    "\n",
    "# Baseline helmet detection labels\n",
    "te_helmets = pd.read_csv(BASE_DIR/\"test_baseline_helmets.csv\")"
   ]
  },
  {
   "cell_type": "code",
   "execution_count": 11,
   "id": "64918b0b-d325-4695-81cb-43ac8ec48ca7",
   "metadata": {
    "tags": []
   },
   "outputs": [],
   "source": [
    "df_combo = pd.read_parquet(CFG.utils_path+'/df_combo.parquet')\n",
    "df_combo_with_helmets = pd.read_parquet(CFG.utils_path+'/df_tracking_helmets_below_2.parquet')\n",
    "df_combo_with_helmets['G_flag'] = np.where(df_combo_with_helmets.nfl_player_id_2 == 'G', 1, 0)"
   ]
  },
  {
   "cell_type": "code",
   "execution_count": 12,
   "id": "af65737f-6a05-4bdf-9a7a-b68da12ab9a5",
   "metadata": {},
   "outputs": [],
   "source": [
    "kf_dict = pickle.load(open('kf_dict', 'rb'))"
   ]
  },
  {
   "cell_type": "markdown",
   "id": "8f1888be-752f-4196-b465-08f84cfea9ac",
   "metadata": {},
   "source": [
    "## OOF Semi-final models"
   ]
  },
  {
   "cell_type": "markdown",
   "id": "9f9b7f56-681f-412b-a768-04e50f16c396",
   "metadata": {},
   "source": [
    "### Functions"
   ]
  },
  {
   "cell_type": "code",
   "execution_count": 8,
   "id": "cfbfda7d-e096-4ca2-85dd-e044e16961c4",
   "metadata": {},
   "outputs": [],
   "source": [
    "def get_frames_df(df_combo, kf_dict, split, frames_path, offset=0, sample_every_n_frame=None, sample_every_n_frame_train=None, sample_every_n_frame_val=None, sample_train=None, sample_val=None, undersample_no_contact=False, filter_views=None, seed=42):\n",
    "    \n",
    "    set_seed(seed, True)\n",
    "    \n",
    "    train_game_plays = kf_dict[split]['train_games']\n",
    "    val_game_plays = kf_dict[split]['val_games']\n",
    "    \n",
    "    train_combo = df_combo.query('game_play in @train_game_plays').copy()\n",
    "    val_combo = df_combo.query('game_play in @val_game_plays').copy()\n",
    "    \n",
    "    train_combo['is_valid'] = False\n",
    "    val_combo['is_valid'] = True\n",
    "    \n",
    "    if sample_every_n_frame is not None:\n",
    "        train_combo = train_combo.query('(290 - frame - @offset) % @sample_every_n_frame == 0')\n",
    "        val_combo = val_combo.query('(290 - frame) % @sample_every_n_frame == 0')\n",
    "        \n",
    "    if sample_every_n_frame_train is not None:\n",
    "        train_combo = train_combo.query('(290 - frame -@offset) % @sample_every_n_frame_train == 0')\n",
    "        \n",
    "    if sample_every_n_frame_val is not None:\n",
    "        val_combo = val_combo.query('(290 - frame) % @sample_every_n_frame_val == 0')\n",
    "    \n",
    "    if sample_train is not None:\n",
    "        train_combo = train_combo.sample(frac=sample_train, random_state=seed)\n",
    "        \n",
    "    if sample_val is not None:\n",
    "        val_combo = val_combo.sample(frac=sample_val, random_state=seed)\n",
    "        \n",
    "    if undersample_no_contact:\n",
    "        train_combo = pd.concat([\n",
    "            train_combo.query('contact == 1'),\n",
    "            train_combo.query('contact == 0').sample(\n",
    "                len(train_combo.query('contact == 1')), random_state=seed\n",
    "            )\n",
    "        ])\n",
    "\n",
    "    frames_df = pd.concat([train_combo, val_combo], axis=0)\n",
    "    frames_df.frame = frames_df.frame.astype('int') \n",
    "    \n",
    "    if filter_views is not None:\n",
    "        frames_df = frames_df.query('view in @filter_views')\n",
    "        \n",
    "    # frames_df['path'] = frames_df.apply(lambda x: get_frame_path(x, frames_path), axis=1)\n",
    "        \n",
    "    return frames_df\n"
   ]
  },
  {
   "cell_type": "code",
   "execution_count": 9,
   "id": "c8384e49-dc12-40be-93fe-35c608f9de6d",
   "metadata": {},
   "outputs": [],
   "source": [
    "def get_interpolated_player_helmets(helmets_df, player_id):\n",
    "    player_helmets = pd.DataFrame()\n",
    "    tmp_frames_df = pd.DataFrame({'frame': np.arange(player_helmets_df.frame.min(), tr_helmets.frame.max()+1)})\n",
    "\n",
    "    for view in helmets_df.view.unique():\n",
    "        player_helmets_view = helmets_df.query('nfl_player_id == @player_id and view == @view')\n",
    "        player_helmets_view = pd.merge(tmp_frames_df, player_helmets_view[['frame', 'left', 'width', 'top', 'height']], how='left', on='frame').interpolate(limit_direction='both')\n",
    "        player_helmets_view['view'] = view\n",
    "        player_helmets = pd.concat([player_helmets, player_helmets_view], axis=0)\n",
    "        \n",
    "    return player_helmets"
   ]
  },
  {
   "cell_type": "code",
   "execution_count": 10,
   "id": "d54cae1e-a8ae-4246-b1a0-c494ce361165",
   "metadata": {},
   "outputs": [],
   "source": [
    "from torch.utils.data import Dataset, DataLoader\n",
    "import functools\n",
    "\n",
    "def add_helmets(frame, row):\n",
    "    frame = frame.copy()\n",
    "    frame = cv2.rectangle(frame, \n",
    "                          (int(row.left_1), int(row.top_1)),\n",
    "                          (int(row.left_1+row.width_1), int(row.top_1+row.height_1)),\n",
    "                          (255, 0, 0), 2)\n",
    "    \n",
    "    if not np.isnan(row.left_2):\n",
    "        frame = cv2.rectangle(frame, \n",
    "                              (int(row.left_2), int(row.top_2)),\n",
    "                              (int(row.left_2+row.width_2), int(row.top_2+row.height_2)),\n",
    "                              (255, 0, 0), 2)\n",
    "    return frame\n",
    "\n",
    "def add_helmet(frame, row):\n",
    "    frame = frame.copy()\n",
    "    frame = cv2.rectangle(frame, \n",
    "                          (int(row.left), int(row.top)),\n",
    "                          (int(row.left+row.width), int(row.top+row.height)),\n",
    "                          (255, 0, 0), 2)\n",
    "    return frame\n",
    "\n",
    "@functools.lru_cache(maxsize=500)\n",
    "def _get_frame(path):\n",
    "    frame = cv2.imread(path)\n",
    "    frame = cv2.cvtColor(frame, cv2.COLOR_BGR2RGB)\n",
    "    return frame\n",
    "\n",
    "def get_frame_path(frame_no, frames_path, game_play, view):\n",
    "    frame = frame_no if len(str(frame_no)) > 3 else f'0{frame_no}'\n",
    "    return f'{frames_path}/{game_play}_{view}.mp4_{frame}.jpg'\n",
    "\n",
    "class NFLFrameDataset(Dataset):\n",
    "    def __init__(self, frames_df, transform=None, crop_size=256, helmets=True):\n",
    "        self.frames_df = frames_df\n",
    "        self.helmets = helmets\n",
    "        self.crop_size = crop_size\n",
    "        self.transform = transform\n",
    "        \n",
    "    def __len__(self):\n",
    "        return len(self.frames_df)\n",
    "        \n",
    "    def __getitem__(self, idx):\n",
    "        row = self.frames_df.iloc[idx]\n",
    "        frame_path = get_frame_path(int(row.frame), CFG.frames_path, row['game_play'], row['view'])\n",
    "        frame = self.get_frame(frame_path)\n",
    "        if self.helmets:\n",
    "            frame = add_helmets(frame, row)\n",
    "            # frame = add_helmet_heatmap(frame, row)\n",
    "            \n",
    "        frame = crop_frame(frame, row.center_x, row.center_y, self.crop_size)\n",
    "        if self.transform is not None:\n",
    "            frame = self.transform(image=frame)['image']\n",
    "        return frame, row.contact\n",
    "    \n",
    "    def get_frame(self, path):\n",
    "        return _get_frame(path)\n",
    "\n",
    "\n",
    "class NFLFrameTrackingDataset(Dataset):\n",
    "    def __init__(self, frames_df, transform=None, crop_size=256, helmets=True):\n",
    "        self.frames_df = frames_df\n",
    "        self.helmets = helmets\n",
    "        self.crop_size = crop_size\n",
    "        self.transform = transform\n",
    "        self.tracking_cols = [\"x_position_1\", \"y_position_1\", \"speed_1\", \"distance_1\", \"direction_1\", \"orientation_1\", \"acceleration_1\", \"sa_1\",\n",
    "                              \"x_position_2\", \"y_position_2\", \"speed_2\", \"distance_2\", \"direction_2\", \"orientation_2\", \"acceleration_2\", \"sa_2\",\n",
    "                              \"distance\", \"G_flag\"]\n",
    "        \n",
    "    def __len__(self):\n",
    "        return len(self.frames_df)\n",
    "        \n",
    "    def __getitem__(self, idx):\n",
    "        row = self.frames_df.iloc[idx]\n",
    "        frame_path = get_frame_path(int(row.frame), CFG.frames_path, row['game_play'], row['view'])\n",
    "        frame = self.get_frame(frame_path)\n",
    "        \n",
    "        if self.helmets:\n",
    "            frame = add_helmets(frame, row)\n",
    "            # frame = add_helmet_heatmap(frame, row)\n",
    "            \n",
    "        frame = crop_frame(frame, row.center_x, row.center_y, self.crop_size)\n",
    "        \n",
    "        if self.transform is not None:\n",
    "            frame = self.transform(image=frame)['image']\n",
    "            \n",
    "        tracking_data = row[self.tracking_cols].fillna(-1).values.astype(np.float32)\n",
    "        \n",
    "        return frame, tracking_data, row.contact\n",
    "    \n",
    "    def get_frame(self, path):\n",
    "        return _get_frame(path)\n",
    "    \n",
    "\n",
    "def get_interpolated_player_helmets(helmets_df, tmp_frames_df, player_id, view):\n",
    "    player_helmets_view = helmets_df.query('nfl_player_id == @player_id and view == @view')\n",
    "    player_helmets_view = pd.merge(tmp_frames_df, player_helmets_view[['frame', 'left', 'width', 'top', 'height']], how='left', on='frame').interpolate(limit_direction='both')\n",
    "        \n",
    "    return player_helmets_view\n",
    "\n",
    "class NFL25DDataset(Dataset):\n",
    "    def __init__(self, frames_df, transform=None, crop_size=256, helmets=True, frames_offsets=[-6, 0, 6]):\n",
    "        self.frames_df = frames_df\n",
    "        self.helmets = helmets\n",
    "        self.crop_size = crop_size\n",
    "        self.transform = transform\n",
    "        self.tracking_cols = [\"x_position_1\", \"y_position_1\", \"speed_1\", \"distance_1\", \"direction_1\", \"orientation_1\", \"acceleration_1\", \"sa_1\",\n",
    "                              \"x_position_2\", \"y_position_2\", \"speed_2\", \"distance_2\", \"direction_2\", \"orientation_2\", \"acceleration_2\", \"sa_2\",\n",
    "                              \"distance\", \"G_flag\"]\n",
    "        \n",
    "        self.gps_helmet_dfs = {gp: tr_helmets.query('game_play == @gp') for gp in frames_df.game_play.unique()}\n",
    "        self.frames_offsets = frames_offsets\n",
    "        self.tmp_frames_df = pd.DataFrame({'frame': np.arange(270, 1500)})\n",
    "\n",
    "\n",
    "        \n",
    "    def __len__(self):\n",
    "        return len(self.frames_df)\n",
    "        \n",
    "    def __getitem__(self, idx):\n",
    "        row = self.frames_df.iloc[idx]\n",
    "        gp = row['game_play']\n",
    "        view = row['view']\n",
    "        \n",
    "        player_1_id = int(row.nfl_player_id_1)\n",
    "        player_2_id = int(row.nfl_player_id_2)\n",
    "        \n",
    "        player_1_helmets = get_interpolated_player_helmets(self.gps_helmet_dfs[gp], self.tmp_frames_df, player_1_id, view)\n",
    "        player_2_helmets = get_interpolated_player_helmets(self.gps_helmet_dfs[gp], self.tmp_frames_df, player_2_id, view)\n",
    "        \n",
    "        frames = []\n",
    "                \n",
    "        for frame_offset in [-6, 0, 6]:\n",
    "            frame_no = int(row.frame + frame_offset)\n",
    "            frame_path = get_frame_path(frame_no, CFG.frames_path, gp, view)\n",
    "            \n",
    "            if os.path.exists(frame_path):\n",
    "                frame = self.get_frame(frame_path)\n",
    "\n",
    "                if self.helmets:\n",
    "                    try:\n",
    "                        player_1_frame_helmet = player_1_helmets.query('frame == @frame_no').iloc[0]\n",
    "                        player_2_frame_helmet = player_2_helmets.query('frame == @frame_no').iloc[0]\n",
    "\n",
    "                        frame = add_helmet(frame, player_1_frame_helmet)\n",
    "                        frame = add_helmet(frame, player_2_frame_helmet)\n",
    "                    except:\n",
    "                        print(gp, player_1_id, view, frame_no)\n",
    "\n",
    "                    frame = cv2.cvtColor(frame, cv2.COLOR_RGB2GRAY)\n",
    "\n",
    "                frames.append(frame)\n",
    "            \n",
    "        if len(frames) < len(self.frames_offsets):\n",
    "            frames = frames + frames[-1:]*(len(self.frames_offsets)-len(frames))\n",
    "            \n",
    "        frame = np.stack(frames, axis=-1)\n",
    "        frame = crop_frame(frame, row.center_x, row.center_y, self.crop_size)\n",
    "        \n",
    "        if self.transform is not None:\n",
    "            frame = self.transform(image=frame)['image']\n",
    "        \n",
    "        tracking_data = row[self.tracking_cols].fillna(-1).values.astype(np.float32)\n",
    "        \n",
    "        return frame, tracking_data, row.contact\n",
    "            \n",
    "    def get_frame(self, path):\n",
    "        return _get_frame(path)\n",
    "    \n",
    "def crop_frame(frame, x, y, size):\n",
    "    size = size // 2\n",
    "    \n",
    "    if y-size < 0:\n",
    "        min_y = 0\n",
    "        max_y = min_y + 2*size\n",
    "        \n",
    "    elif y+size > 719:\n",
    "        min_y = 719 - 2*size\n",
    "        max_y = 719\n",
    "        \n",
    "    else:\n",
    "        min_y = y - size\n",
    "        max_y = y + size\n",
    "    \n",
    "    if x-size < 0:\n",
    "        min_x = 0\n",
    "        max_x = min_x + 2*size\n",
    "        \n",
    "    elif x+size > 1279:\n",
    "        min_x = 1279 - 2*size\n",
    "        max_x = 1279\n",
    "        \n",
    "    else:\n",
    "        min_x = x - size\n",
    "        max_x = x + size\n",
    "        \n",
    "    cropped_frame = frame[int(min_y):int(max_y), \n",
    "                          int(min_x):int(max_x), :]\n",
    "    return cropped_frame\n",
    "\n",
    "def crop_frames(frames, x, y, size):\n",
    "    size = size // 2\n",
    "    \n",
    "    if y-size < 0:\n",
    "        min_y = 0\n",
    "        max_y = min_y + 2*size\n",
    "        \n",
    "    elif y+size > 719:\n",
    "        min_y = 719 - 2*size\n",
    "        max_y = 719\n",
    "        \n",
    "    else:\n",
    "        min_y = y - size\n",
    "        max_y = y + size\n",
    "    \n",
    "    if x-size < 0:\n",
    "        min_x = 0\n",
    "        max_x = min_x + 2*size\n",
    "        \n",
    "    elif x+size > 1279:\n",
    "        min_x = 1279 - 2*size\n",
    "        max_x = 1279\n",
    "        \n",
    "    else:\n",
    "        min_x = x - size\n",
    "        max_x = x + size\n",
    "        \n",
    "    cropped_frames = frames[:,\n",
    "                            int(min_y):int(max_y), \n",
    "                            int(min_x):int(max_x),\n",
    "                            :]\n",
    "    return cropped_frames\n",
    "    \n",
    "def visualize_batch(batch, means, stds):\n",
    "    \"\"\"\n",
    "    Visualize a batch of image data using Matplotlib.\n",
    "    \n",
    "    Parameters:\n",
    "        - batch_tensor (torch.Tensor): A batch of image data in the shape (batch_size, channels, height, width).\n",
    "        - means (tuple): A tuple of means for each channel in the image data.\n",
    "        - stds (tuple): A tuple of standard deviations for each channel in the image data.\n",
    "    \"\"\"\n",
    "    # Make a copy of the batch tensor so that we don't modify the original data\n",
    "    batch_tensor = batch[0].clone()\n",
    "    \n",
    "    # De-normalize the data using the means and stds\n",
    "    batch_tensor = batch_tensor * torch.tensor(stds, dtype=batch_tensor.dtype).view(3, 1, 1) + torch.tensor(means, dtype=batch_tensor.dtype).view(3, 1, 1)\n",
    "    \n",
    "    # Convert the data to numpy and transpose it to (batch_size, height, width, channels)\n",
    "    batch_np = batch_tensor.numpy().transpose(0, 2, 3, 1)\n",
    "    \n",
    "    # Plot the images\n",
    "    plt.figure(figsize=(20, 20))\n",
    "    for i in range(batch_np.shape[0]):\n",
    "        plt.subplot(batch_np.shape[0] // 5 + 1, 5, i + 1)\n",
    "        plt.imshow(batch_np[i])\n",
    "        plt.title(['no contact', 'contact'][batch[-1][i].item()])\n",
    "        plt.axis(\"off\")\n",
    "    plt.show()"
   ]
  },
  {
   "cell_type": "code",
   "execution_count": 11,
   "id": "9b6ea882-943e-4b76-a709-6348aba0004e",
   "metadata": {},
   "outputs": [],
   "source": [
    "def get_dls(df_combo, kf_dict, split, train_transform, val_transform, frames_kwargs, crop_size=256, bs=64, num_workers=8, dl=NFLFrameTrackingDataset):\n",
    "    frames_df = get_frames_df(df_combo, kf_dict, split, **frames_kwargs).copy()\n",
    "    \n",
    "    train_frames_df = frames_df.query('~is_valid').copy().reset_index(drop=True)\n",
    "    val_frames_df = frames_df.query('is_valid').copy().reset_index(drop=True)\n",
    "    \n",
    "    # train_frames_df.loc[(train_frames_df.nfl_player_id_2 == \"G\") & (train_frames_df.contact == 1)] = 2\n",
    "    # val_frames_df.loc[(val_frames_df.nfl_player_id_2 == \"G\") & (val_frames_df.contact == 1)] = 2\n",
    "    \n",
    "    set_seed(frames_kwargs['seed'], True)\n",
    "\n",
    "    train_ds = dl(train_frames_df, transform=train_transform, helmets=True, crop_size=crop_size)\n",
    "    val_ds = dl(val_frames_df, transform=val_transform, helmets=True, crop_size=crop_size)\n",
    "\n",
    "    train_loader = DataLoader(\n",
    "        train_ds, batch_size=bs, shuffle=True, num_workers=num_workers, pin_memory=True,\n",
    "    )\n",
    "\n",
    "    val_loader = DataLoader(\n",
    "        val_ds, batch_size=bs, shuffle=False, num_workers=num_workers, pin_memory=True,\n",
    "    )\n",
    "    \n",
    "    data = DataLoaders(train_loader, val_loader, device=torch.device('cuda'))\n",
    "    \n",
    "    return data"
   ]
  },
  {
   "cell_type": "code",
   "execution_count": 12,
   "id": "d5df0327-98c9-4b56-9e10-223118b12ff6",
   "metadata": {},
   "outputs": [],
   "source": [
    "class ShuffleGamePlayCallBack(Callback):\n",
    "    def __init__(self, df_combo, kf_dict, split, train_transform, val_transform, frames_kwargs, crop_size=256, bs=64, num_workers=8, dl=NFLFrameTrackingDataset):\n",
    "        self.df_combo = df_combo\n",
    "        self.kf_dict = kf_dict\n",
    "        self.split = split\n",
    "        self.train_transform = train_transform\n",
    "        self.val_transform = val_transform\n",
    "        self.crop_size = crop_size\n",
    "        self.bs = bs\n",
    "        self.num_workers = 8\n",
    "        self.frames_kwargs = frames_kwargs\n",
    "        self.dl = dl\n",
    "        \n",
    "    def after_epoch(self):\n",
    "        self.frames_kwargs['seed'] += 1\n",
    "        self.frames_kwargs['offset'] += 1\n",
    "        print(self.frames_kwargs['seed'], self.frames_kwargs['offset'])\n",
    "        self.learn.dls = get_dls(self.df_combo, self.kf_dict, self.split, self.train_transform,\n",
    "                                 self.val_transform, self.frames_kwargs, self.crop_size, self.bs, self.num_workers, self.dl)"
   ]
  },
  {
   "cell_type": "code",
   "execution_count": 13,
   "id": "f434112c-d1e4-4bd1-8ff1-ca77ba504d83",
   "metadata": {},
   "outputs": [],
   "source": [
    "class FrameTrackingModel(nn.Module):\n",
    "    def __init__(self, arch='convnext_tiny', pretrained=True, n_in=3, concat_pool=True, mlp_n=64):\n",
    "        super(FrameTrackingModel, self).__init__()\n",
    "        \n",
    "        model = timm.create_model(arch, pretrained=pretrained, num_classes=0, in_chans=n_in)\n",
    "        self.body = TimmBody(model, pretrained, n_in=n_in)\n",
    "        \n",
    "        self.pool = AdaptiveConcatPool2d() if concat_pool else nn.AdaptiveAvgPool2d(1)\n",
    "        self.flatten = Flatten()\n",
    "        \n",
    "        self.mlp = nn.Sequential(\n",
    "            nn.Linear(18, mlp_n),\n",
    "            nn.LayerNorm(mlp_n),\n",
    "            nn.ReLU(),\n",
    "            nn.Dropout(0.2)\n",
    "        )\n",
    "        \n",
    "        self.fc = nn.Linear(model.num_features*[1, 2][concat_pool]+mlp_n, 2)\n",
    "        \n",
    "    def forward(self, frame, feats):\n",
    "        # print(frame.shape, feats.shape)\n",
    "        x1 = self.body(frame)\n",
    "        x1 = self.pool(x1)\n",
    "        x1 = self.flatten(x1)\n",
    "        x2 = self.mlp(feats)\n",
    "        # print(x1.shape, x2.shape)\n",
    "        return self.fc(torch.cat([x1, x2], dim=1))"
   ]
  },
  {
   "cell_type": "markdown",
   "id": "30f3bd98-9cb3-44b6-8cfb-e230b03cab29",
   "metadata": {
    "tags": []
   },
   "source": [
    "### Player"
   ]
  },
  {
   "cell_type": "markdown",
   "id": "9315dc5c-b6e3-4d31-b4ba-930f4563d8f4",
   "metadata": {
    "jp-MarkdownHeadingCollapsed": true,
    "tags": []
   },
   "source": [
    "#### Fold 0"
   ]
  },
  {
   "cell_type": "code",
   "execution_count": 32,
   "id": "16974d18-67a9-4034-addd-f3de2967264a",
   "metadata": {
    "tags": []
   },
   "outputs": [
    {
     "data": {
      "text/html": [
       "Finishing last run (ID:uw73s1ya) before initializing another..."
      ],
      "text/plain": [
       "<IPython.core.display.HTML object>"
      ]
     },
     "metadata": {},
     "output_type": "display_data"
    },
    {
     "data": {
      "text/html": [
       "Waiting for W&B process to finish... <strong style=\"color:green\">(success).</strong>"
      ],
      "text/plain": [
       "<IPython.core.display.HTML object>"
      ]
     },
     "metadata": {},
     "output_type": "display_data"
    },
    {
     "data": {
      "text/html": [
       "<style>\n",
       "    table.wandb td:nth-child(1) { padding: 0 10px; text-align: left ; width: auto;} td:nth-child(2) {text-align: left ; width: 100%}\n",
       "    .wandb-row { display: flex; flex-direction: row; flex-wrap: wrap; justify-content: flex-start; width: 100% }\n",
       "    .wandb-col { display: flex; flex-direction: column; flex-basis: 100%; flex: 1; padding: 10px; }\n",
       "    </style>\n",
       "<div class=\"wandb-row\"><div class=\"wandb-col\"><h3>Run history:</h3><br/><table class=\"wandb\"><tr><td>accuracy</td><td>▁▅▂▆▇█</td></tr><tr><td>epoch</td><td>▁▁▁▂▂▂▂▂▂▃▃▃▃▃▃▄▄▄▄▄▅▅▅▅▅▅▆▆▆▆▆▇▇▇▇▇▇███</td></tr><tr><td>eps_0</td><td>▁▁▁▁▁▁▁▁▁▁▁▁▁▁▁▁▁▁▁▁▁▁▁▁▁▁▁▁▁▁▁▁▁▁▁▁▁▁▁▁</td></tr><tr><td>f1_score</td><td>▁▄▃▆██</td></tr><tr><td>lr_0</td><td>▁▂▂▃▄▅▆▇███████▇▇▇▇▆▆▆▅▅▅▄▄▄▃▃▃▂▂▂▂▁▁▁▁▁</td></tr><tr><td>matthews_corrcoef</td><td>▁▄▃▆██</td></tr><tr><td>mom_0</td><td>██▇▆▅▄▃▂▁▁▁▁▁▁▁▂▂▂▂▃▃▃▄▄▄▅▅▅▆▆▆▇▇▇▇█████</td></tr><tr><td>precision_score</td><td>▁▄▂▅▇█</td></tr><tr><td>raw_loss</td><td>█▆▇▅▅▅▅▄▄▅▄▅▆▃▄▆▅▅▄▄▄▄▅▂▃▃▂▂▁▃▂▂▂▁▂▁▁▁▃▃</td></tr><tr><td>recall_score</td><td>▆▃█▅▃▁</td></tr><tr><td>sqr_mom_0</td><td>▁▁▁▁▁▁▁▁▁▁▁▁▁▁▁▁▁▁▁▁▁▁▁▁▁▁▁▁▁▁▁▁▁▁▁▁▁▁▁▁</td></tr><tr><td>train_loss</td><td>█▅▄▄▄▄▄▄▄▄▃▃▃▃▃▃▃▃▃▃▂▂▂▂▂▂▂▂▂▂▂▁▁▁▁▁▁▁▁▁</td></tr><tr><td>train_samples_per_sec</td><td>█▅▆▇▃▅▆▆▆▆▃▆▆▆▃▇▇▆▇▇▆▂▆▇▆▆▇▇▆▇▆█▇▆▅▁▃▆▇▇</td></tr><tr><td>valid_loss</td><td>█▄█▃▁▁</td></tr><tr><td>wd_0</td><td>▁▁▁▁▁▁▁▁▁▁▁▁▁▁▁▁▁▁▁▁▁▁▁▁▁▁▁▁▁▁▁▁▁▁▁▁▁▁▁▁</td></tr></table><br/></div><div class=\"wandb-col\"><h3>Run summary:</h3><br/><table class=\"wandb\"><tr><td>accuracy</td><td>0.87207</td></tr><tr><td>epoch</td><td>6</td></tr><tr><td>eps_0</td><td>1e-05</td></tr><tr><td>f1_score</td><td>0.723</td></tr><tr><td>lr_0</td><td>0.0</td></tr><tr><td>matthews_corrcoef</td><td>0.64558</td></tr><tr><td>mom_0</td><td>0.95</td></tr><tr><td>precision_score</td><td>0.66096</td></tr><tr><td>raw_loss</td><td>0.15606</td></tr><tr><td>recall_score</td><td>0.7979</td></tr><tr><td>sqr_mom_0</td><td>0.99</td></tr><tr><td>train_loss</td><td>0.22425</td></tr><tr><td>train_samples_per_sec</td><td>100.18755</td></tr><tr><td>valid_loss</td><td>0.29802</td></tr><tr><td>wd_0</td><td>0.01</td></tr></table><br/></div></div>"
      ],
      "text/plain": [
       "<IPython.core.display.HTML object>"
      ]
     },
     "metadata": {},
     "output_type": "display_data"
    },
    {
     "data": {
      "text/html": [
       " View run <strong style=\"color:#cdcd00\">tiny-pp-fold-0</strong> at: <a href='https://wandb.ai/ahmedsamirio/nfl-1st-and-future/runs/uw73s1ya' target=\"_blank\">https://wandb.ai/ahmedsamirio/nfl-1st-and-future/runs/uw73s1ya</a><br/>Synced 5 W&B file(s), 0 media file(s), 0 artifact file(s) and 0 other file(s)"
      ],
      "text/plain": [
       "<IPython.core.display.HTML object>"
      ]
     },
     "metadata": {},
     "output_type": "display_data"
    },
    {
     "data": {
      "text/html": [
       "Find logs at: <code>./wandb/run-20230223_080603-uw73s1ya/logs</code>"
      ],
      "text/plain": [
       "<IPython.core.display.HTML object>"
      ]
     },
     "metadata": {},
     "output_type": "display_data"
    },
    {
     "data": {
      "text/html": [
       "Successfully finished last run (ID:uw73s1ya). Initializing new run:<br/>"
      ],
      "text/plain": [
       "<IPython.core.display.HTML object>"
      ]
     },
     "metadata": {},
     "output_type": "display_data"
    },
    {
     "data": {
      "application/vnd.jupyter.widget-view+json": {
       "model_id": "e68109616462419ea18a941e8ac84a5f",
       "version_major": 2,
       "version_minor": 0
      },
      "text/plain": [
       "VBox(children=(Label(value='Waiting for wandb.init()...\\r'), FloatProgress(value=0.016669657717769345, max=1.0…"
      ]
     },
     "metadata": {},
     "output_type": "display_data"
    },
    {
     "data": {
      "text/html": [
       "Tracking run with wandb version 0.13.10"
      ],
      "text/plain": [
       "<IPython.core.display.HTML object>"
      ]
     },
     "metadata": {},
     "output_type": "display_data"
    },
    {
     "data": {
      "text/html": [
       "Run data is saved locally in <code>/notebooks/wandb/run-20230223_092152-7mhm5ndo</code>"
      ],
      "text/plain": [
       "<IPython.core.display.HTML object>"
      ]
     },
     "metadata": {},
     "output_type": "display_data"
    },
    {
     "data": {
      "text/html": [
       "Syncing run <strong><a href='https://wandb.ai/ahmedsamirio/nfl-1st-and-future/runs/7mhm5ndo' target=\"_blank\">tiny-pp-fold-0</a></strong> to <a href='https://wandb.ai/ahmedsamirio/nfl-1st-and-future' target=\"_blank\">Weights & Biases</a> (<a href='https://wandb.me/run' target=\"_blank\">docs</a>)<br/>"
      ],
      "text/plain": [
       "<IPython.core.display.HTML object>"
      ]
     },
     "metadata": {},
     "output_type": "display_data"
    },
    {
     "data": {
      "text/html": [
       " View project at <a href='https://wandb.ai/ahmedsamirio/nfl-1st-and-future' target=\"_blank\">https://wandb.ai/ahmedsamirio/nfl-1st-and-future</a>"
      ],
      "text/plain": [
       "<IPython.core.display.HTML object>"
      ]
     },
     "metadata": {},
     "output_type": "display_data"
    },
    {
     "data": {
      "text/html": [
       " View run at <a href='https://wandb.ai/ahmedsamirio/nfl-1st-and-future/runs/7mhm5ndo' target=\"_blank\">https://wandb.ai/ahmedsamirio/nfl-1st-and-future/runs/7mhm5ndo</a>"
      ],
      "text/plain": [
       "<IPython.core.display.HTML object>"
      ]
     },
     "metadata": {},
     "output_type": "display_data"
    },
    {
     "data": {
      "text/html": [
       "<button onClick=\"this.nextSibling.style.display='block';this.style.display='none';\">Display W&B run</button><iframe src='https://wandb.ai/ahmedsamirio/nfl-1st-and-future/runs/7mhm5ndo?jupyter=true' style='border:none;width:100%;height:420px;display:none;'></iframe>"
      ],
      "text/plain": [
       "<wandb.sdk.wandb_run.Run at 0x7feae13c82e0>"
      ]
     },
     "execution_count": 32,
     "metadata": {},
     "output_type": "execute_result"
    }
   ],
   "source": [
    "split = 0\n",
    "name = f'tiny-pp-fold-{split}'\n",
    "# wandb.init(project='nfl-1st-and-future', group='pp-folds', name=name, force=True)"
   ]
  },
  {
   "cell_type": "code",
   "execution_count": 33,
   "id": "fd3723a0-8e9d-4aaf-87eb-83e752df2022",
   "metadata": {},
   "outputs": [],
   "source": [
    "mean = [0.485, 0.456, 0.406]\n",
    "std = [0.229, 0.224, 0.225]\n",
    "train_transform = A.Compose(\n",
    "    [\n",
    "        A.HorizontalFlip(),\n",
    "        A.ShiftScaleRotate(shift_limit=0.05, scale_limit=0.05, rotate_limit=15, p=0.5),\n",
    "        A.RandomBrightnessContrast(p=0.5),\n",
    "        A.Normalize(mean=mean, std=std),\n",
    "        ToTensorV2(),\n",
    "    ]\n",
    ")\n",
    "\n",
    "val_transform = A.Compose(\n",
    "    [\n",
    "        A.Normalize(mean=mean, std=mean),\n",
    "        ToTensorV2(),\n",
    "    ]\n",
    ")"
   ]
  },
  {
   "cell_type": "code",
   "execution_count": 34,
   "id": "65d055fa-a6bb-42da-95e2-38054e59b1db",
   "metadata": {},
   "outputs": [],
   "source": [
    "seed = 42\n",
    "set_seed(seed, True)\n",
    "\n",
    "df = df_combo_with_helmets[(df_combo_with_helmets.left_2.notnull())].copy()\n",
    "\n",
    "frames_kwargs = dict(frames_path=CFG.frames_path, offset=0, sample_every_n_frame=6, undersample_no_contact=True, seed=seed)\n",
    "\n",
    "data = get_dls(df, kf_dict, split, train_transform, val_transform, frames_kwargs=frames_kwargs, dl=NFLFrameTrackingDataset, bs=64)\n",
    "\n",
    "model = FrameTrackingModel('convnext_tiny')\n",
    "learn = Learner(data, model, CrossEntropyLossFlat(),\n",
    "                metrics=[accuracy, MatthewsCorrCoef(), Recall(), Precision(), F1Score()],\n",
    "                cbs=[\n",
    "                        ShuffleGamePlayCallBack(df, kf_dict, 0, train_transform, val_transform, frames_kwargs, dl=NFLFrameTrackingDataset),\n",
    "                        WandbCallback(log_preds=False, seed=seed),\n",
    "                        SaveModelCallback(monitor='matthews_corrcoef', fname=name),\n",
    "                        # GradientAccumulation(90)\n",
    "                        # MixUp()\n",
    "                ]\n",
    "               ).to_fp16()"
   ]
  },
  {
   "cell_type": "code",
   "execution_count": 35,
   "id": "efc2de8c-5573-488d-b9ce-6fb61485b0de",
   "metadata": {},
   "outputs": [
    {
     "name": "stdout",
     "output_type": "stream",
     "text": [
      "Could not gather input dimensions\n"
     ]
    },
    {
     "data": {
      "text/html": [
       "\n",
       "<style>\n",
       "    /* Turns off some styling */\n",
       "    progress {\n",
       "        /* gets rid of default border in Firefox and Opera. */\n",
       "        border: none;\n",
       "        /* Needs to be in here for Safari polyfill so background images work as expected. */\n",
       "        background-size: auto;\n",
       "    }\n",
       "    progress:not([value]), progress:not([value])::-webkit-progress-bar {\n",
       "        background: repeating-linear-gradient(45deg, #7e7e7e, #7e7e7e 10px, #5c5c5c 10px, #5c5c5c 20px);\n",
       "    }\n",
       "    .progress-bar-interrupted, .progress-bar-interrupted::-webkit-progress-bar {\n",
       "        background: #F44336;\n",
       "    }\n",
       "</style>\n"
      ],
      "text/plain": [
       "<IPython.core.display.HTML object>"
      ]
     },
     "metadata": {},
     "output_type": "display_data"
    },
    {
     "data": {
      "text/html": [
       "\n",
       "    <div>\n",
       "      <progress value='0' class='' max='10' style='width:300px; height:20px; vertical-align: middle;'></progress>\n",
       "      0.00% [0/10 00:00&lt;?]\n",
       "    </div>\n",
       "    \n",
       "<table border=\"1\" class=\"dataframe\">\n",
       "  <thead>\n",
       "    <tr style=\"text-align: left;\">\n",
       "      <th>epoch</th>\n",
       "      <th>train_loss</th>\n",
       "      <th>valid_loss</th>\n",
       "      <th>accuracy</th>\n",
       "      <th>matthews_corrcoef</th>\n",
       "      <th>recall_score</th>\n",
       "      <th>precision_score</th>\n",
       "      <th>f1_score</th>\n",
       "      <th>time</th>\n",
       "    </tr>\n",
       "  </thead>\n",
       "  <tbody>\n",
       "  </tbody>\n",
       "</table><p>\n",
       "\n",
       "    <div>\n",
       "      <progress value='241' class='' max='2027' style='width:300px; height:20px; vertical-align: middle;'></progress>\n",
       "      11.89% [241/2027 01:21&lt;10:05 0.6353]\n",
       "    </div>\n",
       "    "
      ],
      "text/plain": [
       "<IPython.core.display.HTML object>"
      ]
     },
     "metadata": {},
     "output_type": "display_data"
    },
    {
     "ename": "KeyboardInterrupt",
     "evalue": "",
     "output_type": "error",
     "traceback": [
      "\u001b[0;31m---------------------------------------------------------------------------\u001b[0m",
      "\u001b[0;31mKeyboardInterrupt\u001b[0m                         Traceback (most recent call last)",
      "Input \u001b[0;32mIn [35]\u001b[0m, in \u001b[0;36m<cell line: 1>\u001b[0;34m()\u001b[0m\n\u001b[0;32m----> 1\u001b[0m \u001b[43mlearn\u001b[49m\u001b[38;5;241;43m.\u001b[39;49m\u001b[43mfit_one_cycle\u001b[49m\u001b[43m(\u001b[49m\u001b[38;5;241;43m10\u001b[39;49m\u001b[43m,\u001b[49m\u001b[43m \u001b[49m\u001b[38;5;241;43m1e-3\u001b[39;49m\u001b[43m)\u001b[49m\n",
      "File \u001b[0;32m/usr/local/lib/python3.9/dist-packages/fastai/callback/schedule.py:119\u001b[0m, in \u001b[0;36mfit_one_cycle\u001b[0;34m(self, n_epoch, lr_max, div, div_final, pct_start, wd, moms, cbs, reset_opt, start_epoch)\u001b[0m\n\u001b[1;32m    116\u001b[0m lr_max \u001b[38;5;241m=\u001b[39m np\u001b[38;5;241m.\u001b[39marray([h[\u001b[38;5;124m'\u001b[39m\u001b[38;5;124mlr\u001b[39m\u001b[38;5;124m'\u001b[39m] \u001b[38;5;28;01mfor\u001b[39;00m h \u001b[38;5;129;01min\u001b[39;00m \u001b[38;5;28mself\u001b[39m\u001b[38;5;241m.\u001b[39mopt\u001b[38;5;241m.\u001b[39mhypers])\n\u001b[1;32m    117\u001b[0m scheds \u001b[38;5;241m=\u001b[39m {\u001b[38;5;124m'\u001b[39m\u001b[38;5;124mlr\u001b[39m\u001b[38;5;124m'\u001b[39m: combined_cos(pct_start, lr_max\u001b[38;5;241m/\u001b[39mdiv, lr_max, lr_max\u001b[38;5;241m/\u001b[39mdiv_final),\n\u001b[1;32m    118\u001b[0m           \u001b[38;5;124m'\u001b[39m\u001b[38;5;124mmom\u001b[39m\u001b[38;5;124m'\u001b[39m: combined_cos(pct_start, \u001b[38;5;241m*\u001b[39m(\u001b[38;5;28mself\u001b[39m\u001b[38;5;241m.\u001b[39mmoms \u001b[38;5;28;01mif\u001b[39;00m moms \u001b[38;5;129;01mis\u001b[39;00m \u001b[38;5;28;01mNone\u001b[39;00m \u001b[38;5;28;01melse\u001b[39;00m moms))}\n\u001b[0;32m--> 119\u001b[0m \u001b[38;5;28;43mself\u001b[39;49m\u001b[38;5;241;43m.\u001b[39;49m\u001b[43mfit\u001b[49m\u001b[43m(\u001b[49m\u001b[43mn_epoch\u001b[49m\u001b[43m,\u001b[49m\u001b[43m \u001b[49m\u001b[43mcbs\u001b[49m\u001b[38;5;241;43m=\u001b[39;49m\u001b[43mParamScheduler\u001b[49m\u001b[43m(\u001b[49m\u001b[43mscheds\u001b[49m\u001b[43m)\u001b[49m\u001b[38;5;241;43m+\u001b[39;49m\u001b[43mL\u001b[49m\u001b[43m(\u001b[49m\u001b[43mcbs\u001b[49m\u001b[43m)\u001b[49m\u001b[43m,\u001b[49m\u001b[43m \u001b[49m\u001b[43mreset_opt\u001b[49m\u001b[38;5;241;43m=\u001b[39;49m\u001b[43mreset_opt\u001b[49m\u001b[43m,\u001b[49m\u001b[43m \u001b[49m\u001b[43mwd\u001b[49m\u001b[38;5;241;43m=\u001b[39;49m\u001b[43mwd\u001b[49m\u001b[43m,\u001b[49m\u001b[43m \u001b[49m\u001b[43mstart_epoch\u001b[49m\u001b[38;5;241;43m=\u001b[39;49m\u001b[43mstart_epoch\u001b[49m\u001b[43m)\u001b[49m\n",
      "File \u001b[0;32m/usr/local/lib/python3.9/dist-packages/fastai/learner.py:264\u001b[0m, in \u001b[0;36mLearner.fit\u001b[0;34m(self, n_epoch, lr, wd, cbs, reset_opt, start_epoch)\u001b[0m\n\u001b[1;32m    262\u001b[0m \u001b[38;5;28mself\u001b[39m\u001b[38;5;241m.\u001b[39mopt\u001b[38;5;241m.\u001b[39mset_hypers(lr\u001b[38;5;241m=\u001b[39m\u001b[38;5;28mself\u001b[39m\u001b[38;5;241m.\u001b[39mlr \u001b[38;5;28;01mif\u001b[39;00m lr \u001b[38;5;129;01mis\u001b[39;00m \u001b[38;5;28;01mNone\u001b[39;00m \u001b[38;5;28;01melse\u001b[39;00m lr)\n\u001b[1;32m    263\u001b[0m \u001b[38;5;28mself\u001b[39m\u001b[38;5;241m.\u001b[39mn_epoch \u001b[38;5;241m=\u001b[39m n_epoch\n\u001b[0;32m--> 264\u001b[0m \u001b[38;5;28;43mself\u001b[39;49m\u001b[38;5;241;43m.\u001b[39;49m\u001b[43m_with_events\u001b[49m\u001b[43m(\u001b[49m\u001b[38;5;28;43mself\u001b[39;49m\u001b[38;5;241;43m.\u001b[39;49m\u001b[43m_do_fit\u001b[49m\u001b[43m,\u001b[49m\u001b[43m \u001b[49m\u001b[38;5;124;43m'\u001b[39;49m\u001b[38;5;124;43mfit\u001b[39;49m\u001b[38;5;124;43m'\u001b[39;49m\u001b[43m,\u001b[49m\u001b[43m \u001b[49m\u001b[43mCancelFitException\u001b[49m\u001b[43m,\u001b[49m\u001b[43m \u001b[49m\u001b[38;5;28;43mself\u001b[39;49m\u001b[38;5;241;43m.\u001b[39;49m\u001b[43m_end_cleanup\u001b[49m\u001b[43m)\u001b[49m\n",
      "File \u001b[0;32m/usr/local/lib/python3.9/dist-packages/fastai/learner.py:199\u001b[0m, in \u001b[0;36mLearner._with_events\u001b[0;34m(self, f, event_type, ex, final)\u001b[0m\n\u001b[1;32m    198\u001b[0m \u001b[38;5;28;01mdef\u001b[39;00m \u001b[38;5;21m_with_events\u001b[39m(\u001b[38;5;28mself\u001b[39m, f, event_type, ex, final\u001b[38;5;241m=\u001b[39mnoop):\n\u001b[0;32m--> 199\u001b[0m     \u001b[38;5;28;01mtry\u001b[39;00m: \u001b[38;5;28mself\u001b[39m(\u001b[38;5;124mf\u001b[39m\u001b[38;5;124m'\u001b[39m\u001b[38;5;124mbefore_\u001b[39m\u001b[38;5;132;01m{\u001b[39;00mevent_type\u001b[38;5;132;01m}\u001b[39;00m\u001b[38;5;124m'\u001b[39m);  \u001b[43mf\u001b[49m\u001b[43m(\u001b[49m\u001b[43m)\u001b[49m\n\u001b[1;32m    200\u001b[0m     \u001b[38;5;28;01mexcept\u001b[39;00m ex: \u001b[38;5;28mself\u001b[39m(\u001b[38;5;124mf\u001b[39m\u001b[38;5;124m'\u001b[39m\u001b[38;5;124mafter_cancel_\u001b[39m\u001b[38;5;132;01m{\u001b[39;00mevent_type\u001b[38;5;132;01m}\u001b[39;00m\u001b[38;5;124m'\u001b[39m)\n\u001b[1;32m    201\u001b[0m     \u001b[38;5;28mself\u001b[39m(\u001b[38;5;124mf\u001b[39m\u001b[38;5;124m'\u001b[39m\u001b[38;5;124mafter_\u001b[39m\u001b[38;5;132;01m{\u001b[39;00mevent_type\u001b[38;5;132;01m}\u001b[39;00m\u001b[38;5;124m'\u001b[39m);  final()\n",
      "File \u001b[0;32m/usr/local/lib/python3.9/dist-packages/fastai/learner.py:253\u001b[0m, in \u001b[0;36mLearner._do_fit\u001b[0;34m(self)\u001b[0m\n\u001b[1;32m    251\u001b[0m \u001b[38;5;28;01mfor\u001b[39;00m epoch \u001b[38;5;129;01min\u001b[39;00m \u001b[38;5;28mrange\u001b[39m(\u001b[38;5;28mself\u001b[39m\u001b[38;5;241m.\u001b[39mn_epoch):\n\u001b[1;32m    252\u001b[0m     \u001b[38;5;28mself\u001b[39m\u001b[38;5;241m.\u001b[39mepoch\u001b[38;5;241m=\u001b[39mepoch\n\u001b[0;32m--> 253\u001b[0m     \u001b[38;5;28;43mself\u001b[39;49m\u001b[38;5;241;43m.\u001b[39;49m\u001b[43m_with_events\u001b[49m\u001b[43m(\u001b[49m\u001b[38;5;28;43mself\u001b[39;49m\u001b[38;5;241;43m.\u001b[39;49m\u001b[43m_do_epoch\u001b[49m\u001b[43m,\u001b[49m\u001b[43m \u001b[49m\u001b[38;5;124;43m'\u001b[39;49m\u001b[38;5;124;43mepoch\u001b[39;49m\u001b[38;5;124;43m'\u001b[39;49m\u001b[43m,\u001b[49m\u001b[43m \u001b[49m\u001b[43mCancelEpochException\u001b[49m\u001b[43m)\u001b[49m\n",
      "File \u001b[0;32m/usr/local/lib/python3.9/dist-packages/fastai/learner.py:199\u001b[0m, in \u001b[0;36mLearner._with_events\u001b[0;34m(self, f, event_type, ex, final)\u001b[0m\n\u001b[1;32m    198\u001b[0m \u001b[38;5;28;01mdef\u001b[39;00m \u001b[38;5;21m_with_events\u001b[39m(\u001b[38;5;28mself\u001b[39m, f, event_type, ex, final\u001b[38;5;241m=\u001b[39mnoop):\n\u001b[0;32m--> 199\u001b[0m     \u001b[38;5;28;01mtry\u001b[39;00m: \u001b[38;5;28mself\u001b[39m(\u001b[38;5;124mf\u001b[39m\u001b[38;5;124m'\u001b[39m\u001b[38;5;124mbefore_\u001b[39m\u001b[38;5;132;01m{\u001b[39;00mevent_type\u001b[38;5;132;01m}\u001b[39;00m\u001b[38;5;124m'\u001b[39m);  \u001b[43mf\u001b[49m\u001b[43m(\u001b[49m\u001b[43m)\u001b[49m\n\u001b[1;32m    200\u001b[0m     \u001b[38;5;28;01mexcept\u001b[39;00m ex: \u001b[38;5;28mself\u001b[39m(\u001b[38;5;124mf\u001b[39m\u001b[38;5;124m'\u001b[39m\u001b[38;5;124mafter_cancel_\u001b[39m\u001b[38;5;132;01m{\u001b[39;00mevent_type\u001b[38;5;132;01m}\u001b[39;00m\u001b[38;5;124m'\u001b[39m)\n\u001b[1;32m    201\u001b[0m     \u001b[38;5;28mself\u001b[39m(\u001b[38;5;124mf\u001b[39m\u001b[38;5;124m'\u001b[39m\u001b[38;5;124mafter_\u001b[39m\u001b[38;5;132;01m{\u001b[39;00mevent_type\u001b[38;5;132;01m}\u001b[39;00m\u001b[38;5;124m'\u001b[39m);  final()\n",
      "File \u001b[0;32m/usr/local/lib/python3.9/dist-packages/fastai/learner.py:247\u001b[0m, in \u001b[0;36mLearner._do_epoch\u001b[0;34m(self)\u001b[0m\n\u001b[1;32m    246\u001b[0m \u001b[38;5;28;01mdef\u001b[39;00m \u001b[38;5;21m_do_epoch\u001b[39m(\u001b[38;5;28mself\u001b[39m):\n\u001b[0;32m--> 247\u001b[0m     \u001b[38;5;28;43mself\u001b[39;49m\u001b[38;5;241;43m.\u001b[39;49m\u001b[43m_do_epoch_train\u001b[49m\u001b[43m(\u001b[49m\u001b[43m)\u001b[49m\n\u001b[1;32m    248\u001b[0m     \u001b[38;5;28mself\u001b[39m\u001b[38;5;241m.\u001b[39m_do_epoch_validate()\n",
      "File \u001b[0;32m/usr/local/lib/python3.9/dist-packages/fastai/learner.py:239\u001b[0m, in \u001b[0;36mLearner._do_epoch_train\u001b[0;34m(self)\u001b[0m\n\u001b[1;32m    237\u001b[0m \u001b[38;5;28;01mdef\u001b[39;00m \u001b[38;5;21m_do_epoch_train\u001b[39m(\u001b[38;5;28mself\u001b[39m):\n\u001b[1;32m    238\u001b[0m     \u001b[38;5;28mself\u001b[39m\u001b[38;5;241m.\u001b[39mdl \u001b[38;5;241m=\u001b[39m \u001b[38;5;28mself\u001b[39m\u001b[38;5;241m.\u001b[39mdls\u001b[38;5;241m.\u001b[39mtrain\n\u001b[0;32m--> 239\u001b[0m     \u001b[38;5;28;43mself\u001b[39;49m\u001b[38;5;241;43m.\u001b[39;49m\u001b[43m_with_events\u001b[49m\u001b[43m(\u001b[49m\u001b[38;5;28;43mself\u001b[39;49m\u001b[38;5;241;43m.\u001b[39;49m\u001b[43mall_batches\u001b[49m\u001b[43m,\u001b[49m\u001b[43m \u001b[49m\u001b[38;5;124;43m'\u001b[39;49m\u001b[38;5;124;43mtrain\u001b[39;49m\u001b[38;5;124;43m'\u001b[39;49m\u001b[43m,\u001b[49m\u001b[43m \u001b[49m\u001b[43mCancelTrainException\u001b[49m\u001b[43m)\u001b[49m\n",
      "File \u001b[0;32m/usr/local/lib/python3.9/dist-packages/fastai/learner.py:199\u001b[0m, in \u001b[0;36mLearner._with_events\u001b[0;34m(self, f, event_type, ex, final)\u001b[0m\n\u001b[1;32m    198\u001b[0m \u001b[38;5;28;01mdef\u001b[39;00m \u001b[38;5;21m_with_events\u001b[39m(\u001b[38;5;28mself\u001b[39m, f, event_type, ex, final\u001b[38;5;241m=\u001b[39mnoop):\n\u001b[0;32m--> 199\u001b[0m     \u001b[38;5;28;01mtry\u001b[39;00m: \u001b[38;5;28mself\u001b[39m(\u001b[38;5;124mf\u001b[39m\u001b[38;5;124m'\u001b[39m\u001b[38;5;124mbefore_\u001b[39m\u001b[38;5;132;01m{\u001b[39;00mevent_type\u001b[38;5;132;01m}\u001b[39;00m\u001b[38;5;124m'\u001b[39m);  \u001b[43mf\u001b[49m\u001b[43m(\u001b[49m\u001b[43m)\u001b[49m\n\u001b[1;32m    200\u001b[0m     \u001b[38;5;28;01mexcept\u001b[39;00m ex: \u001b[38;5;28mself\u001b[39m(\u001b[38;5;124mf\u001b[39m\u001b[38;5;124m'\u001b[39m\u001b[38;5;124mafter_cancel_\u001b[39m\u001b[38;5;132;01m{\u001b[39;00mevent_type\u001b[38;5;132;01m}\u001b[39;00m\u001b[38;5;124m'\u001b[39m)\n\u001b[1;32m    201\u001b[0m     \u001b[38;5;28mself\u001b[39m(\u001b[38;5;124mf\u001b[39m\u001b[38;5;124m'\u001b[39m\u001b[38;5;124mafter_\u001b[39m\u001b[38;5;132;01m{\u001b[39;00mevent_type\u001b[38;5;132;01m}\u001b[39;00m\u001b[38;5;124m'\u001b[39m);  final()\n",
      "File \u001b[0;32m/usr/local/lib/python3.9/dist-packages/fastai/learner.py:205\u001b[0m, in \u001b[0;36mLearner.all_batches\u001b[0;34m(self)\u001b[0m\n\u001b[1;32m    203\u001b[0m \u001b[38;5;28;01mdef\u001b[39;00m \u001b[38;5;21mall_batches\u001b[39m(\u001b[38;5;28mself\u001b[39m):\n\u001b[1;32m    204\u001b[0m     \u001b[38;5;28mself\u001b[39m\u001b[38;5;241m.\u001b[39mn_iter \u001b[38;5;241m=\u001b[39m \u001b[38;5;28mlen\u001b[39m(\u001b[38;5;28mself\u001b[39m\u001b[38;5;241m.\u001b[39mdl)\n\u001b[0;32m--> 205\u001b[0m     \u001b[38;5;28;01mfor\u001b[39;00m o \u001b[38;5;129;01min\u001b[39;00m \u001b[38;5;28menumerate\u001b[39m(\u001b[38;5;28mself\u001b[39m\u001b[38;5;241m.\u001b[39mdl): \u001b[38;5;28;43mself\u001b[39;49m\u001b[38;5;241;43m.\u001b[39;49m\u001b[43mone_batch\u001b[49m\u001b[43m(\u001b[49m\u001b[38;5;241;43m*\u001b[39;49m\u001b[43mo\u001b[49m\u001b[43m)\u001b[49m\n",
      "File \u001b[0;32m/usr/local/lib/python3.9/dist-packages/fastai/learner.py:235\u001b[0m, in \u001b[0;36mLearner.one_batch\u001b[0;34m(self, i, b)\u001b[0m\n\u001b[1;32m    233\u001b[0m b \u001b[38;5;241m=\u001b[39m \u001b[38;5;28mself\u001b[39m\u001b[38;5;241m.\u001b[39m_set_device(b)\n\u001b[1;32m    234\u001b[0m \u001b[38;5;28mself\u001b[39m\u001b[38;5;241m.\u001b[39m_split(b)\n\u001b[0;32m--> 235\u001b[0m \u001b[38;5;28;43mself\u001b[39;49m\u001b[38;5;241;43m.\u001b[39;49m\u001b[43m_with_events\u001b[49m\u001b[43m(\u001b[49m\u001b[38;5;28;43mself\u001b[39;49m\u001b[38;5;241;43m.\u001b[39;49m\u001b[43m_do_one_batch\u001b[49m\u001b[43m,\u001b[49m\u001b[43m \u001b[49m\u001b[38;5;124;43m'\u001b[39;49m\u001b[38;5;124;43mbatch\u001b[39;49m\u001b[38;5;124;43m'\u001b[39;49m\u001b[43m,\u001b[49m\u001b[43m \u001b[49m\u001b[43mCancelBatchException\u001b[49m\u001b[43m)\u001b[49m\n",
      "File \u001b[0;32m/usr/local/lib/python3.9/dist-packages/fastai/learner.py:199\u001b[0m, in \u001b[0;36mLearner._with_events\u001b[0;34m(self, f, event_type, ex, final)\u001b[0m\n\u001b[1;32m    198\u001b[0m \u001b[38;5;28;01mdef\u001b[39;00m \u001b[38;5;21m_with_events\u001b[39m(\u001b[38;5;28mself\u001b[39m, f, event_type, ex, final\u001b[38;5;241m=\u001b[39mnoop):\n\u001b[0;32m--> 199\u001b[0m     \u001b[38;5;28;01mtry\u001b[39;00m: \u001b[38;5;28mself\u001b[39m(\u001b[38;5;124mf\u001b[39m\u001b[38;5;124m'\u001b[39m\u001b[38;5;124mbefore_\u001b[39m\u001b[38;5;132;01m{\u001b[39;00mevent_type\u001b[38;5;132;01m}\u001b[39;00m\u001b[38;5;124m'\u001b[39m);  \u001b[43mf\u001b[49m\u001b[43m(\u001b[49m\u001b[43m)\u001b[49m\n\u001b[1;32m    200\u001b[0m     \u001b[38;5;28;01mexcept\u001b[39;00m ex: \u001b[38;5;28mself\u001b[39m(\u001b[38;5;124mf\u001b[39m\u001b[38;5;124m'\u001b[39m\u001b[38;5;124mafter_cancel_\u001b[39m\u001b[38;5;132;01m{\u001b[39;00mevent_type\u001b[38;5;132;01m}\u001b[39;00m\u001b[38;5;124m'\u001b[39m)\n\u001b[1;32m    201\u001b[0m     \u001b[38;5;28mself\u001b[39m(\u001b[38;5;124mf\u001b[39m\u001b[38;5;124m'\u001b[39m\u001b[38;5;124mafter_\u001b[39m\u001b[38;5;132;01m{\u001b[39;00mevent_type\u001b[38;5;132;01m}\u001b[39;00m\u001b[38;5;124m'\u001b[39m);  final()\n",
      "File \u001b[0;32m/usr/local/lib/python3.9/dist-packages/fastai/learner.py:223\u001b[0m, in \u001b[0;36mLearner._do_one_batch\u001b[0;34m(self)\u001b[0m\n\u001b[1;32m    221\u001b[0m \u001b[38;5;28mself\u001b[39m(\u001b[38;5;124m'\u001b[39m\u001b[38;5;124mafter_loss\u001b[39m\u001b[38;5;124m'\u001b[39m)\n\u001b[1;32m    222\u001b[0m \u001b[38;5;28;01mif\u001b[39;00m \u001b[38;5;129;01mnot\u001b[39;00m \u001b[38;5;28mself\u001b[39m\u001b[38;5;241m.\u001b[39mtraining \u001b[38;5;129;01mor\u001b[39;00m \u001b[38;5;129;01mnot\u001b[39;00m \u001b[38;5;28mlen\u001b[39m(\u001b[38;5;28mself\u001b[39m\u001b[38;5;241m.\u001b[39myb): \u001b[38;5;28;01mreturn\u001b[39;00m\n\u001b[0;32m--> 223\u001b[0m \u001b[38;5;28;43mself\u001b[39;49m\u001b[38;5;241;43m.\u001b[39;49m\u001b[43m_do_grad_opt\u001b[49m\u001b[43m(\u001b[49m\u001b[43m)\u001b[49m\n",
      "File \u001b[0;32m/usr/local/lib/python3.9/dist-packages/fastai/learner.py:212\u001b[0m, in \u001b[0;36mLearner._do_grad_opt\u001b[0;34m(self)\u001b[0m\n\u001b[1;32m    210\u001b[0m \u001b[38;5;28;01mdef\u001b[39;00m \u001b[38;5;21m_do_grad_opt\u001b[39m(\u001b[38;5;28mself\u001b[39m):\n\u001b[1;32m    211\u001b[0m     \u001b[38;5;28mself\u001b[39m\u001b[38;5;241m.\u001b[39m_with_events(\u001b[38;5;28mself\u001b[39m\u001b[38;5;241m.\u001b[39m_backward, \u001b[38;5;124m'\u001b[39m\u001b[38;5;124mbackward\u001b[39m\u001b[38;5;124m'\u001b[39m, CancelBackwardException)\n\u001b[0;32m--> 212\u001b[0m     \u001b[38;5;28;43mself\u001b[39;49m\u001b[38;5;241;43m.\u001b[39;49m\u001b[43m_with_events\u001b[49m\u001b[43m(\u001b[49m\u001b[38;5;28;43mself\u001b[39;49m\u001b[38;5;241;43m.\u001b[39;49m\u001b[43m_step\u001b[49m\u001b[43m,\u001b[49m\u001b[43m \u001b[49m\u001b[38;5;124;43m'\u001b[39;49m\u001b[38;5;124;43mstep\u001b[39;49m\u001b[38;5;124;43m'\u001b[39;49m\u001b[43m,\u001b[49m\u001b[43m \u001b[49m\u001b[43mCancelStepException\u001b[49m\u001b[43m)\u001b[49m\n\u001b[1;32m    213\u001b[0m     \u001b[38;5;28mself\u001b[39m\u001b[38;5;241m.\u001b[39mopt\u001b[38;5;241m.\u001b[39mzero_grad()\n",
      "File \u001b[0;32m/usr/local/lib/python3.9/dist-packages/fastai/learner.py:199\u001b[0m, in \u001b[0;36mLearner._with_events\u001b[0;34m(self, f, event_type, ex, final)\u001b[0m\n\u001b[1;32m    198\u001b[0m \u001b[38;5;28;01mdef\u001b[39;00m \u001b[38;5;21m_with_events\u001b[39m(\u001b[38;5;28mself\u001b[39m, f, event_type, ex, final\u001b[38;5;241m=\u001b[39mnoop):\n\u001b[0;32m--> 199\u001b[0m     \u001b[38;5;28;01mtry\u001b[39;00m: \u001b[38;5;28;43mself\u001b[39;49m\u001b[43m(\u001b[49m\u001b[38;5;124;43mf\u001b[39;49m\u001b[38;5;124;43m'\u001b[39;49m\u001b[38;5;124;43mbefore_\u001b[39;49m\u001b[38;5;132;43;01m{\u001b[39;49;00m\u001b[43mevent_type\u001b[49m\u001b[38;5;132;43;01m}\u001b[39;49;00m\u001b[38;5;124;43m'\u001b[39;49m\u001b[43m)\u001b[49m;  f()\n\u001b[1;32m    200\u001b[0m     \u001b[38;5;28;01mexcept\u001b[39;00m ex: \u001b[38;5;28mself\u001b[39m(\u001b[38;5;124mf\u001b[39m\u001b[38;5;124m'\u001b[39m\u001b[38;5;124mafter_cancel_\u001b[39m\u001b[38;5;132;01m{\u001b[39;00mevent_type\u001b[38;5;132;01m}\u001b[39;00m\u001b[38;5;124m'\u001b[39m)\n\u001b[1;32m    201\u001b[0m     \u001b[38;5;28mself\u001b[39m(\u001b[38;5;124mf\u001b[39m\u001b[38;5;124m'\u001b[39m\u001b[38;5;124mafter_\u001b[39m\u001b[38;5;132;01m{\u001b[39;00mevent_type\u001b[38;5;132;01m}\u001b[39;00m\u001b[38;5;124m'\u001b[39m);  final()\n",
      "File \u001b[0;32m/usr/local/lib/python3.9/dist-packages/fastai/learner.py:172\u001b[0m, in \u001b[0;36mLearner.__call__\u001b[0;34m(self, event_name)\u001b[0m\n\u001b[0;32m--> 172\u001b[0m \u001b[38;5;28;01mdef\u001b[39;00m \u001b[38;5;21m__call__\u001b[39m(\u001b[38;5;28mself\u001b[39m, event_name): \u001b[43mL\u001b[49m\u001b[43m(\u001b[49m\u001b[43mevent_name\u001b[49m\u001b[43m)\u001b[49m\u001b[38;5;241;43m.\u001b[39;49m\u001b[43mmap\u001b[49m\u001b[43m(\u001b[49m\u001b[38;5;28;43mself\u001b[39;49m\u001b[38;5;241;43m.\u001b[39;49m\u001b[43m_call_one\u001b[49m\u001b[43m)\u001b[49m\n",
      "File \u001b[0;32m/usr/local/lib/python3.9/dist-packages/fastcore/foundation.py:156\u001b[0m, in \u001b[0;36mL.map\u001b[0;34m(self, f, *args, **kwargs)\u001b[0m\n\u001b[0;32m--> 156\u001b[0m \u001b[38;5;28;01mdef\u001b[39;00m \u001b[38;5;21mmap\u001b[39m(\u001b[38;5;28mself\u001b[39m, f, \u001b[38;5;241m*\u001b[39margs, \u001b[38;5;241m*\u001b[39m\u001b[38;5;241m*\u001b[39mkwargs): \u001b[38;5;28;01mreturn\u001b[39;00m \u001b[38;5;28mself\u001b[39m\u001b[38;5;241m.\u001b[39m_new(\u001b[43mmap_ex\u001b[49m\u001b[43m(\u001b[49m\u001b[38;5;28;43mself\u001b[39;49m\u001b[43m,\u001b[49m\u001b[43m \u001b[49m\u001b[43mf\u001b[49m\u001b[43m,\u001b[49m\u001b[43m \u001b[49m\u001b[38;5;241;43m*\u001b[39;49m\u001b[43margs\u001b[49m\u001b[43m,\u001b[49m\u001b[43m \u001b[49m\u001b[43mgen\u001b[49m\u001b[38;5;241;43m=\u001b[39;49m\u001b[38;5;28;43;01mFalse\u001b[39;49;00m\u001b[43m,\u001b[49m\u001b[43m \u001b[49m\u001b[38;5;241;43m*\u001b[39;49m\u001b[38;5;241;43m*\u001b[39;49m\u001b[43mkwargs\u001b[49m\u001b[43m)\u001b[49m)\n",
      "File \u001b[0;32m/usr/local/lib/python3.9/dist-packages/fastcore/basics.py:840\u001b[0m, in \u001b[0;36mmap_ex\u001b[0;34m(iterable, f, gen, *args, **kwargs)\u001b[0m\n\u001b[1;32m    838\u001b[0m res \u001b[38;5;241m=\u001b[39m \u001b[38;5;28mmap\u001b[39m(g, iterable)\n\u001b[1;32m    839\u001b[0m \u001b[38;5;28;01mif\u001b[39;00m gen: \u001b[38;5;28;01mreturn\u001b[39;00m res\n\u001b[0;32m--> 840\u001b[0m \u001b[38;5;28;01mreturn\u001b[39;00m \u001b[38;5;28;43mlist\u001b[39;49m\u001b[43m(\u001b[49m\u001b[43mres\u001b[49m\u001b[43m)\u001b[49m\n",
      "File \u001b[0;32m/usr/local/lib/python3.9/dist-packages/fastcore/basics.py:825\u001b[0m, in \u001b[0;36mbind.__call__\u001b[0;34m(self, *args, **kwargs)\u001b[0m\n\u001b[1;32m    823\u001b[0m     \u001b[38;5;28;01mif\u001b[39;00m \u001b[38;5;28misinstance\u001b[39m(v,_Arg): kwargs[k] \u001b[38;5;241m=\u001b[39m args\u001b[38;5;241m.\u001b[39mpop(v\u001b[38;5;241m.\u001b[39mi)\n\u001b[1;32m    824\u001b[0m fargs \u001b[38;5;241m=\u001b[39m [args[x\u001b[38;5;241m.\u001b[39mi] \u001b[38;5;28;01mif\u001b[39;00m \u001b[38;5;28misinstance\u001b[39m(x, _Arg) \u001b[38;5;28;01melse\u001b[39;00m x \u001b[38;5;28;01mfor\u001b[39;00m x \u001b[38;5;129;01min\u001b[39;00m \u001b[38;5;28mself\u001b[39m\u001b[38;5;241m.\u001b[39mpargs] \u001b[38;5;241m+\u001b[39m args[\u001b[38;5;28mself\u001b[39m\u001b[38;5;241m.\u001b[39mmaxi\u001b[38;5;241m+\u001b[39m\u001b[38;5;241m1\u001b[39m:]\n\u001b[0;32m--> 825\u001b[0m \u001b[38;5;28;01mreturn\u001b[39;00m \u001b[38;5;28;43mself\u001b[39;49m\u001b[38;5;241;43m.\u001b[39;49m\u001b[43mfunc\u001b[49m\u001b[43m(\u001b[49m\u001b[38;5;241;43m*\u001b[39;49m\u001b[43mfargs\u001b[49m\u001b[43m,\u001b[49m\u001b[43m \u001b[49m\u001b[38;5;241;43m*\u001b[39;49m\u001b[38;5;241;43m*\u001b[39;49m\u001b[43mkwargs\u001b[49m\u001b[43m)\u001b[49m\n",
      "File \u001b[0;32m/usr/local/lib/python3.9/dist-packages/fastai/learner.py:176\u001b[0m, in \u001b[0;36mLearner._call_one\u001b[0;34m(self, event_name)\u001b[0m\n\u001b[1;32m    174\u001b[0m \u001b[38;5;28;01mdef\u001b[39;00m \u001b[38;5;21m_call_one\u001b[39m(\u001b[38;5;28mself\u001b[39m, event_name):\n\u001b[1;32m    175\u001b[0m     \u001b[38;5;28;01mif\u001b[39;00m \u001b[38;5;129;01mnot\u001b[39;00m \u001b[38;5;28mhasattr\u001b[39m(event, event_name): \u001b[38;5;28;01mraise\u001b[39;00m \u001b[38;5;167;01mException\u001b[39;00m(\u001b[38;5;124mf\u001b[39m\u001b[38;5;124m'\u001b[39m\u001b[38;5;124mmissing \u001b[39m\u001b[38;5;132;01m{\u001b[39;00mevent_name\u001b[38;5;132;01m}\u001b[39;00m\u001b[38;5;124m'\u001b[39m)\n\u001b[0;32m--> 176\u001b[0m     \u001b[38;5;28;01mfor\u001b[39;00m cb \u001b[38;5;129;01min\u001b[39;00m \u001b[38;5;28mself\u001b[39m\u001b[38;5;241m.\u001b[39mcbs\u001b[38;5;241m.\u001b[39msorted(\u001b[38;5;124m'\u001b[39m\u001b[38;5;124morder\u001b[39m\u001b[38;5;124m'\u001b[39m): \u001b[43mcb\u001b[49m\u001b[43m(\u001b[49m\u001b[43mevent_name\u001b[49m\u001b[43m)\u001b[49m\n",
      "File \u001b[0;32m/usr/local/lib/python3.9/dist-packages/fastai/callback/core.py:60\u001b[0m, in \u001b[0;36mCallback.__call__\u001b[0;34m(self, event_name)\u001b[0m\n\u001b[1;32m     58\u001b[0m res \u001b[38;5;241m=\u001b[39m \u001b[38;5;28;01mNone\u001b[39;00m\n\u001b[1;32m     59\u001b[0m \u001b[38;5;28;01mif\u001b[39;00m \u001b[38;5;28mself\u001b[39m\u001b[38;5;241m.\u001b[39mrun \u001b[38;5;129;01mand\u001b[39;00m _run: \n\u001b[0;32m---> 60\u001b[0m     \u001b[38;5;28;01mtry\u001b[39;00m: res \u001b[38;5;241m=\u001b[39m \u001b[43mgetcallable\u001b[49m\u001b[43m(\u001b[49m\u001b[38;5;28;43mself\u001b[39;49m\u001b[43m,\u001b[49m\u001b[43m \u001b[49m\u001b[43mevent_name\u001b[49m\u001b[43m)\u001b[49m\u001b[43m(\u001b[49m\u001b[43m)\u001b[49m\n\u001b[1;32m     61\u001b[0m     \u001b[38;5;28;01mexcept\u001b[39;00m (CancelBatchException, CancelBackwardException, CancelEpochException, CancelFitException, CancelStepException, CancelTrainException, CancelValidException): \u001b[38;5;28;01mraise\u001b[39;00m\n\u001b[1;32m     62\u001b[0m     \u001b[38;5;28;01mexcept\u001b[39;00m \u001b[38;5;167;01mException\u001b[39;00m \u001b[38;5;28;01mas\u001b[39;00m e: \u001b[38;5;28;01mraise\u001b[39;00m modify_exception(e, \u001b[38;5;124mf\u001b[39m\u001b[38;5;124m'\u001b[39m\u001b[38;5;124mException occured in `\u001b[39m\u001b[38;5;132;01m{\u001b[39;00m\u001b[38;5;28mself\u001b[39m\u001b[38;5;241m.\u001b[39m\u001b[38;5;18m__class__\u001b[39m\u001b[38;5;241m.\u001b[39m\u001b[38;5;18m__name__\u001b[39m\u001b[38;5;132;01m}\u001b[39;00m\u001b[38;5;124m` when calling event `\u001b[39m\u001b[38;5;132;01m{\u001b[39;00mevent_name\u001b[38;5;132;01m}\u001b[39;00m\u001b[38;5;124m`:\u001b[39m\u001b[38;5;130;01m\\n\u001b[39;00m\u001b[38;5;130;01m\\t\u001b[39;00m\u001b[38;5;132;01m{\u001b[39;00me\u001b[38;5;241m.\u001b[39margs[\u001b[38;5;241m0\u001b[39m]\u001b[38;5;132;01m}\u001b[39;00m\u001b[38;5;124m'\u001b[39m, replace\u001b[38;5;241m=\u001b[39m\u001b[38;5;28;01mTrue\u001b[39;00m)\n",
      "File \u001b[0;32m/usr/local/lib/python3.9/dist-packages/fastai/callback/fp16.py:31\u001b[0m, in \u001b[0;36mMixedPrecision.before_step\u001b[0;34m(self)\u001b[0m\n\u001b[1;32m     29\u001b[0m \u001b[38;5;124m\"\u001b[39m\u001b[38;5;124mUse `self` as a fake optimizer. `self.skipped` will be set to True `after_step` if gradients overflow. \u001b[39m\u001b[38;5;124m\"\u001b[39m\n\u001b[1;32m     30\u001b[0m \u001b[38;5;28mself\u001b[39m\u001b[38;5;241m.\u001b[39mskipped\u001b[38;5;241m=\u001b[39m\u001b[38;5;28;01mTrue\u001b[39;00m\n\u001b[0;32m---> 31\u001b[0m \u001b[38;5;28;43mself\u001b[39;49m\u001b[38;5;241;43m.\u001b[39;49m\u001b[43mscaler\u001b[49m\u001b[38;5;241;43m.\u001b[39;49m\u001b[43mstep\u001b[49m\u001b[43m(\u001b[49m\u001b[38;5;28;43mself\u001b[39;49m\u001b[43m)\u001b[49m\n\u001b[1;32m     32\u001b[0m \u001b[38;5;28;01mif\u001b[39;00m \u001b[38;5;28mself\u001b[39m\u001b[38;5;241m.\u001b[39mskipped: \u001b[38;5;28;01mraise\u001b[39;00m CancelStepException()\n\u001b[1;32m     33\u001b[0m \u001b[38;5;28mself\u001b[39m\u001b[38;5;241m.\u001b[39mscales\u001b[38;5;241m.\u001b[39mappend(\u001b[38;5;28mself\u001b[39m\u001b[38;5;241m.\u001b[39mscaler\u001b[38;5;241m.\u001b[39mget_scale())\n",
      "File \u001b[0;32m/usr/local/lib/python3.9/dist-packages/torch/cuda/amp/grad_scaler.py:338\u001b[0m, in \u001b[0;36mGradScaler.step\u001b[0;34m(self, optimizer, *args, **kwargs)\u001b[0m\n\u001b[1;32m    334\u001b[0m     \u001b[38;5;28mself\u001b[39m\u001b[38;5;241m.\u001b[39munscale_(optimizer)\n\u001b[1;32m    336\u001b[0m \u001b[38;5;28;01massert\u001b[39;00m \u001b[38;5;28mlen\u001b[39m(optimizer_state[\u001b[38;5;124m\"\u001b[39m\u001b[38;5;124mfound_inf_per_device\u001b[39m\u001b[38;5;124m\"\u001b[39m]) \u001b[38;5;241m>\u001b[39m \u001b[38;5;241m0\u001b[39m, \u001b[38;5;124m\"\u001b[39m\u001b[38;5;124mNo inf checks were recorded for this optimizer.\u001b[39m\u001b[38;5;124m\"\u001b[39m\n\u001b[0;32m--> 338\u001b[0m retval \u001b[38;5;241m=\u001b[39m \u001b[38;5;28;43mself\u001b[39;49m\u001b[38;5;241;43m.\u001b[39;49m\u001b[43m_maybe_opt_step\u001b[49m\u001b[43m(\u001b[49m\u001b[43moptimizer\u001b[49m\u001b[43m,\u001b[49m\u001b[43m \u001b[49m\u001b[43moptimizer_state\u001b[49m\u001b[43m,\u001b[49m\u001b[43m \u001b[49m\u001b[38;5;241;43m*\u001b[39;49m\u001b[43margs\u001b[49m\u001b[43m,\u001b[49m\u001b[43m \u001b[49m\u001b[38;5;241;43m*\u001b[39;49m\u001b[38;5;241;43m*\u001b[39;49m\u001b[43mkwargs\u001b[49m\u001b[43m)\u001b[49m\n\u001b[1;32m    340\u001b[0m optimizer_state[\u001b[38;5;124m\"\u001b[39m\u001b[38;5;124mstage\u001b[39m\u001b[38;5;124m\"\u001b[39m] \u001b[38;5;241m=\u001b[39m OptState\u001b[38;5;241m.\u001b[39mSTEPPED\n\u001b[1;32m    342\u001b[0m \u001b[38;5;28;01mreturn\u001b[39;00m retval\n",
      "File \u001b[0;32m/usr/local/lib/python3.9/dist-packages/torch/cuda/amp/grad_scaler.py:284\u001b[0m, in \u001b[0;36mGradScaler._maybe_opt_step\u001b[0;34m(self, optimizer, optimizer_state, *args, **kwargs)\u001b[0m\n\u001b[1;32m    282\u001b[0m \u001b[38;5;28;01mdef\u001b[39;00m \u001b[38;5;21m_maybe_opt_step\u001b[39m(\u001b[38;5;28mself\u001b[39m, optimizer, optimizer_state, \u001b[38;5;241m*\u001b[39margs, \u001b[38;5;241m*\u001b[39m\u001b[38;5;241m*\u001b[39mkwargs):\n\u001b[1;32m    283\u001b[0m     retval \u001b[38;5;241m=\u001b[39m \u001b[38;5;28;01mNone\u001b[39;00m\n\u001b[0;32m--> 284\u001b[0m     \u001b[38;5;28;01mif\u001b[39;00m \u001b[38;5;129;01mnot\u001b[39;00m \u001b[38;5;28;43msum\u001b[39;49m\u001b[43m(\u001b[49m\u001b[43mv\u001b[49m\u001b[38;5;241;43m.\u001b[39;49m\u001b[43mitem\u001b[49m\u001b[43m(\u001b[49m\u001b[43m)\u001b[49m\u001b[43m \u001b[49m\u001b[38;5;28;43;01mfor\u001b[39;49;00m\u001b[43m \u001b[49m\u001b[43mv\u001b[49m\u001b[43m \u001b[49m\u001b[38;5;129;43;01min\u001b[39;49;00m\u001b[43m \u001b[49m\u001b[43moptimizer_state\u001b[49m\u001b[43m[\u001b[49m\u001b[38;5;124;43m\"\u001b[39;49m\u001b[38;5;124;43mfound_inf_per_device\u001b[39;49m\u001b[38;5;124;43m\"\u001b[39;49m\u001b[43m]\u001b[49m\u001b[38;5;241;43m.\u001b[39;49m\u001b[43mvalues\u001b[49m\u001b[43m(\u001b[49m\u001b[43m)\u001b[49m\u001b[43m)\u001b[49m:\n\u001b[1;32m    285\u001b[0m         retval \u001b[38;5;241m=\u001b[39m optimizer\u001b[38;5;241m.\u001b[39mstep(\u001b[38;5;241m*\u001b[39margs, \u001b[38;5;241m*\u001b[39m\u001b[38;5;241m*\u001b[39mkwargs)\n\u001b[1;32m    286\u001b[0m     \u001b[38;5;28;01mreturn\u001b[39;00m retval\n",
      "File \u001b[0;32m/usr/local/lib/python3.9/dist-packages/torch/cuda/amp/grad_scaler.py:284\u001b[0m, in \u001b[0;36m<genexpr>\u001b[0;34m(.0)\u001b[0m\n\u001b[1;32m    282\u001b[0m \u001b[38;5;28;01mdef\u001b[39;00m \u001b[38;5;21m_maybe_opt_step\u001b[39m(\u001b[38;5;28mself\u001b[39m, optimizer, optimizer_state, \u001b[38;5;241m*\u001b[39margs, \u001b[38;5;241m*\u001b[39m\u001b[38;5;241m*\u001b[39mkwargs):\n\u001b[1;32m    283\u001b[0m     retval \u001b[38;5;241m=\u001b[39m \u001b[38;5;28;01mNone\u001b[39;00m\n\u001b[0;32m--> 284\u001b[0m     \u001b[38;5;28;01mif\u001b[39;00m \u001b[38;5;129;01mnot\u001b[39;00m \u001b[38;5;28msum\u001b[39m(\u001b[43mv\u001b[49m\u001b[38;5;241;43m.\u001b[39;49m\u001b[43mitem\u001b[49m\u001b[43m(\u001b[49m\u001b[43m)\u001b[49m \u001b[38;5;28;01mfor\u001b[39;00m v \u001b[38;5;129;01min\u001b[39;00m optimizer_state[\u001b[38;5;124m\"\u001b[39m\u001b[38;5;124mfound_inf_per_device\u001b[39m\u001b[38;5;124m\"\u001b[39m]\u001b[38;5;241m.\u001b[39mvalues()):\n\u001b[1;32m    285\u001b[0m         retval \u001b[38;5;241m=\u001b[39m optimizer\u001b[38;5;241m.\u001b[39mstep(\u001b[38;5;241m*\u001b[39margs, \u001b[38;5;241m*\u001b[39m\u001b[38;5;241m*\u001b[39mkwargs)\n\u001b[1;32m    286\u001b[0m     \u001b[38;5;28;01mreturn\u001b[39;00m retval\n",
      "\u001b[0;31mKeyboardInterrupt\u001b[0m: "
     ]
    }
   ],
   "source": [
    "learn.fit_one_cycle(10, 1e-3)"
   ]
  },
  {
   "cell_type": "code",
   "execution_count": null,
   "id": "f30fe6c9-04c9-467e-94dd-02049a7930a5",
   "metadata": {},
   "outputs": [],
   "source": [
    "torch.save(learn.model, f'nflutils/{name}.pkl')"
   ]
  },
  {
   "cell_type": "code",
   "execution_count": null,
   "id": "535a433f-36de-4115-aed4-649a209946a8",
   "metadata": {},
   "outputs": [],
   "source": [
    "learn.load(name)"
   ]
  },
  {
   "cell_type": "code",
   "execution_count": null,
   "id": "aef4fb95-0ed2-4345-9d39-90c93cfcacaa",
   "metadata": {},
   "outputs": [],
   "source": [
    "val_games = kf_dict[split]['val_games']\n",
    "\n",
    "val_df = df_combo_with_helmets.query('game_play in @val_games').copy()\n",
    "val_df = val_df[(val_df.left_2.notnull())].copy()\n",
    "val_df['frame'] = val_df['frame'].astype(int)\n",
    "\n",
    "test_ds = NFLFrameTrackingDataset(val_df, transform=val_transform, crop_size=256)\n",
    "\n",
    "test_loader = DataLoader(\n",
    "    test_ds, batch_size=64, shuffle=False, num_workers=8, pin_memory=True,\n",
    ")"
   ]
  },
  {
   "cell_type": "code",
   "execution_count": null,
   "id": "20d1eaac-278c-407a-a076-b20b0b546282",
   "metadata": {},
   "outputs": [],
   "source": [
    "preds, _ = learn.get_preds(dl=test_loader)"
   ]
  },
  {
   "cell_type": "code",
   "execution_count": null,
   "id": "1e148532-08ee-4c53-906d-1e3c372a887a",
   "metadata": {},
   "outputs": [],
   "source": [
    "val_df['contact_pred'] = preds[:, 1]\n",
    "\n",
    "val_df.to_parquet(f'{name}.parquet', index=False)"
   ]
  },
  {
   "cell_type": "code",
   "execution_count": null,
   "id": "69b890af-fe2d-45b1-aa91-17a7c52c29fa",
   "metadata": {},
   "outputs": [],
   "source": [
    "matthews_corrcoef(val_df.contact, val_df.contact_pred > 0.5)"
   ]
  },
  {
   "cell_type": "markdown",
   "id": "c7183824-cea2-4144-9395-47336f9eb110",
   "metadata": {
    "tags": []
   },
   "source": [
    "#### Fold 1"
   ]
  },
  {
   "cell_type": "code",
   "execution_count": 23,
   "id": "cdae0c30-30d9-4247-bc5f-80ac74c8384a",
   "metadata": {
    "tags": []
   },
   "outputs": [],
   "source": [
    "split = 1\n",
    "name = f'tiny-pp-fold-{split}'\n",
    "# wandb.init(project='nfl-1st-and-future', group='pp-folds', name=name, force=True)"
   ]
  },
  {
   "cell_type": "code",
   "execution_count": 24,
   "id": "2908054b-db65-466a-994b-aab81ec63989",
   "metadata": {},
   "outputs": [],
   "source": [
    "mean = [0.485, 0.456, 0.406]\n",
    "std = [0.229, 0.224, 0.225]\n",
    "train_transform = A.Compose(\n",
    "    [\n",
    "        A.HorizontalFlip(),\n",
    "        A.ShiftScaleRotate(shift_limit=0.05, scale_limit=0.05, rotate_limit=15, p=0.5),\n",
    "        A.RandomBrightnessContrast(p=0.5),\n",
    "        A.Normalize(mean=mean, std=std),\n",
    "        ToTensorV2(),\n",
    "    ]\n",
    ")\n",
    "\n",
    "val_transform = A.Compose(\n",
    "    [\n",
    "        A.Normalize(mean=mean, std=mean),\n",
    "        ToTensorV2(),\n",
    "    ]\n",
    ")"
   ]
  },
  {
   "cell_type": "code",
   "execution_count": 25,
   "id": "1772b9e9-fd5a-4f14-88ac-b483c4cc2396",
   "metadata": {},
   "outputs": [],
   "source": [
    "seed = 42\n",
    "set_seed(seed, True)\n",
    "\n",
    "df = df_combo_with_helmets[(df_combo_with_helmets.left_2.notnull())].copy()\n",
    "\n",
    "frames_kwargs = dict(frames_path=CFG.frames_path, offset=0, sample_every_n_frame=6, undersample_no_contact=True, seed=seed)\n",
    "\n",
    "data = get_dls(df, kf_dict, split, train_transform, val_transform, frames_kwargs=frames_kwargs, dl=NFLFrameTrackingDataset, bs=64)\n",
    "\n",
    "model = FrameTrackingModel('convnext_tiny')\n",
    "learn = Learner(data, model, CrossEntropyLossFlat(),\n",
    "                metrics=[accuracy, MatthewsCorrCoef(), Recall(), Precision(), F1Score()],\n",
    "                cbs=[\n",
    "                        ShuffleGamePlayCallBack(df, kf_dict, split, train_transform, val_transform, frames_kwargs, dl=NFLFrameTrackingDataset),\n",
    "                        # WandbCallback(log_preds=False, seed=seed),\n",
    "                        SaveModelCallback(monitor='matthews_corrcoef', fname=name),\n",
    "                        # GradientAccumulation(90)\n",
    "                        # MixUp()\n",
    "                ]\n",
    "               ).to_fp16()"
   ]
  },
  {
   "cell_type": "code",
   "execution_count": 39,
   "id": "7803d55d-3505-46dd-88e2-a576a49b7fa1",
   "metadata": {},
   "outputs": [
    {
     "name": "stdout",
     "output_type": "stream",
     "text": [
      "Could not gather input dimensions\n"
     ]
    },
    {
     "data": {
      "text/html": [
       "\n",
       "<style>\n",
       "    /* Turns off some styling */\n",
       "    progress {\n",
       "        /* gets rid of default border in Firefox and Opera. */\n",
       "        border: none;\n",
       "        /* Needs to be in here for Safari polyfill so background images work as expected. */\n",
       "        background-size: auto;\n",
       "    }\n",
       "    progress:not([value]), progress:not([value])::-webkit-progress-bar {\n",
       "        background: repeating-linear-gradient(45deg, #7e7e7e, #7e7e7e 10px, #5c5c5c 10px, #5c5c5c 20px);\n",
       "    }\n",
       "    .progress-bar-interrupted, .progress-bar-interrupted::-webkit-progress-bar {\n",
       "        background: #F44336;\n",
       "    }\n",
       "</style>\n"
      ],
      "text/plain": [
       "<IPython.core.display.HTML object>"
      ]
     },
     "metadata": {},
     "output_type": "display_data"
    },
    {
     "data": {
      "text/html": [
       "<table border=\"1\" class=\"dataframe\">\n",
       "  <thead>\n",
       "    <tr style=\"text-align: left;\">\n",
       "      <th>epoch</th>\n",
       "      <th>train_loss</th>\n",
       "      <th>valid_loss</th>\n",
       "      <th>accuracy</th>\n",
       "      <th>matthews_corrcoef</th>\n",
       "      <th>recall_score</th>\n",
       "      <th>precision_score</th>\n",
       "      <th>f1_score</th>\n",
       "      <th>time</th>\n",
       "    </tr>\n",
       "  </thead>\n",
       "  <tbody>\n",
       "    <tr>\n",
       "      <td>0</td>\n",
       "      <td>0.411693</td>\n",
       "      <td>0.329992</td>\n",
       "      <td>0.849594</td>\n",
       "      <td>0.572089</td>\n",
       "      <td>0.729110</td>\n",
       "      <td>0.610003</td>\n",
       "      <td>0.664260</td>\n",
       "      <td>12:40</td>\n",
       "    </tr>\n",
       "    <tr>\n",
       "      <td>1</td>\n",
       "      <td>0.421609</td>\n",
       "      <td>0.433806</td>\n",
       "      <td>0.795802</td>\n",
       "      <td>0.539591</td>\n",
       "      <td>0.859530</td>\n",
       "      <td>0.499816</td>\n",
       "      <td>0.632079</td>\n",
       "      <td>12:26</td>\n",
       "    </tr>\n",
       "    <tr>\n",
       "      <td>2</td>\n",
       "      <td>0.370589</td>\n",
       "      <td>0.398194</td>\n",
       "      <td>0.809514</td>\n",
       "      <td>0.559978</td>\n",
       "      <td>0.860736</td>\n",
       "      <td>0.520110</td>\n",
       "      <td>0.648410</td>\n",
       "      <td>12:26</td>\n",
       "    </tr>\n",
       "    <tr>\n",
       "      <td>3</td>\n",
       "      <td>0.329626</td>\n",
       "      <td>0.320514</td>\n",
       "      <td>0.851047</td>\n",
       "      <td>0.613148</td>\n",
       "      <td>0.828519</td>\n",
       "      <td>0.597367</td>\n",
       "      <td>0.694207</td>\n",
       "      <td>12:23</td>\n",
       "    </tr>\n",
       "    <tr>\n",
       "      <td>4</td>\n",
       "      <td>0.291527</td>\n",
       "      <td>0.288909</td>\n",
       "      <td>0.870290</td>\n",
       "      <td>0.632563</td>\n",
       "      <td>0.781830</td>\n",
       "      <td>0.651918</td>\n",
       "      <td>0.710988</td>\n",
       "      <td>12:24</td>\n",
       "    </tr>\n",
       "    <tr>\n",
       "      <td>5</td>\n",
       "      <td>0.265601</td>\n",
       "      <td>0.264399</td>\n",
       "      <td>0.885045</td>\n",
       "      <td>0.662098</td>\n",
       "      <td>0.775398</td>\n",
       "      <td>0.695979</td>\n",
       "      <td>0.733545</td>\n",
       "      <td>12:25</td>\n",
       "    </tr>\n",
       "    <tr>\n",
       "      <td>6</td>\n",
       "      <td>0.215249</td>\n",
       "      <td>0.312887</td>\n",
       "      <td>0.864946</td>\n",
       "      <td>0.640942</td>\n",
       "      <td>0.834721</td>\n",
       "      <td>0.627022</td>\n",
       "      <td>0.716116</td>\n",
       "      <td>12:25</td>\n",
       "    </tr>\n",
       "    <tr>\n",
       "      <td>7</td>\n",
       "      <td>0.179410</td>\n",
       "      <td>0.287682</td>\n",
       "      <td>0.880240</td>\n",
       "      <td>0.654511</td>\n",
       "      <td>0.785046</td>\n",
       "      <td>0.678547</td>\n",
       "      <td>0.727921</td>\n",
       "      <td>12:26</td>\n",
       "    </tr>\n",
       "    <tr>\n",
       "      <td>8</td>\n",
       "      <td>0.173684</td>\n",
       "      <td>0.292299</td>\n",
       "      <td>0.881611</td>\n",
       "      <td>0.651440</td>\n",
       "      <td>0.765348</td>\n",
       "      <td>0.688983</td>\n",
       "      <td>0.725161</td>\n",
       "      <td>12:28</td>\n",
       "    </tr>\n",
       "    <tr>\n",
       "      <td>9</td>\n",
       "      <td>0.151592</td>\n",
       "      <td>0.308209</td>\n",
       "      <td>0.877580</td>\n",
       "      <td>0.645431</td>\n",
       "      <td>0.774421</td>\n",
       "      <td>0.674149</td>\n",
       "      <td>0.720815</td>\n",
       "      <td>12:25</td>\n",
       "    </tr>\n",
       "  </tbody>\n",
       "</table>"
      ],
      "text/plain": [
       "<IPython.core.display.HTML object>"
      ]
     },
     "metadata": {},
     "output_type": "display_data"
    },
    {
     "name": "stdout",
     "output_type": "stream",
     "text": [
      "43 1\n",
      "Better model found at epoch 0 with matthews_corrcoef value: 0.5720886017197102.\n",
      "44 2\n",
      "45 3\n",
      "46 4\n",
      "Better model found at epoch 3 with matthews_corrcoef value: 0.613147606262977.\n",
      "47 5\n",
      "Better model found at epoch 4 with matthews_corrcoef value: 0.6325629496533268.\n",
      "48 6\n",
      "Better model found at epoch 5 with matthews_corrcoef value: 0.6620982703535013.\n",
      "49 7\n",
      "50 8\n",
      "51 9\n",
      "52 10\n"
     ]
    }
   ],
   "source": [
    "learn.fit_one_cycle(10, 1e-3)"
   ]
  },
  {
   "cell_type": "code",
   "execution_count": 40,
   "id": "e3a477d2-cbfe-46a5-91d7-9f9d5e6db0a1",
   "metadata": {},
   "outputs": [],
   "source": [
    "torch.save(learn.model, f'nflutils/{name}.pkl')"
   ]
  },
  {
   "cell_type": "code",
   "execution_count": 26,
   "id": "1084d265-490c-4be4-af62-36b253611bf7",
   "metadata": {},
   "outputs": [
    {
     "name": "stderr",
     "output_type": "stream",
     "text": [
      "/usr/local/lib/python3.9/dist-packages/fastai/learner.py:59: UserWarning: Saved filed doesn't contain an optimizer state.\n",
      "  elif with_opt: warn(\"Saved filed doesn't contain an optimizer state.\")\n"
     ]
    },
    {
     "data": {
      "text/plain": [
       "<fastai.learner.Learner at 0x7faac2268a60>"
      ]
     },
     "execution_count": 26,
     "metadata": {},
     "output_type": "execute_result"
    }
   ],
   "source": [
    "learn.load(name)"
   ]
  },
  {
   "cell_type": "code",
   "execution_count": 27,
   "id": "56004d94-b60a-416b-bd9f-105412046300",
   "metadata": {},
   "outputs": [],
   "source": [
    "val_games = kf_dict[split]['val_games']\n",
    "\n",
    "val_df = df_combo_with_helmets.query('game_play in @val_games').copy()\n",
    "val_df = val_df[(val_df.left_2.notnull())].copy()\n",
    "val_df['frame'] = val_df['frame'].astype(int)\n",
    "\n",
    "test_ds = NFLFrameTrackingDataset(val_df, transform=val_transform, crop_size=256)\n",
    "\n",
    "test_loader = DataLoader(\n",
    "    test_ds, batch_size=64, shuffle=False, num_workers=8, pin_memory=True,\n",
    ")"
   ]
  },
  {
   "cell_type": "code",
   "execution_count": 28,
   "id": "8d5aec50-5829-4ada-8bc5-3dec29598554",
   "metadata": {},
   "outputs": [
    {
     "data": {
      "text/html": [
       "\n",
       "<style>\n",
       "    /* Turns off some styling */\n",
       "    progress {\n",
       "        /* gets rid of default border in Firefox and Opera. */\n",
       "        border: none;\n",
       "        /* Needs to be in here for Safari polyfill so background images work as expected. */\n",
       "        background-size: auto;\n",
       "    }\n",
       "    progress:not([value]), progress:not([value])::-webkit-progress-bar {\n",
       "        background: repeating-linear-gradient(45deg, #7e7e7e, #7e7e7e 10px, #5c5c5c 10px, #5c5c5c 20px);\n",
       "    }\n",
       "    .progress-bar-interrupted, .progress-bar-interrupted::-webkit-progress-bar {\n",
       "        background: #F44336;\n",
       "    }\n",
       "</style>\n"
      ],
      "text/plain": [
       "<IPython.core.display.HTML object>"
      ]
     },
     "metadata": {},
     "output_type": "display_data"
    },
    {
     "data": {
      "text/html": [],
      "text/plain": [
       "<IPython.core.display.HTML object>"
      ]
     },
     "metadata": {},
     "output_type": "display_data"
    },
    {
     "name": "stdout",
     "output_type": "stream",
     "text": [
      "43 1\n"
     ]
    }
   ],
   "source": [
    "preds, _ = learn.get_preds(dl=test_loader)"
   ]
  },
  {
   "cell_type": "code",
   "execution_count": 29,
   "id": "3fcfb6a0-8770-4a1b-a1d9-df9354216c11",
   "metadata": {},
   "outputs": [],
   "source": [
    "val_df['contact_pred'] = preds[:, 1]\n",
    "\n",
    "val_df.to_parquet(f'{name}.parquet', index=False)"
   ]
  },
  {
   "cell_type": "code",
   "execution_count": 30,
   "id": "41cfaf67-ef29-44b8-ac29-8dde8f805aa5",
   "metadata": {},
   "outputs": [
    {
     "data": {
      "text/plain": [
       "0.6608520094669332"
      ]
     },
     "execution_count": 30,
     "metadata": {},
     "output_type": "execute_result"
    }
   ],
   "source": [
    "matthews_corrcoef(val_df.contact, val_df.contact_pred > 0.5)"
   ]
  },
  {
   "cell_type": "markdown",
   "id": "8c3d3c7d-5431-4bad-8467-7bf789362e37",
   "metadata": {
    "tags": []
   },
   "source": [
    "#### Fold 2"
   ]
  },
  {
   "cell_type": "code",
   "execution_count": 31,
   "id": "42e96009-a05e-4f9b-a929-d17855b5c802",
   "metadata": {
    "tags": []
   },
   "outputs": [],
   "source": [
    "split = 2\n",
    "name = f'tiny-pp-fold-{split}'\n",
    "# wandb.init(project='nfl-1st-and-future', group='pp-folds', name=name, force=True)"
   ]
  },
  {
   "cell_type": "code",
   "execution_count": 32,
   "id": "d7e44511-26b1-43f2-b550-815e3b3bc40e",
   "metadata": {},
   "outputs": [],
   "source": [
    "mean = [0.485, 0.456, 0.406]\n",
    "std = [0.229, 0.224, 0.225]\n",
    "train_transform = A.Compose(\n",
    "    [\n",
    "        A.HorizontalFlip(),\n",
    "        A.ShiftScaleRotate(shift_limit=0.05, scale_limit=0.05, rotate_limit=15, p=0.5),\n",
    "        A.RandomBrightnessContrast(p=0.5),\n",
    "        A.Normalize(mean=mean, std=std),\n",
    "        ToTensorV2(),\n",
    "    ]\n",
    ")\n",
    "\n",
    "val_transform = A.Compose(\n",
    "    [\n",
    "        A.Normalize(mean=mean, std=mean),\n",
    "        ToTensorV2(),\n",
    "    ]\n",
    ")"
   ]
  },
  {
   "cell_type": "code",
   "execution_count": 33,
   "id": "3337c8fb-c57e-48cb-a337-d330d2a03433",
   "metadata": {},
   "outputs": [],
   "source": [
    "seed = 42\n",
    "set_seed(seed, True)\n",
    "\n",
    "df = df_combo_with_helmets[(df_combo_with_helmets.left_2.notnull())].copy()\n",
    "\n",
    "frames_kwargs = dict(frames_path=CFG.frames_path, offset=0, sample_every_n_frame=6, undersample_no_contact=True, seed=seed)\n",
    "\n",
    "data = get_dls(df, kf_dict, split, train_transform, val_transform, frames_kwargs=frames_kwargs, dl=NFLFrameTrackingDataset, bs=64)\n",
    "\n",
    "model = FrameTrackingModel('convnext_tiny')\n",
    "learn = Learner(data, model, CrossEntropyLossFlat(),\n",
    "                metrics=[accuracy, MatthewsCorrCoef(), Recall(), Precision(), F1Score()],\n",
    "                cbs=[\n",
    "                        ShuffleGamePlayCallBack(df, kf_dict, split, train_transform, val_transform, frames_kwargs, dl=NFLFrameTrackingDataset),\n",
    "                        # WandbCallback(log_preds=False, seed=seed),\n",
    "                        SaveModelCallback(monitor='matthews_corrcoef', fname=name),\n",
    "                        # GradientAccumulation(90)\n",
    "                        # MixUp()\n",
    "                ]\n",
    "               ).to_fp16()"
   ]
  },
  {
   "cell_type": "code",
   "execution_count": null,
   "id": "edc54998-36f1-4d4c-9793-143b6b8112b4",
   "metadata": {},
   "outputs": [
    {
     "name": "stdout",
     "output_type": "stream",
     "text": [
      "Could not gather input dimensions\n"
     ]
    },
    {
     "data": {
      "text/html": [
       "\n",
       "<style>\n",
       "    /* Turns off some styling */\n",
       "    progress {\n",
       "        /* gets rid of default border in Firefox and Opera. */\n",
       "        border: none;\n",
       "        /* Needs to be in here for Safari polyfill so background images work as expected. */\n",
       "        background-size: auto;\n",
       "    }\n",
       "    progress:not([value]), progress:not([value])::-webkit-progress-bar {\n",
       "        background: repeating-linear-gradient(45deg, #7e7e7e, #7e7e7e 10px, #5c5c5c 10px, #5c5c5c 20px);\n",
       "    }\n",
       "    .progress-bar-interrupted, .progress-bar-interrupted::-webkit-progress-bar {\n",
       "        background: #F44336;\n",
       "    }\n",
       "</style>\n"
      ],
      "text/plain": [
       "<IPython.core.display.HTML object>"
      ]
     },
     "metadata": {},
     "output_type": "display_data"
    },
    {
     "data": {
      "text/html": [
       "\n",
       "    <div>\n",
       "      <progress value='6' class='' max='10' style='width:300px; height:20px; vertical-align: middle;'></progress>\n",
       "      60.00% [6/10 1:15:48&lt;50:32]\n",
       "    </div>\n",
       "    \n",
       "<table border=\"1\" class=\"dataframe\">\n",
       "  <thead>\n",
       "    <tr style=\"text-align: left;\">\n",
       "      <th>epoch</th>\n",
       "      <th>train_loss</th>\n",
       "      <th>valid_loss</th>\n",
       "      <th>accuracy</th>\n",
       "      <th>matthews_corrcoef</th>\n",
       "      <th>recall_score</th>\n",
       "      <th>precision_score</th>\n",
       "      <th>f1_score</th>\n",
       "      <th>time</th>\n",
       "    </tr>\n",
       "  </thead>\n",
       "  <tbody>\n",
       "    <tr>\n",
       "      <td>0</td>\n",
       "      <td>0.409429</td>\n",
       "      <td>0.362415</td>\n",
       "      <td>0.823565</td>\n",
       "      <td>0.550796</td>\n",
       "      <td>0.790967</td>\n",
       "      <td>0.547750</td>\n",
       "      <td>0.647265</td>\n",
       "      <td>12:38</td>\n",
       "    </tr>\n",
       "    <tr>\n",
       "      <td>1</td>\n",
       "      <td>0.411230</td>\n",
       "      <td>0.380572</td>\n",
       "      <td>0.824469</td>\n",
       "      <td>0.545810</td>\n",
       "      <td>0.775979</td>\n",
       "      <td>0.550482</td>\n",
       "      <td>0.644063</td>\n",
       "      <td>12:37</td>\n",
       "    </tr>\n",
       "    <tr>\n",
       "      <td>2</td>\n",
       "      <td>0.362228</td>\n",
       "      <td>0.383659</td>\n",
       "      <td>0.821223</td>\n",
       "      <td>0.565664</td>\n",
       "      <td>0.833255</td>\n",
       "      <td>0.541058</td>\n",
       "      <td>0.656094</td>\n",
       "      <td>12:37</td>\n",
       "    </tr>\n",
       "    <tr>\n",
       "      <td>3</td>\n",
       "      <td>0.320284</td>\n",
       "      <td>0.353019</td>\n",
       "      <td>0.837081</td>\n",
       "      <td>0.598660</td>\n",
       "      <td>0.850318</td>\n",
       "      <td>0.568133</td>\n",
       "      <td>0.681157</td>\n",
       "      <td>12:39</td>\n",
       "    </tr>\n",
       "    <tr>\n",
       "      <td>4</td>\n",
       "      <td>0.285429</td>\n",
       "      <td>0.380842</td>\n",
       "      <td>0.834999</td>\n",
       "      <td>0.598244</td>\n",
       "      <td>0.857277</td>\n",
       "      <td>0.563710</td>\n",
       "      <td>0.680169</td>\n",
       "      <td>12:39</td>\n",
       "    </tr>\n",
       "    <tr>\n",
       "      <td>5</td>\n",
       "      <td>0.248035</td>\n",
       "      <td>0.333660</td>\n",
       "      <td>0.853308</td>\n",
       "      <td>0.614308</td>\n",
       "      <td>0.820074</td>\n",
       "      <td>0.604369</td>\n",
       "      <td>0.695889</td>\n",
       "      <td>12:35</td>\n",
       "    </tr>\n",
       "  </tbody>\n",
       "</table><p>\n",
       "\n",
       "    <div>\n",
       "      <progress value='677' class='' max='2057' style='width:300px; height:20px; vertical-align: middle;'></progress>\n",
       "      32.91% [677/2057 04:05&lt;08:19 0.2294]\n",
       "    </div>\n",
       "    "
      ],
      "text/plain": [
       "<IPython.core.display.HTML object>"
      ]
     },
     "metadata": {},
     "output_type": "display_data"
    },
    {
     "name": "stdout",
     "output_type": "stream",
     "text": [
      "43 1\n",
      "Better model found at epoch 0 with matthews_corrcoef value: 0.5507960403768054.\n",
      "44 2\n",
      "45 3\n",
      "Better model found at epoch 2 with matthews_corrcoef value: 0.5656643549923849.\n",
      "46 4\n",
      "Better model found at epoch 3 with matthews_corrcoef value: 0.5986595829071742.\n",
      "47 5\n",
      "48 6\n",
      "Better model found at epoch 5 with matthews_corrcoef value: 0.6143078467555415.\n"
     ]
    }
   ],
   "source": [
    "learn.fit_one_cycle(10, 1e-3)"
   ]
  },
  {
   "cell_type": "code",
   "execution_count": null,
   "id": "c16f0066-5504-499d-8242-c142b9693f1c",
   "metadata": {},
   "outputs": [],
   "source": [
    "torch.save(learn.model, f'nflutils/{name}.pkl')"
   ]
  },
  {
   "cell_type": "code",
   "execution_count": 34,
   "id": "e64ef5ae-1cfb-482b-861c-f8d67b7a91d9",
   "metadata": {},
   "outputs": [
    {
     "name": "stderr",
     "output_type": "stream",
     "text": [
      "/usr/local/lib/python3.9/dist-packages/fastai/learner.py:59: UserWarning: Saved filed doesn't contain an optimizer state.\n",
      "  elif with_opt: warn(\"Saved filed doesn't contain an optimizer state.\")\n"
     ]
    },
    {
     "data": {
      "text/plain": [
       "<fastai.learner.Learner at 0x7fae8dc26280>"
      ]
     },
     "execution_count": 34,
     "metadata": {},
     "output_type": "execute_result"
    }
   ],
   "source": [
    "learn.load(name)"
   ]
  },
  {
   "cell_type": "code",
   "execution_count": 35,
   "id": "3232c8b5-f8d1-4b31-b647-fb209e468b9a",
   "metadata": {},
   "outputs": [],
   "source": [
    "val_games = kf_dict[split]['val_games']\n",
    "\n",
    "val_df = df_combo_with_helmets.query('game_play in @val_games').copy()\n",
    "val_df = val_df[(val_df.left_2.notnull())].copy()\n",
    "val_df['frame'] = val_df['frame'].astype(int)\n",
    "\n",
    "test_ds = NFLFrameTrackingDataset(val_df, transform=val_transform, crop_size=256)\n",
    "\n",
    "test_loader = DataLoader(\n",
    "    test_ds, batch_size=64, shuffle=False, num_workers=8, pin_memory=True,\n",
    ")"
   ]
  },
  {
   "cell_type": "code",
   "execution_count": 36,
   "id": "f6f2e7bd-26b6-442f-96c3-0d85ce977312",
   "metadata": {},
   "outputs": [
    {
     "data": {
      "text/html": [
       "\n",
       "<style>\n",
       "    /* Turns off some styling */\n",
       "    progress {\n",
       "        /* gets rid of default border in Firefox and Opera. */\n",
       "        border: none;\n",
       "        /* Needs to be in here for Safari polyfill so background images work as expected. */\n",
       "        background-size: auto;\n",
       "    }\n",
       "    progress:not([value]), progress:not([value])::-webkit-progress-bar {\n",
       "        background: repeating-linear-gradient(45deg, #7e7e7e, #7e7e7e 10px, #5c5c5c 10px, #5c5c5c 20px);\n",
       "    }\n",
       "    .progress-bar-interrupted, .progress-bar-interrupted::-webkit-progress-bar {\n",
       "        background: #F44336;\n",
       "    }\n",
       "</style>\n"
      ],
      "text/plain": [
       "<IPython.core.display.HTML object>"
      ]
     },
     "metadata": {},
     "output_type": "display_data"
    },
    {
     "data": {
      "text/html": [],
      "text/plain": [
       "<IPython.core.display.HTML object>"
      ]
     },
     "metadata": {},
     "output_type": "display_data"
    },
    {
     "name": "stdout",
     "output_type": "stream",
     "text": [
      "43 1\n"
     ]
    }
   ],
   "source": [
    "preds, _ = learn.get_preds(dl=test_loader)"
   ]
  },
  {
   "cell_type": "code",
   "execution_count": 37,
   "id": "27fcf08b-8675-40ba-883a-b7cc6f81b767",
   "metadata": {},
   "outputs": [],
   "source": [
    "val_df['contact_pred'] = preds[:, 1]\n",
    "\n",
    "val_df.to_parquet(f'{name}.parquet', index=False)"
   ]
  },
  {
   "cell_type": "code",
   "execution_count": 38,
   "id": "5bdbcb55-911d-4d72-8af2-af3b2c8e6cd3",
   "metadata": {},
   "outputs": [
    {
     "data": {
      "text/plain": [
       "0.6391607388051681"
      ]
     },
     "execution_count": 38,
     "metadata": {},
     "output_type": "execute_result"
    }
   ],
   "source": [
    "matthews_corrcoef(val_df.contact, val_df.contact_pred > 0.5)"
   ]
  },
  {
   "cell_type": "markdown",
   "id": "c028eaab-4600-491e-8625-1b37e75b6ce2",
   "metadata": {
    "tags": []
   },
   "source": [
    "#### Fold 3"
   ]
  },
  {
   "cell_type": "code",
   "execution_count": 39,
   "id": "b3e824dd-e3b1-4430-a787-321f82f7f9b3",
   "metadata": {
    "tags": []
   },
   "outputs": [],
   "source": [
    "split = 3\n",
    "name = f'tiny-pp-fold-{split}'\n",
    "# wandb.init(project='nfl-1st-and-future', group='pp-folds', name=name, force=True)"
   ]
  },
  {
   "cell_type": "code",
   "execution_count": 40,
   "id": "423ab91c-6137-435c-8610-c4779861ad25",
   "metadata": {},
   "outputs": [],
   "source": [
    "mean = [0.485, 0.456, 0.406]\n",
    "std = [0.229, 0.224, 0.225]\n",
    "train_transform = A.Compose(\n",
    "    [\n",
    "        A.HorizontalFlip(),\n",
    "        A.ShiftScaleRotate(shift_limit=0.05, scale_limit=0.05, rotate_limit=15, p=0.5),\n",
    "        A.RandomBrightnessContrast(p=0.5),\n",
    "        A.Normalize(mean=mean, std=std),\n",
    "        ToTensorV2(),\n",
    "    ]\n",
    ")\n",
    "\n",
    "val_transform = A.Compose(\n",
    "    [\n",
    "        A.Normalize(mean=mean, std=mean),\n",
    "        ToTensorV2(),\n",
    "    ]\n",
    ")"
   ]
  },
  {
   "cell_type": "code",
   "execution_count": 41,
   "id": "1b8ebe81-2d10-413e-a1e5-d92bd1c3b364",
   "metadata": {},
   "outputs": [],
   "source": [
    "seed = 42\n",
    "set_seed(seed, True)\n",
    "\n",
    "df = df_combo_with_helmets[(df_combo_with_helmets.left_2.notnull())].copy()\n",
    "\n",
    "frames_kwargs = dict(frames_path=CFG.frames_path, offset=0, sample_every_n_frame=6, undersample_no_contact=True, seed=seed)\n",
    "\n",
    "data = get_dls(df, kf_dict, split, train_transform, val_transform, frames_kwargs=frames_kwargs, dl=NFLFrameTrackingDataset, bs=64)\n",
    "\n",
    "model = FrameTrackingModel('convnext_tiny')\n",
    "learn = Learner(data, model, CrossEntropyLossFlat(),\n",
    "                metrics=[accuracy, MatthewsCorrCoef(), Recall(), Precision(), F1Score()],\n",
    "                cbs=[\n",
    "                        ShuffleGamePlayCallBack(df, kf_dict, split, train_transform, val_transform, frames_kwargs, dl=NFLFrameTrackingDataset),\n",
    "                        # WandbCallback(log_preds=False, seed=seed),\n",
    "                        SaveModelCallback(monitor='matthews_corrcoef', fname=name)\n",
    "                        # GradientAccumulation(90)\n",
    "                        # MixUp()\n",
    "                ]\n",
    "               ).to_fp16()"
   ]
  },
  {
   "cell_type": "code",
   "execution_count": 19,
   "id": "2d31bb2f-e9e3-4642-b8df-85145e931837",
   "metadata": {},
   "outputs": [
    {
     "name": "stdout",
     "output_type": "stream",
     "text": [
      "Could not gather input dimensions\n"
     ]
    },
    {
     "data": {
      "text/html": [
       "\n",
       "<style>\n",
       "    /* Turns off some styling */\n",
       "    progress {\n",
       "        /* gets rid of default border in Firefox and Opera. */\n",
       "        border: none;\n",
       "        /* Needs to be in here for Safari polyfill so background images work as expected. */\n",
       "        background-size: auto;\n",
       "    }\n",
       "    progress:not([value]), progress:not([value])::-webkit-progress-bar {\n",
       "        background: repeating-linear-gradient(45deg, #7e7e7e, #7e7e7e 10px, #5c5c5c 10px, #5c5c5c 20px);\n",
       "    }\n",
       "    .progress-bar-interrupted, .progress-bar-interrupted::-webkit-progress-bar {\n",
       "        background: #F44336;\n",
       "    }\n",
       "</style>\n"
      ],
      "text/plain": [
       "<IPython.core.display.HTML object>"
      ]
     },
     "metadata": {},
     "output_type": "display_data"
    },
    {
     "data": {
      "text/html": [
       "<table border=\"1\" class=\"dataframe\">\n",
       "  <thead>\n",
       "    <tr style=\"text-align: left;\">\n",
       "      <th>epoch</th>\n",
       "      <th>train_loss</th>\n",
       "      <th>valid_loss</th>\n",
       "      <th>accuracy</th>\n",
       "      <th>matthews_corrcoef</th>\n",
       "      <th>recall_score</th>\n",
       "      <th>precision_score</th>\n",
       "      <th>f1_score</th>\n",
       "      <th>time</th>\n",
       "    </tr>\n",
       "  </thead>\n",
       "  <tbody>\n",
       "    <tr>\n",
       "      <td>0</td>\n",
       "      <td>0.405825</td>\n",
       "      <td>0.399401</td>\n",
       "      <td>0.811319</td>\n",
       "      <td>0.519299</td>\n",
       "      <td>0.794217</td>\n",
       "      <td>0.497380</td>\n",
       "      <td>0.611688</td>\n",
       "      <td>12:28</td>\n",
       "    </tr>\n",
       "    <tr>\n",
       "      <td>1</td>\n",
       "      <td>0.400390</td>\n",
       "      <td>0.423955</td>\n",
       "      <td>0.785376</td>\n",
       "      <td>0.508137</td>\n",
       "      <td>0.848551</td>\n",
       "      <td>0.460140</td>\n",
       "      <td>0.596706</td>\n",
       "      <td>12:28</td>\n",
       "    </tr>\n",
       "    <tr>\n",
       "      <td>2</td>\n",
       "      <td>0.379182</td>\n",
       "      <td>0.437367</td>\n",
       "      <td>0.785727</td>\n",
       "      <td>0.516445</td>\n",
       "      <td>0.864164</td>\n",
       "      <td>0.461264</td>\n",
       "      <td>0.601478</td>\n",
       "      <td>12:24</td>\n",
       "    </tr>\n",
       "    <tr>\n",
       "      <td>3</td>\n",
       "      <td>0.320932</td>\n",
       "      <td>0.274592</td>\n",
       "      <td>0.880289</td>\n",
       "      <td>0.609128</td>\n",
       "      <td>0.688796</td>\n",
       "      <td>0.677041</td>\n",
       "      <td>0.682868</td>\n",
       "      <td>12:28</td>\n",
       "    </tr>\n",
       "    <tr>\n",
       "      <td>4</td>\n",
       "      <td>0.286101</td>\n",
       "      <td>0.296861</td>\n",
       "      <td>0.864981</td>\n",
       "      <td>0.612643</td>\n",
       "      <td>0.794779</td>\n",
       "      <td>0.606173</td>\n",
       "      <td>0.687780</td>\n",
       "      <td>12:28</td>\n",
       "    </tr>\n",
       "    <tr>\n",
       "      <td>5</td>\n",
       "      <td>0.245407</td>\n",
       "      <td>0.288142</td>\n",
       "      <td>0.876585</td>\n",
       "      <td>0.623911</td>\n",
       "      <td>0.760117</td>\n",
       "      <td>0.644275</td>\n",
       "      <td>0.697419</td>\n",
       "      <td>12:26</td>\n",
       "    </tr>\n",
       "    <tr>\n",
       "      <td>6</td>\n",
       "      <td>0.218815</td>\n",
       "      <td>0.276732</td>\n",
       "      <td>0.881949</td>\n",
       "      <td>0.632473</td>\n",
       "      <td>0.750187</td>\n",
       "      <td>0.663133</td>\n",
       "      <td>0.703979</td>\n",
       "      <td>12:23</td>\n",
       "    </tr>\n",
       "    <tr>\n",
       "      <td>7</td>\n",
       "      <td>0.187266</td>\n",
       "      <td>0.301475</td>\n",
       "      <td>0.875790</td>\n",
       "      <td>0.622624</td>\n",
       "      <td>0.761366</td>\n",
       "      <td>0.641665</td>\n",
       "      <td>0.696410</td>\n",
       "      <td>12:24</td>\n",
       "    </tr>\n",
       "    <tr>\n",
       "      <td>8</td>\n",
       "      <td>0.160561</td>\n",
       "      <td>0.327504</td>\n",
       "      <td>0.871922</td>\n",
       "      <td>0.617690</td>\n",
       "      <td>0.770610</td>\n",
       "      <td>0.628707</td>\n",
       "      <td>0.692463</td>\n",
       "      <td>12:18</td>\n",
       "    </tr>\n",
       "    <tr>\n",
       "      <td>9</td>\n",
       "      <td>0.145092</td>\n",
       "      <td>0.323837</td>\n",
       "      <td>0.875054</td>\n",
       "      <td>0.619255</td>\n",
       "      <td>0.756245</td>\n",
       "      <td>0.640756</td>\n",
       "      <td>0.693727</td>\n",
       "      <td>12:19</td>\n",
       "    </tr>\n",
       "  </tbody>\n",
       "</table>"
      ],
      "text/plain": [
       "<IPython.core.display.HTML object>"
      ]
     },
     "metadata": {},
     "output_type": "display_data"
    },
    {
     "name": "stdout",
     "output_type": "stream",
     "text": [
      "43 1\n",
      "Better model found at epoch 0 with matthews_corrcoef value: 0.5192992837092644.\n",
      "44 2\n",
      "45 3\n",
      "46 4\n",
      "Better model found at epoch 3 with matthews_corrcoef value: 0.6091282996998044.\n",
      "47 5\n",
      "Better model found at epoch 4 with matthews_corrcoef value: 0.612642659459303.\n",
      "48 6\n",
      "Better model found at epoch 5 with matthews_corrcoef value: 0.6239106616283632.\n",
      "49 7\n",
      "Better model found at epoch 6 with matthews_corrcoef value: 0.6324730501286834.\n",
      "50 8\n",
      "51 9\n",
      "52 10\n"
     ]
    }
   ],
   "source": [
    "learn.fit_one_cycle(10, 1e-3)"
   ]
  },
  {
   "cell_type": "code",
   "execution_count": 20,
   "id": "4eb71724-1d61-46d8-8eeb-b4a5765402ef",
   "metadata": {},
   "outputs": [],
   "source": [
    "torch.save(learn.model, f'nflutils/{name}.pkl')"
   ]
  },
  {
   "cell_type": "code",
   "execution_count": 42,
   "id": "08d52ee5-e52e-42cf-a5a9-3ce5d874dee2",
   "metadata": {},
   "outputs": [
    {
     "name": "stderr",
     "output_type": "stream",
     "text": [
      "/usr/local/lib/python3.9/dist-packages/fastai/learner.py:59: UserWarning: Saved filed doesn't contain an optimizer state.\n",
      "  elif with_opt: warn(\"Saved filed doesn't contain an optimizer state.\")\n"
     ]
    },
    {
     "data": {
      "text/plain": [
       "<fastai.learner.Learner at 0x7fae8b152f10>"
      ]
     },
     "execution_count": 42,
     "metadata": {},
     "output_type": "execute_result"
    }
   ],
   "source": [
    "learn.load(name)"
   ]
  },
  {
   "cell_type": "code",
   "execution_count": 43,
   "id": "d4663be6-0d62-4813-909c-b2a07076b013",
   "metadata": {},
   "outputs": [],
   "source": [
    "val_games = kf_dict[split]['val_games']\n",
    "\n",
    "val_df = df_combo_with_helmets.query('game_play in @val_games').copy()\n",
    "val_df = val_df[(val_df.left_2.notnull())].copy()\n",
    "val_df['frame'] = val_df['frame'].astype(int)\n",
    "\n",
    "test_ds = NFLFrameTrackingDataset(val_df, transform=val_transform, crop_size=256)\n",
    "\n",
    "test_loader = DataLoader(\n",
    "    test_ds, batch_size=64, shuffle=False, num_workers=8, pin_memory=True,\n",
    ")"
   ]
  },
  {
   "cell_type": "code",
   "execution_count": 44,
   "id": "421e07a3-12a8-4fe7-9940-eccba5f4d1ba",
   "metadata": {},
   "outputs": [
    {
     "data": {
      "text/html": [
       "\n",
       "<style>\n",
       "    /* Turns off some styling */\n",
       "    progress {\n",
       "        /* gets rid of default border in Firefox and Opera. */\n",
       "        border: none;\n",
       "        /* Needs to be in here for Safari polyfill so background images work as expected. */\n",
       "        background-size: auto;\n",
       "    }\n",
       "    progress:not([value]), progress:not([value])::-webkit-progress-bar {\n",
       "        background: repeating-linear-gradient(45deg, #7e7e7e, #7e7e7e 10px, #5c5c5c 10px, #5c5c5c 20px);\n",
       "    }\n",
       "    .progress-bar-interrupted, .progress-bar-interrupted::-webkit-progress-bar {\n",
       "        background: #F44336;\n",
       "    }\n",
       "</style>\n"
      ],
      "text/plain": [
       "<IPython.core.display.HTML object>"
      ]
     },
     "metadata": {},
     "output_type": "display_data"
    },
    {
     "data": {
      "text/html": [],
      "text/plain": [
       "<IPython.core.display.HTML object>"
      ]
     },
     "metadata": {},
     "output_type": "display_data"
    },
    {
     "name": "stdout",
     "output_type": "stream",
     "text": [
      "43 1\n"
     ]
    }
   ],
   "source": [
    "preds, _ = learn.get_preds(dl=test_loader)"
   ]
  },
  {
   "cell_type": "code",
   "execution_count": 45,
   "id": "424243af-76ff-4d17-bdb6-4d9b2712dcbb",
   "metadata": {},
   "outputs": [],
   "source": [
    "val_df['contact_pred'] = preds[:, 1]\n",
    "\n",
    "val_df.to_parquet(f'{name}.parquet', index=False)"
   ]
  },
  {
   "cell_type": "code",
   "execution_count": 46,
   "id": "00590d5c-6f51-47e2-93ed-1e4f2264f56c",
   "metadata": {},
   "outputs": [
    {
     "data": {
      "text/plain": [
       "0.6288073728951612"
      ]
     },
     "execution_count": 46,
     "metadata": {},
     "output_type": "execute_result"
    }
   ],
   "source": [
    "matthews_corrcoef(val_df.contact, val_df.contact_pred > 0.5)"
   ]
  },
  {
   "cell_type": "markdown",
   "id": "541c2f2a-cecb-469a-bab6-3ccd25bc8c8d",
   "metadata": {
    "tags": []
   },
   "source": [
    "#### Fold 4"
   ]
  },
  {
   "cell_type": "code",
   "execution_count": 47,
   "id": "d70cfad6-294a-41ac-a884-6cef27981c56",
   "metadata": {
    "tags": []
   },
   "outputs": [],
   "source": [
    "split = 4\n",
    "name = f'tiny-pp-fold-{split}'\n",
    "# wandb.init(project='nfl-1st-and-future', group='pp-folds', name=name, force=True)"
   ]
  },
  {
   "cell_type": "code",
   "execution_count": 48,
   "id": "5a11c118-df47-4d1d-a730-7683ea6f0973",
   "metadata": {},
   "outputs": [],
   "source": [
    "mean = [0.485, 0.456, 0.406]\n",
    "std = [0.229, 0.224, 0.225]\n",
    "train_transform = A.Compose(\n",
    "    [\n",
    "        A.HorizontalFlip(),\n",
    "        A.ShiftScaleRotate(shift_limit=0.05, scale_limit=0.05, rotate_limit=15, p=0.5),\n",
    "        A.RandomBrightnessContrast(p=0.5),\n",
    "        A.Normalize(mean=mean, std=std),\n",
    "        ToTensorV2(),\n",
    "    ]\n",
    ")\n",
    "\n",
    "val_transform = A.Compose(\n",
    "    [\n",
    "        A.Normalize(mean=mean, std=mean),\n",
    "        ToTensorV2(),\n",
    "    ]\n",
    ")"
   ]
  },
  {
   "cell_type": "code",
   "execution_count": 49,
   "id": "2ff7e87e-9303-4a51-9d0d-38e8e8f0f3df",
   "metadata": {},
   "outputs": [],
   "source": [
    "seed = 42\n",
    "set_seed(seed, True)\n",
    "\n",
    "df = df_combo_with_helmets[(df_combo_with_helmets.left_2.notnull())].copy()\n",
    "\n",
    "frames_kwargs = dict(frames_path=CFG.frames_path, offset=0, sample_every_n_frame=6, undersample_no_contact=True, seed=seed)\n",
    "\n",
    "data = get_dls(df, kf_dict, split, train_transform, val_transform, frames_kwargs=frames_kwargs, dl=NFLFrameTrackingDataset, bs=64)\n",
    "\n",
    "model = FrameTrackingModel('convnext_tiny')\n",
    "learn = Learner(data, model, CrossEntropyLossFlat(),\n",
    "                metrics=[accuracy, MatthewsCorrCoef(), Recall(), Precision(), F1Score()],\n",
    "                cbs=[\n",
    "                        ShuffleGamePlayCallBack(df, kf_dict, split, train_transform, val_transform, frames_kwargs, dl=NFLFrameTrackingDataset),\n",
    "                        # WandbCallback(log_preds=False, seed=seed),\n",
    "                        SaveModelCallback(monitor='matthews_corrcoef', fname=name),\n",
    "                        # GradientAccumulation(90)\n",
    "                        # MixUp()\n",
    "                ]\n",
    "               ).to_fp16()"
   ]
  },
  {
   "cell_type": "code",
   "execution_count": 28,
   "id": "a372eac8-7ec4-43ee-b6b9-b9a82ce7fa99",
   "metadata": {},
   "outputs": [
    {
     "name": "stdout",
     "output_type": "stream",
     "text": [
      "Could not gather input dimensions\n"
     ]
    },
    {
     "data": {
      "text/html": [
       "\n",
       "<style>\n",
       "    /* Turns off some styling */\n",
       "    progress {\n",
       "        /* gets rid of default border in Firefox and Opera. */\n",
       "        border: none;\n",
       "        /* Needs to be in here for Safari polyfill so background images work as expected. */\n",
       "        background-size: auto;\n",
       "    }\n",
       "    progress:not([value]), progress:not([value])::-webkit-progress-bar {\n",
       "        background: repeating-linear-gradient(45deg, #7e7e7e, #7e7e7e 10px, #5c5c5c 10px, #5c5c5c 20px);\n",
       "    }\n",
       "    .progress-bar-interrupted, .progress-bar-interrupted::-webkit-progress-bar {\n",
       "        background: #F44336;\n",
       "    }\n",
       "</style>\n"
      ],
      "text/plain": [
       "<IPython.core.display.HTML object>"
      ]
     },
     "metadata": {},
     "output_type": "display_data"
    },
    {
     "data": {
      "text/html": [
       "<table border=\"1\" class=\"dataframe\">\n",
       "  <thead>\n",
       "    <tr style=\"text-align: left;\">\n",
       "      <th>epoch</th>\n",
       "      <th>train_loss</th>\n",
       "      <th>valid_loss</th>\n",
       "      <th>accuracy</th>\n",
       "      <th>matthews_corrcoef</th>\n",
       "      <th>recall_score</th>\n",
       "      <th>precision_score</th>\n",
       "      <th>f1_score</th>\n",
       "      <th>time</th>\n",
       "    </tr>\n",
       "  </thead>\n",
       "  <tbody>\n",
       "    <tr>\n",
       "      <td>0</td>\n",
       "      <td>0.402735</td>\n",
       "      <td>0.466070</td>\n",
       "      <td>0.774336</td>\n",
       "      <td>0.509026</td>\n",
       "      <td>0.855106</td>\n",
       "      <td>0.473269</td>\n",
       "      <td>0.609308</td>\n",
       "      <td>12:12</td>\n",
       "    </tr>\n",
       "    <tr>\n",
       "      <td>1</td>\n",
       "      <td>0.416757</td>\n",
       "      <td>0.545992</td>\n",
       "      <td>0.695410</td>\n",
       "      <td>0.461277</td>\n",
       "      <td>0.937564</td>\n",
       "      <td>0.398073</td>\n",
       "      <td>0.558863</td>\n",
       "      <td>12:14</td>\n",
       "    </tr>\n",
       "    <tr>\n",
       "      <td>2</td>\n",
       "      <td>0.375256</td>\n",
       "      <td>0.358354</td>\n",
       "      <td>0.831348</td>\n",
       "      <td>0.566663</td>\n",
       "      <td>0.795643</td>\n",
       "      <td>0.563951</td>\n",
       "      <td>0.660056</td>\n",
       "      <td>12:13</td>\n",
       "    </tr>\n",
       "    <tr>\n",
       "      <td>3</td>\n",
       "      <td>0.313554</td>\n",
       "      <td>0.397667</td>\n",
       "      <td>0.817089</td>\n",
       "      <td>0.571149</td>\n",
       "      <td>0.857897</td>\n",
       "      <td>0.534637</td>\n",
       "      <td>0.658746</td>\n",
       "      <td>12:09</td>\n",
       "    </tr>\n",
       "    <tr>\n",
       "      <td>4</td>\n",
       "      <td>0.285263</td>\n",
       "      <td>0.404041</td>\n",
       "      <td>0.812781</td>\n",
       "      <td>0.580778</td>\n",
       "      <td>0.892543</td>\n",
       "      <td>0.526617</td>\n",
       "      <td>0.662404</td>\n",
       "      <td>12:10</td>\n",
       "    </tr>\n",
       "    <tr>\n",
       "      <td>5</td>\n",
       "      <td>0.246837</td>\n",
       "      <td>0.309494</td>\n",
       "      <td>0.866559</td>\n",
       "      <td>0.630391</td>\n",
       "      <td>0.793459</td>\n",
       "      <td>0.642289</td>\n",
       "      <td>0.709916</td>\n",
       "      <td>12:10</td>\n",
       "    </tr>\n",
       "    <tr>\n",
       "      <td>6</td>\n",
       "      <td>0.220869</td>\n",
       "      <td>0.326179</td>\n",
       "      <td>0.859255</td>\n",
       "      <td>0.625762</td>\n",
       "      <td>0.819307</td>\n",
       "      <td>0.619489</td>\n",
       "      <td>0.705523</td>\n",
       "      <td>12:10</td>\n",
       "    </tr>\n",
       "    <tr>\n",
       "      <td>7</td>\n",
       "      <td>0.191705</td>\n",
       "      <td>0.323336</td>\n",
       "      <td>0.868545</td>\n",
       "      <td>0.636464</td>\n",
       "      <td>0.799527</td>\n",
       "      <td>0.645900</td>\n",
       "      <td>0.714549</td>\n",
       "      <td>12:12</td>\n",
       "    </tr>\n",
       "    <tr>\n",
       "      <td>8</td>\n",
       "      <td>0.156977</td>\n",
       "      <td>0.337355</td>\n",
       "      <td>0.866934</td>\n",
       "      <td>0.632137</td>\n",
       "      <td>0.796311</td>\n",
       "      <td>0.642577</td>\n",
       "      <td>0.711232</td>\n",
       "      <td>12:11</td>\n",
       "    </tr>\n",
       "    <tr>\n",
       "      <td>9</td>\n",
       "      <td>0.167089</td>\n",
       "      <td>0.338820</td>\n",
       "      <td>0.870592</td>\n",
       "      <td>0.632064</td>\n",
       "      <td>0.774468</td>\n",
       "      <td>0.657565</td>\n",
       "      <td>0.711245</td>\n",
       "      <td>12:17</td>\n",
       "    </tr>\n",
       "  </tbody>\n",
       "</table>"
      ],
      "text/plain": [
       "<IPython.core.display.HTML object>"
      ]
     },
     "metadata": {},
     "output_type": "display_data"
    },
    {
     "name": "stdout",
     "output_type": "stream",
     "text": [
      "43 1\n",
      "Better model found at epoch 0 with matthews_corrcoef value: 0.5090255113068459.\n",
      "44 2\n",
      "45 3\n",
      "Better model found at epoch 2 with matthews_corrcoef value: 0.5666634333507397.\n",
      "46 4\n",
      "Better model found at epoch 3 with matthews_corrcoef value: 0.57114872542535.\n",
      "47 5\n",
      "Better model found at epoch 4 with matthews_corrcoef value: 0.5807784932058084.\n",
      "48 6\n",
      "Better model found at epoch 5 with matthews_corrcoef value: 0.6303910138892527.\n",
      "49 7\n",
      "50 8\n",
      "Better model found at epoch 7 with matthews_corrcoef value: 0.636463979101644.\n",
      "51 9\n",
      "52 10\n"
     ]
    }
   ],
   "source": [
    "learn.fit_one_cycle(10, 1e-3)"
   ]
  },
  {
   "cell_type": "code",
   "execution_count": 29,
   "id": "69e865c9-9988-433f-ba92-a12559493ab6",
   "metadata": {},
   "outputs": [],
   "source": [
    "torch.save(learn.model, f'nflutils/{name}.pkl')"
   ]
  },
  {
   "cell_type": "code",
   "execution_count": 50,
   "id": "3143c852-237b-454c-acf6-ac891292643b",
   "metadata": {},
   "outputs": [
    {
     "name": "stderr",
     "output_type": "stream",
     "text": [
      "/usr/local/lib/python3.9/dist-packages/fastai/learner.py:59: UserWarning: Saved filed doesn't contain an optimizer state.\n",
      "  elif with_opt: warn(\"Saved filed doesn't contain an optimizer state.\")\n"
     ]
    },
    {
     "data": {
      "text/plain": [
       "<fastai.learner.Learner at 0x7faac180d0a0>"
      ]
     },
     "execution_count": 50,
     "metadata": {},
     "output_type": "execute_result"
    }
   ],
   "source": [
    "learn.load(name)"
   ]
  },
  {
   "cell_type": "code",
   "execution_count": 51,
   "id": "1dceeae6-11cb-43c0-a511-df3535c12c71",
   "metadata": {},
   "outputs": [],
   "source": [
    "val_games = kf_dict[split]['val_games']\n",
    "\n",
    "val_df = df_combo_with_helmets.query('game_play in @val_games').copy()\n",
    "val_df = val_df[(val_df.left_2.notnull())].copy()\n",
    "val_df['frame'] = val_df['frame'].astype(int)\n",
    "\n",
    "test_ds = NFLFrameTrackingDataset(val_df, transform=val_transform, crop_size=256)\n",
    "\n",
    "test_loader = DataLoader(\n",
    "    test_ds, batch_size=64, shuffle=False, num_workers=8, pin_memory=True,\n",
    ")"
   ]
  },
  {
   "cell_type": "code",
   "execution_count": 52,
   "id": "e46bac9e-c658-4e93-ac13-837a92744958",
   "metadata": {},
   "outputs": [
    {
     "data": {
      "text/html": [
       "\n",
       "<style>\n",
       "    /* Turns off some styling */\n",
       "    progress {\n",
       "        /* gets rid of default border in Firefox and Opera. */\n",
       "        border: none;\n",
       "        /* Needs to be in here for Safari polyfill so background images work as expected. */\n",
       "        background-size: auto;\n",
       "    }\n",
       "    progress:not([value]), progress:not([value])::-webkit-progress-bar {\n",
       "        background: repeating-linear-gradient(45deg, #7e7e7e, #7e7e7e 10px, #5c5c5c 10px, #5c5c5c 20px);\n",
       "    }\n",
       "    .progress-bar-interrupted, .progress-bar-interrupted::-webkit-progress-bar {\n",
       "        background: #F44336;\n",
       "    }\n",
       "</style>\n"
      ],
      "text/plain": [
       "<IPython.core.display.HTML object>"
      ]
     },
     "metadata": {},
     "output_type": "display_data"
    },
    {
     "data": {
      "text/html": [],
      "text/plain": [
       "<IPython.core.display.HTML object>"
      ]
     },
     "metadata": {},
     "output_type": "display_data"
    },
    {
     "name": "stdout",
     "output_type": "stream",
     "text": [
      "43 1\n"
     ]
    }
   ],
   "source": [
    "preds, _ = learn.get_preds(dl=test_loader)"
   ]
  },
  {
   "cell_type": "code",
   "execution_count": 53,
   "id": "9a05a11d-1975-4415-8502-8b280a04db1f",
   "metadata": {},
   "outputs": [],
   "source": [
    "val_df['contact_pred'] = preds[:, 1]\n",
    "\n",
    "val_df.to_parquet(f'{name}.parquet', index=False)"
   ]
  },
  {
   "cell_type": "code",
   "execution_count": 54,
   "id": "20f6486b-c2f9-4727-8dfe-a950dfa0d1d7",
   "metadata": {},
   "outputs": [
    {
     "data": {
      "text/plain": [
       "0.6375199988295489"
      ]
     },
     "execution_count": 54,
     "metadata": {},
     "output_type": "execute_result"
    }
   ],
   "source": [
    "matthews_corrcoef(val_df.contact, val_df.contact_pred > 0.5)"
   ]
  },
  {
   "cell_type": "markdown",
   "id": "ce9e4542-000e-4c24-8848-ca0ebe39d002",
   "metadata": {
    "tags": []
   },
   "source": [
    "### Ground"
   ]
  },
  {
   "cell_type": "markdown",
   "id": "b637678b-3ecd-433a-a108-c1333859a0ee",
   "metadata": {
    "jp-MarkdownHeadingCollapsed": true,
    "tags": []
   },
   "source": [
    "#### Fold 0"
   ]
  },
  {
   "cell_type": "code",
   "execution_count": 14,
   "id": "4e3fa871-a656-4912-abc3-7de2d5a4b63c",
   "metadata": {},
   "outputs": [],
   "source": [
    "split = 0\n",
    "name = f'tiny-pg-fold-{split}'"
   ]
  },
  {
   "cell_type": "code",
   "execution_count": 19,
   "id": "cbf12c33-0e34-4f9d-9936-6bf7ba20852a",
   "metadata": {
    "tags": []
   },
   "outputs": [
    {
     "data": {
      "text/html": [
       "Finishing last run (ID:5r6x2to1) before initializing another..."
      ],
      "text/plain": [
       "<IPython.core.display.HTML object>"
      ]
     },
     "metadata": {},
     "output_type": "display_data"
    },
    {
     "data": {
      "text/html": [
       "Waiting for W&B process to finish... <strong style=\"color:green\">(success).</strong>"
      ],
      "text/plain": [
       "<IPython.core.display.HTML object>"
      ]
     },
     "metadata": {},
     "output_type": "display_data"
    },
    {
     "data": {
      "text/html": [
       "<style>\n",
       "    table.wandb td:nth-child(1) { padding: 0 10px; text-align: left ; width: auto;} td:nth-child(2) {text-align: left ; width: 100%}\n",
       "    .wandb-row { display: flex; flex-direction: row; flex-wrap: wrap; justify-content: flex-start; width: 100% }\n",
       "    .wandb-col { display: flex; flex-direction: column; flex-basis: 100%; flex: 1; padding: 10px; }\n",
       "    </style>\n",
       "<div class=\"wandb-row\"><div class=\"wandb-col\"><h3>Run history:</h3><br/><table class=\"wandb\"><tr><td>accuracy</td><td>▁█▅▃</td></tr><tr><td>epoch</td><td>▁▁▁▂▂▂▂▂▂▃▃▃▃▃▃▄▄▄▄▄▅▅▅▅▅▅▆▆▆▆▆▆▇▇▇▇▇███</td></tr><tr><td>eps_0</td><td>▁▁▁▁▁▁▁▁▁▁▁▁▁▁▁▁▁▁▁▁▁▁▁▁▁▁▁▁▁▁▁▁▁▁▁▁▁▁▁▁</td></tr><tr><td>f1_score</td><td>▁█▅▃</td></tr><tr><td>lr_0</td><td>▁▁▁▁▂▂▂▂▃▃▄▄▅▅▆▆▇▇▇████████████████▇▇▇▇▇</td></tr><tr><td>matthews_corrcoef</td><td>▁█▅▃</td></tr><tr><td>mom_0</td><td>████▇▇▇▇▆▆▅▅▄▄▃▃▂▂▂▁▁▁▁▁▁▁▁▁▁▁▁▁▁▁▁▂▂▂▂▂</td></tr><tr><td>precision_score</td><td>▁█▄▂</td></tr><tr><td>raw_loss</td><td>█▅▆▄▄▃▃▅▂▂▃▃▃▃▁▃▁▁▂▁▂▂▂▂▂▂▂▂▂▂▁▂▁▂▁▂▂▁▁▂</td></tr><tr><td>recall_score</td><td>▆▁▄█</td></tr><tr><td>sqr_mom_0</td><td>▁▁▁▁▁▁▁▁▁▁▁▁▁▁▁▁▁▁▁▁▁▁▁▁▁▁▁▁▁▁▁▁▁▁▁▁▁▁▁▁</td></tr><tr><td>train_loss</td><td>█▆▅▄▄▃▃▃▃▂▂▂▂▂▂▂▂▂▂▂▂▂▂▁▁▂▁▁▁▁▁▁▁▁▁▁▁▁▁▁</td></tr><tr><td>train_samples_per_sec</td><td>▇██▆▇▇▇▇▇▇▅▇▇▇▇█▇▇█▇▇▇▅█▆▇▆▇█▆▇▂█▇█▆▁▆▇█</td></tr><tr><td>valid_loss</td><td>█▁▃▅</td></tr><tr><td>wd_0</td><td>▁▁▁▁▁▁▁▁▁▁▁▁▁▁▁▁▁▁▁▁▁▁▁▁▁▁▁▁▁▁▁▁▁▁▁▁▁▁▁▁</td></tr></table><br/></div><div class=\"wandb-col\"><h3>Run summary:</h3><br/><table class=\"wandb\"><tr><td>accuracy</td><td>0.91144</td></tr><tr><td>epoch</td><td>4.29412</td></tr><tr><td>eps_0</td><td>1e-05</td></tr><tr><td>f1_score</td><td>0.439</td></tr><tr><td>lr_0</td><td>0.00087</td></tr><tr><td>matthews_corrcoef</td><td>0.48447</td></tr><tr><td>mom_0</td><td>0.86344</td></tr><tr><td>precision_score</td><td>0.28916</td></tr><tr><td>raw_loss</td><td>0.27715</td></tr><tr><td>recall_score</td><td>0.91118</td></tr><tr><td>sqr_mom_0</td><td>0.99</td></tr><tr><td>train_loss</td><td>0.16582</td></tr><tr><td>train_samples_per_sec</td><td>170.26748</td></tr><tr><td>valid_loss</td><td>0.2065</td></tr><tr><td>wd_0</td><td>0.01</td></tr></table><br/></div></div>"
      ],
      "text/plain": [
       "<IPython.core.display.HTML object>"
      ]
     },
     "metadata": {},
     "output_type": "display_data"
    },
    {
     "data": {
      "text/html": [
       " View run <strong style=\"color:#cdcd00\">tiny-pg-fold-0</strong> at: <a href='https://wandb.ai/ahmedsamirio/nfl-1st-and-future/runs/5r6x2to1' target=\"_blank\">https://wandb.ai/ahmedsamirio/nfl-1st-and-future/runs/5r6x2to1</a><br/>Synced 5 W&B file(s), 0 media file(s), 0 artifact file(s) and 0 other file(s)"
      ],
      "text/plain": [
       "<IPython.core.display.HTML object>"
      ]
     },
     "metadata": {},
     "output_type": "display_data"
    },
    {
     "data": {
      "text/html": [
       "Find logs at: <code>./wandb/run-20230224_114859-5r6x2to1/logs</code>"
      ],
      "text/plain": [
       "<IPython.core.display.HTML object>"
      ]
     },
     "metadata": {},
     "output_type": "display_data"
    },
    {
     "data": {
      "text/html": [
       "Successfully finished last run (ID:5r6x2to1). Initializing new run:<br/>"
      ],
      "text/plain": [
       "<IPython.core.display.HTML object>"
      ]
     },
     "metadata": {},
     "output_type": "display_data"
    },
    {
     "data": {
      "text/html": [
       "Tracking run with wandb version 0.13.10"
      ],
      "text/plain": [
       "<IPython.core.display.HTML object>"
      ]
     },
     "metadata": {},
     "output_type": "display_data"
    },
    {
     "data": {
      "text/html": [
       "Run data is saved locally in <code>/notebooks/wandb/run-20230224_121927-aeraer9n</code>"
      ],
      "text/plain": [
       "<IPython.core.display.HTML object>"
      ]
     },
     "metadata": {},
     "output_type": "display_data"
    },
    {
     "data": {
      "text/html": [
       "Syncing run <strong><a href='https://wandb.ai/ahmedsamirio/nfl-1st-and-future/runs/aeraer9n' target=\"_blank\">tiny-pg-fold-0</a></strong> to <a href='https://wandb.ai/ahmedsamirio/nfl-1st-and-future' target=\"_blank\">Weights & Biases</a> (<a href='https://wandb.me/run' target=\"_blank\">docs</a>)<br/>"
      ],
      "text/plain": [
       "<IPython.core.display.HTML object>"
      ]
     },
     "metadata": {},
     "output_type": "display_data"
    },
    {
     "data": {
      "text/html": [
       " View project at <a href='https://wandb.ai/ahmedsamirio/nfl-1st-and-future' target=\"_blank\">https://wandb.ai/ahmedsamirio/nfl-1st-and-future</a>"
      ],
      "text/plain": [
       "<IPython.core.display.HTML object>"
      ]
     },
     "metadata": {},
     "output_type": "display_data"
    },
    {
     "data": {
      "text/html": [
       " View run at <a href='https://wandb.ai/ahmedsamirio/nfl-1st-and-future/runs/aeraer9n' target=\"_blank\">https://wandb.ai/ahmedsamirio/nfl-1st-and-future/runs/aeraer9n</a>"
      ],
      "text/plain": [
       "<IPython.core.display.HTML object>"
      ]
     },
     "metadata": {},
     "output_type": "display_data"
    },
    {
     "data": {
      "text/html": [
       "<button onClick=\"this.nextSibling.style.display='block';this.style.display='none';\">Display W&B run</button><iframe src='https://wandb.ai/ahmedsamirio/nfl-1st-and-future/runs/aeraer9n?jupyter=true' style='border:none;width:100%;height:420px;display:none;'></iframe>"
      ],
      "text/plain": [
       "<wandb.sdk.wandb_run.Run at 0x7f547b50c370>"
      ]
     },
     "execution_count": 19,
     "metadata": {},
     "output_type": "execute_result"
    }
   ],
   "source": [
    "split = 0\n",
    "name = f'tiny-pg-fold-{split}'\n",
    "wandb.init(project='nfl-1st-and-future', group='pg-folds', name=name, force=True)"
   ]
  },
  {
   "cell_type": "code",
   "execution_count": 20,
   "id": "d17a65da-6137-42c8-8c07-0ac90fcd4eea",
   "metadata": {},
   "outputs": [],
   "source": [
    "mean = [0.485, 0.456, 0.406]\n",
    "std = [0.229, 0.224, 0.225]\n",
    "train_transform = A.Compose(\n",
    "    [\n",
    "        A.HorizontalFlip(),\n",
    "        A.ShiftScaleRotate(shift_limit=0.05, scale_limit=0.05, rotate_limit=15, p=0.5),\n",
    "        A.RandomBrightnessContrast(p=0.5),\n",
    "        A.Normalize(mean=mean, std=std),\n",
    "        ToTensorV2(),\n",
    "    ]\n",
    ")\n",
    "\n",
    "val_transform = A.Compose(\n",
    "    [\n",
    "        A.Normalize(mean=mean, std=mean),\n",
    "        ToTensorV2(),\n",
    "    ]\n",
    ")"
   ]
  },
  {
   "cell_type": "code",
   "execution_count": 21,
   "id": "5f673fdd-d650-48fd-a1b3-7314f692aa35",
   "metadata": {},
   "outputs": [],
   "source": [
    "seed = 42\n",
    "set_seed(seed, True)\n",
    "\n",
    "df = df_combo_with_helmets[(df_combo_with_helmets.nfl_player_id_2 == \"G\")].copy()\n",
    "\n",
    "frames_kwargs = dict(frames_path=CFG.frames_path, offset=0, sample_every_n_frame=6, undersample_no_contact=True, seed=seed)\n",
    "\n",
    "data = get_dls(df, kf_dict, split, train_transform, val_transform, frames_kwargs=frames_kwargs, dl=NFLFrameDataset)\n",
    "\n",
    "model, model_info = create_timm_model('convnext_tiny', 2)\n",
    "learn = Learner(data, model, CrossEntropyLossFlat(),\n",
    "                metrics=[accuracy, MatthewsCorrCoef(), Recall(), Precision(), F1Score()],\n",
    "                cbs=[\n",
    "                        ShuffleGamePlayCallBack(df, kf_dict, split, train_transform, val_transform, frames_kwargs, dl=NFLFrameDataset),\n",
    "                        WandbCallback(log_preds=False, seed=seed),\n",
    "                        SaveModelCallback(monitor='matthews_corrcoef', fname=name),\n",
    "                        # MixUp()\n",
    "                ]\n",
    "               ).to_fp16()"
   ]
  },
  {
   "cell_type": "code",
   "execution_count": 22,
   "id": "d90fb140-699f-4d54-bf38-c75e243e1152",
   "metadata": {},
   "outputs": [
    {
     "name": "stdout",
     "output_type": "stream",
     "text": [
      "Could not gather input dimensions\n"
     ]
    },
    {
     "data": {
      "text/html": [
       "\n",
       "<style>\n",
       "    /* Turns off some styling */\n",
       "    progress {\n",
       "        /* gets rid of default border in Firefox and Opera. */\n",
       "        border: none;\n",
       "        /* Needs to be in here for Safari polyfill so background images work as expected. */\n",
       "        background-size: auto;\n",
       "    }\n",
       "    progress:not([value]), progress:not([value])::-webkit-progress-bar {\n",
       "        background: repeating-linear-gradient(45deg, #7e7e7e, #7e7e7e 10px, #5c5c5c 10px, #5c5c5c 20px);\n",
       "    }\n",
       "    .progress-bar-interrupted, .progress-bar-interrupted::-webkit-progress-bar {\n",
       "        background: #F44336;\n",
       "    }\n",
       "</style>\n"
      ],
      "text/plain": [
       "<IPython.core.display.HTML object>"
      ]
     },
     "metadata": {},
     "output_type": "display_data"
    },
    {
     "data": {
      "text/html": [
       "<table border=\"1\" class=\"dataframe\">\n",
       "  <thead>\n",
       "    <tr style=\"text-align: left;\">\n",
       "      <th>epoch</th>\n",
       "      <th>train_loss</th>\n",
       "      <th>valid_loss</th>\n",
       "      <th>accuracy</th>\n",
       "      <th>matthews_corrcoef</th>\n",
       "      <th>recall_score</th>\n",
       "      <th>precision_score</th>\n",
       "      <th>f1_score</th>\n",
       "      <th>time</th>\n",
       "    </tr>\n",
       "  </thead>\n",
       "  <tbody>\n",
       "    <tr>\n",
       "      <td>0</td>\n",
       "      <td>0.392010</td>\n",
       "      <td>0.144282</td>\n",
       "      <td>0.954436</td>\n",
       "      <td>0.541380</td>\n",
       "      <td>0.720711</td>\n",
       "      <td>0.439583</td>\n",
       "      <td>0.546090</td>\n",
       "      <td>07:11</td>\n",
       "    </tr>\n",
       "    <tr>\n",
       "      <td>1</td>\n",
       "      <td>0.280953</td>\n",
       "      <td>0.103714</td>\n",
       "      <td>0.961765</td>\n",
       "      <td>0.583915</td>\n",
       "      <td>0.728806</td>\n",
       "      <td>0.498156</td>\n",
       "      <td>0.591801</td>\n",
       "      <td>07:28</td>\n",
       "    </tr>\n",
       "    <tr>\n",
       "      <td>2</td>\n",
       "      <td>0.189933</td>\n",
       "      <td>0.160408</td>\n",
       "      <td>0.937546</td>\n",
       "      <td>0.541476</td>\n",
       "      <td>0.873623</td>\n",
       "      <td>0.365613</td>\n",
       "      <td>0.515491</td>\n",
       "      <td>07:43</td>\n",
       "    </tr>\n",
       "    <tr>\n",
       "      <td>3</td>\n",
       "      <td>0.162506</td>\n",
       "      <td>0.138979</td>\n",
       "      <td>0.949792</td>\n",
       "      <td>0.585857</td>\n",
       "      <td>0.870250</td>\n",
       "      <td>0.422305</td>\n",
       "      <td>0.568658</td>\n",
       "      <td>07:52</td>\n",
       "    </tr>\n",
       "    <tr>\n",
       "      <td>4</td>\n",
       "      <td>0.126658</td>\n",
       "      <td>0.090652</td>\n",
       "      <td>0.970351</td>\n",
       "      <td>0.666808</td>\n",
       "      <td>0.800540</td>\n",
       "      <td>0.579805</td>\n",
       "      <td>0.672523</td>\n",
       "      <td>07:37</td>\n",
       "    </tr>\n",
       "    <tr>\n",
       "      <td>5</td>\n",
       "      <td>0.114268</td>\n",
       "      <td>0.122352</td>\n",
       "      <td>0.954650</td>\n",
       "      <td>0.612131</td>\n",
       "      <td>0.882617</td>\n",
       "      <td>0.450839</td>\n",
       "      <td>0.596822</td>\n",
       "      <td>07:53</td>\n",
       "    </tr>\n",
       "    <tr>\n",
       "      <td>6</td>\n",
       "      <td>0.095915</td>\n",
       "      <td>0.082341</td>\n",
       "      <td>0.971488</td>\n",
       "      <td>0.677436</td>\n",
       "      <td>0.807960</td>\n",
       "      <td>0.591635</td>\n",
       "      <td>0.683080</td>\n",
       "      <td>07:52</td>\n",
       "    </tr>\n",
       "    <tr>\n",
       "      <td>7</td>\n",
       "      <td>0.087857</td>\n",
       "      <td>0.089034</td>\n",
       "      <td>0.970975</td>\n",
       "      <td>0.680587</td>\n",
       "      <td>0.826625</td>\n",
       "      <td>0.583585</td>\n",
       "      <td>0.684162</td>\n",
       "      <td>07:47</td>\n",
       "    </tr>\n",
       "    <tr>\n",
       "      <td>8</td>\n",
       "      <td>0.075366</td>\n",
       "      <td>0.069347</td>\n",
       "      <td>0.978261</td>\n",
       "      <td>0.705078</td>\n",
       "      <td>0.721835</td>\n",
       "      <td>0.710963</td>\n",
       "      <td>0.716358</td>\n",
       "      <td>07:53</td>\n",
       "    </tr>\n",
       "    <tr>\n",
       "      <td>9</td>\n",
       "      <td>0.056456</td>\n",
       "      <td>0.071990</td>\n",
       "      <td>0.976739</td>\n",
       "      <td>0.703028</td>\n",
       "      <td>0.761862</td>\n",
       "      <td>0.671024</td>\n",
       "      <td>0.713564</td>\n",
       "      <td>08:08</td>\n",
       "    </tr>\n",
       "  </tbody>\n",
       "</table>"
      ],
      "text/plain": [
       "<IPython.core.display.HTML object>"
      ]
     },
     "metadata": {},
     "output_type": "display_data"
    },
    {
     "name": "stdout",
     "output_type": "stream",
     "text": [
      "43 1\n",
      "Better model found at epoch 0 with matthews_corrcoef value: 0.5413798590849446.\n",
      "44 2\n",
      "Better model found at epoch 1 with matthews_corrcoef value: 0.5839152916779496.\n",
      "45 3\n",
      "46 4\n",
      "Better model found at epoch 3 with matthews_corrcoef value: 0.5858567416728029.\n",
      "47 5\n",
      "Better model found at epoch 4 with matthews_corrcoef value: 0.6668079162558572.\n",
      "48 6\n",
      "49 7\n",
      "Better model found at epoch 6 with matthews_corrcoef value: 0.6774362091590432.\n",
      "50 8\n",
      "Better model found at epoch 7 with matthews_corrcoef value: 0.6805874033428487.\n",
      "51 9\n",
      "Better model found at epoch 8 with matthews_corrcoef value: 0.7050780789382958.\n",
      "52 10\n"
     ]
    }
   ],
   "source": [
    "learn.fit_one_cycle(10, 4e-4)"
   ]
  },
  {
   "cell_type": "code",
   "execution_count": 23,
   "id": "ae7e4034-5f3a-489c-aa36-a89425619f0d",
   "metadata": {},
   "outputs": [],
   "source": [
    "torch.save(learn.model, f'nflutils/{name}.pkl')"
   ]
  },
  {
   "cell_type": "code",
   "execution_count": null,
   "id": "d3c6c665-8dff-4432-a979-bcccdd1c6764",
   "metadata": {},
   "outputs": [],
   "source": [
    "learn.load(name)"
   ]
  },
  {
   "cell_type": "code",
   "execution_count": 26,
   "id": "a9dd6a2e-4956-43e8-ab5f-b7df18f304c1",
   "metadata": {},
   "outputs": [],
   "source": [
    "val_games = kf_dict[split]['val_games']\n",
    "\n",
    "val_df = df_combo_with_helmets.query('game_play in @val_games').copy()\n",
    "val_df = val_df[(val_df.nfl_player_id_2 == \"G\")].copy()\n",
    "val_df['frame'] = val_df['frame'].astype(int)\n",
    "\n",
    "test_ds = NFLFrameDataset(val_df, transform=val_transform, crop_size=256)\n",
    "\n",
    "test_loader = DataLoader(\n",
    "    test_ds, batch_size=64, shuffle=False, num_workers=8, pin_memory=True,\n",
    ")"
   ]
  },
  {
   "cell_type": "code",
   "execution_count": 27,
   "id": "7285781a-9f5d-4a0a-b109-be3a0a684eda",
   "metadata": {},
   "outputs": [
    {
     "data": {
      "text/html": [
       "\n",
       "<style>\n",
       "    /* Turns off some styling */\n",
       "    progress {\n",
       "        /* gets rid of default border in Firefox and Opera. */\n",
       "        border: none;\n",
       "        /* Needs to be in here for Safari polyfill so background images work as expected. */\n",
       "        background-size: auto;\n",
       "    }\n",
       "    progress:not([value]), progress:not([value])::-webkit-progress-bar {\n",
       "        background: repeating-linear-gradient(45deg, #7e7e7e, #7e7e7e 10px, #5c5c5c 10px, #5c5c5c 20px);\n",
       "    }\n",
       "    .progress-bar-interrupted, .progress-bar-interrupted::-webkit-progress-bar {\n",
       "        background: #F44336;\n",
       "    }\n",
       "</style>\n"
      ],
      "text/plain": [
       "<IPython.core.display.HTML object>"
      ]
     },
     "metadata": {},
     "output_type": "display_data"
    },
    {
     "data": {
      "text/html": [
       "\n",
       "    <div>\n",
       "      <progress value='9364' class='' max='10962' style='width:300px; height:20px; vertical-align: middle;'></progress>\n",
       "      85.42% [9364/10962 21:45&lt;03:42 0.0565]\n",
       "    </div>\n",
       "    "
      ],
      "text/plain": [
       "<IPython.core.display.HTML object>"
      ]
     },
     "metadata": {},
     "output_type": "display_data"
    },
    {
     "name": "stderr",
     "output_type": "stream",
     "text": [
      "IOPub message rate exceeded.\n",
      "The Jupyter server will temporarily stop sending output\n",
      "to the client in order to avoid crashing it.\n",
      "To change this limit, set the config variable\n",
      "`--ServerApp.iopub_msg_rate_limit`.\n",
      "\n",
      "Current values:\n",
      "ServerApp.iopub_msg_rate_limit=1000.0 (msgs/sec)\n",
      "ServerApp.rate_limit_window=3.0 (secs)\n",
      "\n"
     ]
    }
   ],
   "source": [
    "preds, _ = learn.get_preds(dl=test_loader)"
   ]
  },
  {
   "cell_type": "code",
   "execution_count": 28,
   "id": "a10e2349-532d-4984-922f-6059aa84ff58",
   "metadata": {},
   "outputs": [],
   "source": [
    "val_df['contact_pred'] = preds[:, 1]\n",
    "\n",
    "val_df.to_parquet(f'{name}.parquet', index=False)"
   ]
  },
  {
   "cell_type": "code",
   "execution_count": 29,
   "id": "09956270-8799-411f-9b71-aa8e5ad5c542",
   "metadata": {},
   "outputs": [
    {
     "data": {
      "text/plain": [
       "0.7046838483345863"
      ]
     },
     "execution_count": 29,
     "metadata": {},
     "output_type": "execute_result"
    }
   ],
   "source": [
    "matthews_corrcoef(val_df.contact, val_df.contact_pred > 0.5)"
   ]
  },
  {
   "cell_type": "markdown",
   "id": "d825f3a1-4ba4-4268-8142-88b3578b99c3",
   "metadata": {
    "jp-MarkdownHeadingCollapsed": true,
    "tags": []
   },
   "source": [
    "#### Fold 1"
   ]
  },
  {
   "cell_type": "code",
   "execution_count": 30,
   "id": "326043bf-350e-4e27-8c79-1609842faaea",
   "metadata": {
    "tags": []
   },
   "outputs": [],
   "source": [
    "split = 1\n",
    "name = f'tiny-pg-fold-{split}'\n",
    "# wandb.init(project='nfl-1st-and-future', group='pg-folds', name=name, force=True)"
   ]
  },
  {
   "cell_type": "code",
   "execution_count": 31,
   "id": "a4d3abe0-61f2-4c7d-9712-9b1de0c26bf8",
   "metadata": {},
   "outputs": [],
   "source": [
    "mean = [0.485, 0.456, 0.406]\n",
    "std = [0.229, 0.224, 0.225]\n",
    "train_transform = A.Compose(\n",
    "    [\n",
    "        A.HorizontalFlip(),\n",
    "        A.ShiftScaleRotate(shift_limit=0.05, scale_limit=0.05, rotate_limit=15, p=0.5),\n",
    "        A.RandomBrightnessContrast(p=0.5),\n",
    "        A.Normalize(mean=mean, std=std),\n",
    "        ToTensorV2(),\n",
    "    ]\n",
    ")\n",
    "\n",
    "val_transform = A.Compose(\n",
    "    [\n",
    "        A.Normalize(mean=mean, std=mean),\n",
    "        ToTensorV2(),\n",
    "    ]\n",
    ")"
   ]
  },
  {
   "cell_type": "code",
   "execution_count": 32,
   "id": "e4a95294-9721-4c9a-9919-2ad367ee80d2",
   "metadata": {},
   "outputs": [],
   "source": [
    "seed = 42\n",
    "set_seed(seed, True)\n",
    "\n",
    "df = df_combo_with_helmets[(df_combo_with_helmets.nfl_player_id_2 == \"G\")].copy()\n",
    "\n",
    "frames_kwargs = dict(frames_path=CFG.frames_path, offset=0, sample_every_n_frame=6, undersample_no_contact=True, seed=seed)\n",
    "\n",
    "data = get_dls(df, kf_dict, split, train_transform, val_transform, frames_kwargs=frames_kwargs, dl=NFLFrameDataset)\n",
    "\n",
    "model, model_info = create_timm_model('convnext_tiny', 2)\n",
    "learn = Learner(data, model, CrossEntropyLossFlat(),\n",
    "                metrics=[accuracy, MatthewsCorrCoef(), Recall(), Precision(), F1Score()],\n",
    "                cbs=[\n",
    "                        ShuffleGamePlayCallBack(df, kf_dict, split, train_transform, val_transform, frames_kwargs, dl=NFLFrameDataset),\n",
    "                        WandbCallback(log_preds=False, seed=seed),\n",
    "                        SaveModelCallback(monitor='matthews_corrcoef', fname=name),\n",
    "                        # MixUp()\n",
    "                ]\n",
    "               ).to_fp16()"
   ]
  },
  {
   "cell_type": "code",
   "execution_count": 17,
   "id": "492d6c95-779f-4bce-a398-8c686014b549",
   "metadata": {},
   "outputs": [
    {
     "data": {
      "text/html": [
       "\n",
       "<style>\n",
       "    /* Turns off some styling */\n",
       "    progress {\n",
       "        /* gets rid of default border in Firefox and Opera. */\n",
       "        border: none;\n",
       "        /* Needs to be in here for Safari polyfill so background images work as expected. */\n",
       "        background-size: auto;\n",
       "    }\n",
       "    progress:not([value]), progress:not([value])::-webkit-progress-bar {\n",
       "        background: repeating-linear-gradient(45deg, #7e7e7e, #7e7e7e 10px, #5c5c5c 10px, #5c5c5c 20px);\n",
       "    }\n",
       "    .progress-bar-interrupted, .progress-bar-interrupted::-webkit-progress-bar {\n",
       "        background: #F44336;\n",
       "    }\n",
       "</style>\n"
      ],
      "text/plain": [
       "<IPython.core.display.HTML object>"
      ]
     },
     "metadata": {},
     "output_type": "display_data"
    },
    {
     "data": {
      "text/html": [],
      "text/plain": [
       "<IPython.core.display.HTML object>"
      ]
     },
     "metadata": {},
     "output_type": "display_data"
    },
    {
     "data": {
      "text/plain": [
       "SuggestedLRs(valley=0.0003981071640737355)"
      ]
     },
     "execution_count": 17,
     "metadata": {},
     "output_type": "execute_result"
    },
    {
     "data": {
      "image/png": "[encoded data removed]",
      "text/plain": [
       "<Figure size 432x288 with 1 Axes>"
      ]
     },
     "metadata": {
      "needs_background": "light"
     },
     "output_type": "display_data"
    }
   ],
   "source": [
    "learn.lr_find()"
   ]
  },
  {
   "cell_type": "code",
   "execution_count": 18,
   "id": "8595964b-ec9d-42d3-a9ea-ece877fe8770",
   "metadata": {},
   "outputs": [
    {
     "name": "stdout",
     "output_type": "stream",
     "text": [
      "Could not gather input dimensions\n"
     ]
    },
    {
     "data": {
      "text/html": [
       "\n",
       "<style>\n",
       "    /* Turns off some styling */\n",
       "    progress {\n",
       "        /* gets rid of default border in Firefox and Opera. */\n",
       "        border: none;\n",
       "        /* Needs to be in here for Safari polyfill so background images work as expected. */\n",
       "        background-size: auto;\n",
       "    }\n",
       "    progress:not([value]), progress:not([value])::-webkit-progress-bar {\n",
       "        background: repeating-linear-gradient(45deg, #7e7e7e, #7e7e7e 10px, #5c5c5c 10px, #5c5c5c 20px);\n",
       "    }\n",
       "    .progress-bar-interrupted, .progress-bar-interrupted::-webkit-progress-bar {\n",
       "        background: #F44336;\n",
       "    }\n",
       "</style>\n"
      ],
      "text/plain": [
       "<IPython.core.display.HTML object>"
      ]
     },
     "metadata": {},
     "output_type": "display_data"
    },
    {
     "data": {
      "text/html": [
       "<table border=\"1\" class=\"dataframe\">\n",
       "  <thead>\n",
       "    <tr style=\"text-align: left;\">\n",
       "      <th>epoch</th>\n",
       "      <th>train_loss</th>\n",
       "      <th>valid_loss</th>\n",
       "      <th>accuracy</th>\n",
       "      <th>matthews_corrcoef</th>\n",
       "      <th>recall_score</th>\n",
       "      <th>precision_score</th>\n",
       "      <th>f1_score</th>\n",
       "      <th>time</th>\n",
       "    </tr>\n",
       "  </thead>\n",
       "  <tbody>\n",
       "    <tr>\n",
       "      <td>0</td>\n",
       "      <td>0.410767</td>\n",
       "      <td>0.245787</td>\n",
       "      <td>0.902531</td>\n",
       "      <td>0.448746</td>\n",
       "      <td>0.834475</td>\n",
       "      <td>0.280112</td>\n",
       "      <td>0.419432</td>\n",
       "      <td>05:46</td>\n",
       "    </tr>\n",
       "    <tr>\n",
       "      <td>1</td>\n",
       "      <td>0.345449</td>\n",
       "      <td>0.225194</td>\n",
       "      <td>0.911458</td>\n",
       "      <td>0.502422</td>\n",
       "      <td>0.909627</td>\n",
       "      <td>0.311750</td>\n",
       "      <td>0.464355</td>\n",
       "      <td>05:47</td>\n",
       "    </tr>\n",
       "    <tr>\n",
       "      <td>2</td>\n",
       "      <td>0.188216</td>\n",
       "      <td>0.121067</td>\n",
       "      <td>0.958643</td>\n",
       "      <td>0.634069</td>\n",
       "      <td>0.842275</td>\n",
       "      <td>0.505943</td>\n",
       "      <td>0.632158</td>\n",
       "      <td>05:49</td>\n",
       "    </tr>\n",
       "    <tr>\n",
       "      <td>3</td>\n",
       "      <td>0.147789</td>\n",
       "      <td>0.076898</td>\n",
       "      <td>0.974489</td>\n",
       "      <td>0.698937</td>\n",
       "      <td>0.745434</td>\n",
       "      <td>0.680445</td>\n",
       "      <td>0.711458</td>\n",
       "      <td>05:46</td>\n",
       "    </tr>\n",
       "    <tr>\n",
       "      <td>4</td>\n",
       "      <td>0.120758</td>\n",
       "      <td>0.160173</td>\n",
       "      <td>0.940998</td>\n",
       "      <td>0.587400</td>\n",
       "      <td>0.907915</td>\n",
       "      <td>0.410036</td>\n",
       "      <td>0.564934</td>\n",
       "      <td>05:48</td>\n",
       "    </tr>\n",
       "    <tr>\n",
       "      <td>5</td>\n",
       "      <td>0.100673</td>\n",
       "      <td>0.075889</td>\n",
       "      <td>0.973509</td>\n",
       "      <td>0.707800</td>\n",
       "      <td>0.797755</td>\n",
       "      <td>0.652100</td>\n",
       "      <td>0.717611</td>\n",
       "      <td>05:47</td>\n",
       "    </tr>\n",
       "    <tr>\n",
       "      <td>6</td>\n",
       "      <td>0.087746</td>\n",
       "      <td>0.100986</td>\n",
       "      <td>0.965281</td>\n",
       "      <td>0.655311</td>\n",
       "      <td>0.804033</td>\n",
       "      <td>0.561893</td>\n",
       "      <td>0.661501</td>\n",
       "      <td>05:47</td>\n",
       "    </tr>\n",
       "    <tr>\n",
       "      <td>7</td>\n",
       "      <td>0.086815</td>\n",
       "      <td>0.112665</td>\n",
       "      <td>0.963178</td>\n",
       "      <td>0.666830</td>\n",
       "      <td>0.865868</td>\n",
       "      <td>0.539666</td>\n",
       "      <td>0.664913</td>\n",
       "      <td>05:47</td>\n",
       "    </tr>\n",
       "    <tr>\n",
       "      <td>8</td>\n",
       "      <td>0.073475</td>\n",
       "      <td>0.083455</td>\n",
       "      <td>0.972209</td>\n",
       "      <td>0.690395</td>\n",
       "      <td>0.773973</td>\n",
       "      <td>0.641438</td>\n",
       "      <td>0.701500</td>\n",
       "      <td>05:48</td>\n",
       "    </tr>\n",
       "    <tr>\n",
       "      <td>9</td>\n",
       "      <td>0.056341</td>\n",
       "      <td>0.081211</td>\n",
       "      <td>0.973734</td>\n",
       "      <td>0.696083</td>\n",
       "      <td>0.755708</td>\n",
       "      <td>0.666443</td>\n",
       "      <td>0.708274</td>\n",
       "      <td>05:48</td>\n",
       "    </tr>\n",
       "  </tbody>\n",
       "</table>"
      ],
      "text/plain": [
       "<IPython.core.display.HTML object>"
      ]
     },
     "metadata": {},
     "output_type": "display_data"
    },
    {
     "name": "stdout",
     "output_type": "stream",
     "text": [
      "43 1\n",
      "Better model found at epoch 0 with matthews_corrcoef value: 0.44874624834190513.\n",
      "44 2\n",
      "Better model found at epoch 1 with matthews_corrcoef value: 0.502421804442397.\n",
      "45 3\n",
      "Better model found at epoch 2 with matthews_corrcoef value: 0.634068691183282.\n",
      "46 4\n",
      "Better model found at epoch 3 with matthews_corrcoef value: 0.6989365968448054.\n",
      "47 5\n",
      "48 6\n",
      "Better model found at epoch 5 with matthews_corrcoef value: 0.7077998689433206.\n",
      "49 7\n",
      "50 8\n",
      "51 9\n",
      "52 10\n"
     ]
    }
   ],
   "source": [
    "learn.fit_one_cycle(10, 4e-4)"
   ]
  },
  {
   "cell_type": "code",
   "execution_count": 19,
   "id": "bd1927ae-dd8f-461d-b7c6-94570d1f4d50",
   "metadata": {},
   "outputs": [],
   "source": [
    "torch.save(learn.model, f'nflutils/{name}.pkl')"
   ]
  },
  {
   "cell_type": "code",
   "execution_count": 33,
   "id": "f6fdc484-312a-49d4-ab86-ed9fbd2f8739",
   "metadata": {},
   "outputs": [
    {
     "name": "stderr",
     "output_type": "stream",
     "text": [
      "/usr/local/lib/python3.9/dist-packages/fastai/learner.py:59: UserWarning: Saved filed doesn't contain an optimizer state.\n",
      "  elif with_opt: warn(\"Saved filed doesn't contain an optimizer state.\")\n"
     ]
    },
    {
     "data": {
      "text/plain": [
       "<fastai.learner.Learner at 0x7f547240f820>"
      ]
     },
     "execution_count": 33,
     "metadata": {},
     "output_type": "execute_result"
    }
   ],
   "source": [
    "learn.load(name)"
   ]
  },
  {
   "cell_type": "code",
   "execution_count": 34,
   "id": "c23d68f3-b777-40e8-9b29-5fe877cb558a",
   "metadata": {},
   "outputs": [],
   "source": [
    "val_games = kf_dict[split]['val_games']\n",
    "\n",
    "val_df = df_combo_with_helmets.query('game_play in @val_games').copy()\n",
    "val_df = val_df[(val_df.nfl_player_id_2 == \"G\")].copy()\n",
    "val_df['frame'] = val_df['frame'].astype(int)\n",
    "\n",
    "test_ds = NFLFrameDataset(val_df, transform=val_transform, crop_size=256)\n",
    "\n",
    "test_loader = DataLoader(\n",
    "    test_ds, batch_size=64, shuffle=False, num_workers=8, pin_memory=True,\n",
    ")"
   ]
  },
  {
   "cell_type": "code",
   "execution_count": null,
   "id": "f625ad81-0882-4da4-a788-d20e647a6ac0",
   "metadata": {},
   "outputs": [
    {
     "data": {
      "text/html": [
       "\n",
       "<style>\n",
       "    /* Turns off some styling */\n",
       "    progress {\n",
       "        /* gets rid of default border in Firefox and Opera. */\n",
       "        border: none;\n",
       "        /* Needs to be in here for Safari polyfill so background images work as expected. */\n",
       "        background-size: auto;\n",
       "    }\n",
       "    progress:not([value]), progress:not([value])::-webkit-progress-bar {\n",
       "        background: repeating-linear-gradient(45deg, #7e7e7e, #7e7e7e 10px, #5c5c5c 10px, #5c5c5c 20px);\n",
       "    }\n",
       "    .progress-bar-interrupted, .progress-bar-interrupted::-webkit-progress-bar {\n",
       "        background: #F44336;\n",
       "    }\n",
       "</style>\n"
      ],
      "text/plain": [
       "<IPython.core.display.HTML object>"
      ]
     },
     "metadata": {},
     "output_type": "display_data"
    },
    {
     "data": {
      "text/html": [
       "\n",
       "    <div>\n",
       "      <progress value='6083' class='' max='11712' style='width:300px; height:20px; vertical-align: middle;'></progress>\n",
       "      51.94% [6083/11712 14:16&lt;13:12]\n",
       "    </div>\n",
       "    "
      ],
      "text/plain": [
       "<IPython.core.display.HTML object>"
      ]
     },
     "metadata": {},
     "output_type": "display_data"
    }
   ],
   "source": [
    "preds, _ = learn.get_preds(dl=test_loader)"
   ]
  },
  {
   "cell_type": "code",
   "execution_count": null,
   "id": "a5bcaba8-2863-4a3e-aed2-cc59f8cc63e9",
   "metadata": {},
   "outputs": [],
   "source": [
    "val_df['contact_pred'] = preds[:, 1]\n",
    "\n",
    "val_df.to_parquet(f'{name}.parquet', index=False)"
   ]
  },
  {
   "cell_type": "code",
   "execution_count": null,
   "id": "5bac5613-96ce-49e8-89bd-984f477e75b3",
   "metadata": {},
   "outputs": [],
   "source": [
    "matthews_corrcoef(val_df.contact, val_df.contact_pred > 0.5)"
   ]
  },
  {
   "cell_type": "markdown",
   "id": "87580f88-7257-402a-853d-eaefb9a15620",
   "metadata": {
    "tags": []
   },
   "source": [
    "#### Fold 2"
   ]
  },
  {
   "cell_type": "code",
   "execution_count": 55,
   "id": "f8256a07-af7e-43f6-8607-58a4f66e76ba",
   "metadata": {
    "tags": []
   },
   "outputs": [],
   "source": [
    "split = 2\n",
    "name = f'tiny-pg-fold-{split}'\n",
    "# wandb.init(project='nfl-1st-and-future', group='pg-folds', name=name, force=True)"
   ]
  },
  {
   "cell_type": "code",
   "execution_count": 56,
   "id": "e2df647f-1437-4be8-af91-12b65c488166",
   "metadata": {},
   "outputs": [],
   "source": [
    "mean = [0.485, 0.456, 0.406]\n",
    "std = [0.229, 0.224, 0.225]\n",
    "train_transform = A.Compose(\n",
    "    [\n",
    "        A.HorizontalFlip(),\n",
    "        A.ShiftScaleRotate(shift_limit=0.05, scale_limit=0.05, rotate_limit=15, p=0.5),\n",
    "        A.RandomBrightnessContrast(p=0.5),\n",
    "        A.Normalize(mean=mean, std=std),\n",
    "        ToTensorV2(),\n",
    "    ]\n",
    ")\n",
    "\n",
    "val_transform = A.Compose(\n",
    "    [\n",
    "        A.Normalize(mean=mean, std=mean),\n",
    "        ToTensorV2(),\n",
    "    ]\n",
    ")"
   ]
  },
  {
   "cell_type": "code",
   "execution_count": 57,
   "id": "40afcac4-e215-4fbe-888f-a58411583383",
   "metadata": {},
   "outputs": [],
   "source": [
    "seed = 42\n",
    "set_seed(seed, True)\n",
    "\n",
    "df = df_combo_with_helmets[(df_combo_with_helmets.nfl_player_id_2 == \"G\")].copy()\n",
    "\n",
    "frames_kwargs = dict(frames_path=CFG.frames_path, offset=0, sample_every_n_frame=6, undersample_no_contact=True, seed=seed)\n",
    "\n",
    "data = get_dls(df, kf_dict, split, train_transform, val_transform, frames_kwargs=frames_kwargs, dl=NFLFrameDataset)\n",
    "\n",
    "model, model_info = create_timm_model('convnext_tiny', 2)\n",
    "learn = Learner(data, model, CrossEntropyLossFlat(),\n",
    "                metrics=[accuracy, MatthewsCorrCoef(), Recall(), Precision(), F1Score()],\n",
    "                cbs=[\n",
    "                        ShuffleGamePlayCallBack(df, kf_dict, split, train_transform, val_transform, frames_kwargs, dl=NFLFrameDataset),\n",
    "                        # WandbCallback(log_preds=False, seed=seed),\n",
    "                        SaveModelCallback(monitor='matthews_corrcoef', fname=name),\n",
    "                        # MixUp()\n",
    "                ]\n",
    "               ).to_fp16()"
   ]
  },
  {
   "cell_type": "code",
   "execution_count": 27,
   "id": "0b72dbec-615e-4785-9f7a-d7aa34074cfc",
   "metadata": {},
   "outputs": [
    {
     "name": "stdout",
     "output_type": "stream",
     "text": [
      "Could not gather input dimensions\n"
     ]
    },
    {
     "data": {
      "text/html": [
       "\n",
       "<style>\n",
       "    /* Turns off some styling */\n",
       "    progress {\n",
       "        /* gets rid of default border in Firefox and Opera. */\n",
       "        border: none;\n",
       "        /* Needs to be in here for Safari polyfill so background images work as expected. */\n",
       "        background-size: auto;\n",
       "    }\n",
       "    progress:not([value]), progress:not([value])::-webkit-progress-bar {\n",
       "        background: repeating-linear-gradient(45deg, #7e7e7e, #7e7e7e 10px, #5c5c5c 10px, #5c5c5c 20px);\n",
       "    }\n",
       "    .progress-bar-interrupted, .progress-bar-interrupted::-webkit-progress-bar {\n",
       "        background: #F44336;\n",
       "    }\n",
       "</style>\n"
      ],
      "text/plain": [
       "<IPython.core.display.HTML object>"
      ]
     },
     "metadata": {},
     "output_type": "display_data"
    },
    {
     "data": {
      "text/html": [
       "<table border=\"1\" class=\"dataframe\">\n",
       "  <thead>\n",
       "    <tr style=\"text-align: left;\">\n",
       "      <th>epoch</th>\n",
       "      <th>train_loss</th>\n",
       "      <th>valid_loss</th>\n",
       "      <th>accuracy</th>\n",
       "      <th>matthews_corrcoef</th>\n",
       "      <th>recall_score</th>\n",
       "      <th>precision_score</th>\n",
       "      <th>f1_score</th>\n",
       "      <th>time</th>\n",
       "    </tr>\n",
       "  </thead>\n",
       "  <tbody>\n",
       "    <tr>\n",
       "      <td>0</td>\n",
       "      <td>0.380642</td>\n",
       "      <td>0.171728</td>\n",
       "      <td>0.947496</td>\n",
       "      <td>0.485805</td>\n",
       "      <td>0.695295</td>\n",
       "      <td>0.373554</td>\n",
       "      <td>0.486000</td>\n",
       "      <td>05:57</td>\n",
       "    </tr>\n",
       "    <tr>\n",
       "      <td>1</td>\n",
       "      <td>0.244649</td>\n",
       "      <td>0.163996</td>\n",
       "      <td>0.945627</td>\n",
       "      <td>0.510763</td>\n",
       "      <td>0.765202</td>\n",
       "      <td>0.372636</td>\n",
       "      <td>0.501199</td>\n",
       "      <td>05:58</td>\n",
       "    </tr>\n",
       "    <tr>\n",
       "      <td>2</td>\n",
       "      <td>0.178495</td>\n",
       "      <td>0.390476</td>\n",
       "      <td>0.822104</td>\n",
       "      <td>0.341662</td>\n",
       "      <td>0.930093</td>\n",
       "      <td>0.159172</td>\n",
       "      <td>0.271825</td>\n",
       "      <td>05:59</td>\n",
       "    </tr>\n",
       "    <tr>\n",
       "      <td>3</td>\n",
       "      <td>0.163838</td>\n",
       "      <td>0.097840</td>\n",
       "      <td>0.968785</td>\n",
       "      <td>0.602588</td>\n",
       "      <td>0.695739</td>\n",
       "      <td>0.549614</td>\n",
       "      <td>0.614104</td>\n",
       "      <td>05:58</td>\n",
       "    </tr>\n",
       "    <tr>\n",
       "      <td>4</td>\n",
       "      <td>0.126081</td>\n",
       "      <td>0.121591</td>\n",
       "      <td>0.955736</td>\n",
       "      <td>0.570358</td>\n",
       "      <td>0.800044</td>\n",
       "      <td>0.434809</td>\n",
       "      <td>0.563413</td>\n",
       "      <td>05:58</td>\n",
       "    </tr>\n",
       "    <tr>\n",
       "      <td>5</td>\n",
       "      <td>0.109120</td>\n",
       "      <td>0.094763</td>\n",
       "      <td>0.969830</td>\n",
       "      <td>0.591173</td>\n",
       "      <td>0.648247</td>\n",
       "      <td>0.567846</td>\n",
       "      <td>0.605389</td>\n",
       "      <td>05:58</td>\n",
       "    </tr>\n",
       "    <tr>\n",
       "      <td>6</td>\n",
       "      <td>0.072380</td>\n",
       "      <td>0.095593</td>\n",
       "      <td>0.970868</td>\n",
       "      <td>0.622954</td>\n",
       "      <td>0.707723</td>\n",
       "      <td>0.574698</td>\n",
       "      <td>0.634311</td>\n",
       "      <td>05:57</td>\n",
       "    </tr>\n",
       "    <tr>\n",
       "      <td>7</td>\n",
       "      <td>0.071671</td>\n",
       "      <td>0.099710</td>\n",
       "      <td>0.968594</td>\n",
       "      <td>0.624246</td>\n",
       "      <td>0.752996</td>\n",
       "      <td>0.543402</td>\n",
       "      <td>0.631256</td>\n",
       "      <td>06:00</td>\n",
       "    </tr>\n",
       "    <tr>\n",
       "      <td>8</td>\n",
       "      <td>0.065956</td>\n",
       "      <td>0.093966</td>\n",
       "      <td>0.972247</td>\n",
       "      <td>0.636239</td>\n",
       "      <td>0.714159</td>\n",
       "      <td>0.592306</td>\n",
       "      <td>0.647550</td>\n",
       "      <td>06:00</td>\n",
       "    </tr>\n",
       "    <tr>\n",
       "      <td>9</td>\n",
       "      <td>0.061154</td>\n",
       "      <td>0.088875</td>\n",
       "      <td>0.973760</td>\n",
       "      <td>0.640863</td>\n",
       "      <td>0.692632</td>\n",
       "      <td>0.618265</td>\n",
       "      <td>0.653339</td>\n",
       "      <td>05:58</td>\n",
       "    </tr>\n",
       "  </tbody>\n",
       "</table>"
      ],
      "text/plain": [
       "<IPython.core.display.HTML object>"
      ]
     },
     "metadata": {},
     "output_type": "display_data"
    },
    {
     "name": "stdout",
     "output_type": "stream",
     "text": [
      "43 1\n",
      "Better model found at epoch 0 with matthews_corrcoef value: 0.48580522605759235.\n",
      "44 2\n",
      "Better model found at epoch 1 with matthews_corrcoef value: 0.5107633899403468.\n",
      "45 3\n",
      "46 4\n",
      "Better model found at epoch 3 with matthews_corrcoef value: 0.6025884280470544.\n",
      "47 5\n",
      "48 6\n",
      "49 7\n",
      "Better model found at epoch 6 with matthews_corrcoef value: 0.6229537942255049.\n",
      "50 8\n",
      "Better model found at epoch 7 with matthews_corrcoef value: 0.6242456527652926.\n",
      "51 9\n",
      "Better model found at epoch 8 with matthews_corrcoef value: 0.6362393162246319.\n",
      "52 10\n",
      "Better model found at epoch 9 with matthews_corrcoef value: 0.6408631549892669.\n"
     ]
    }
   ],
   "source": [
    "learn.fit_one_cycle(10, 4e-4)"
   ]
  },
  {
   "cell_type": "code",
   "execution_count": 28,
   "id": "a32b7f98-7c5f-4ce8-9987-f0882aba682d",
   "metadata": {},
   "outputs": [],
   "source": [
    "torch.save(learn.model, f'nflutils/{name}.pkl')"
   ]
  },
  {
   "cell_type": "code",
   "execution_count": 58,
   "id": "90eb03ad-b5aa-438d-a22d-3a51c7ffe1aa",
   "metadata": {},
   "outputs": [
    {
     "name": "stderr",
     "output_type": "stream",
     "text": [
      "/usr/local/lib/python3.9/dist-packages/fastai/learner.py:59: UserWarning: Saved filed doesn't contain an optimizer state.\n",
      "  elif with_opt: warn(\"Saved filed doesn't contain an optimizer state.\")\n"
     ]
    },
    {
     "data": {
      "text/plain": [
       "<fastai.learner.Learner at 0x7fadd1ac0820>"
      ]
     },
     "execution_count": 58,
     "metadata": {},
     "output_type": "execute_result"
    }
   ],
   "source": [
    "learn.load(name)"
   ]
  },
  {
   "cell_type": "code",
   "execution_count": 59,
   "id": "9caac769-5b2b-43ed-b350-c6f024130eab",
   "metadata": {},
   "outputs": [],
   "source": [
    "val_games = kf_dict[split]['val_games']\n",
    "\n",
    "val_df = df_combo_with_helmets.query('game_play in @val_games').copy()\n",
    "val_df = val_df[(val_df.nfl_player_id_2 == \"G\")].copy()\n",
    "val_df['frame'] = val_df['frame'].astype(int)\n",
    "\n",
    "test_ds = NFLFrameDataset(val_df, transform=val_transform, crop_size=256)\n",
    "\n",
    "test_loader = DataLoader(\n",
    "    test_ds, batch_size=64, shuffle=False, num_workers=8, pin_memory=True,\n",
    ")"
   ]
  },
  {
   "cell_type": "code",
   "execution_count": 60,
   "id": "2916aa1a-e776-4506-9da5-3128455e1040",
   "metadata": {},
   "outputs": [
    {
     "data": {
      "text/html": [
       "\n",
       "<style>\n",
       "    /* Turns off some styling */\n",
       "    progress {\n",
       "        /* gets rid of default border in Firefox and Opera. */\n",
       "        border: none;\n",
       "        /* Needs to be in here for Safari polyfill so background images work as expected. */\n",
       "        background-size: auto;\n",
       "    }\n",
       "    progress:not([value]), progress:not([value])::-webkit-progress-bar {\n",
       "        background: repeating-linear-gradient(45deg, #7e7e7e, #7e7e7e 10px, #5c5c5c 10px, #5c5c5c 20px);\n",
       "    }\n",
       "    .progress-bar-interrupted, .progress-bar-interrupted::-webkit-progress-bar {\n",
       "        background: #F44336;\n",
       "    }\n",
       "</style>\n"
      ],
      "text/plain": [
       "<IPython.core.display.HTML object>"
      ]
     },
     "metadata": {},
     "output_type": "display_data"
    },
    {
     "data": {
      "text/html": [],
      "text/plain": [
       "<IPython.core.display.HTML object>"
      ]
     },
     "metadata": {},
     "output_type": "display_data"
    },
    {
     "name": "stdout",
     "output_type": "stream",
     "text": [
      "43 1\n"
     ]
    }
   ],
   "source": [
    "preds, _ = learn.get_preds(dl=test_loader)"
   ]
  },
  {
   "cell_type": "code",
   "execution_count": 61,
   "id": "43a23604-3f3e-4e2e-a3f6-38047aab7b3b",
   "metadata": {},
   "outputs": [],
   "source": [
    "val_df['contact_pred'] = preds[:, 1]\n",
    "\n",
    "val_df.to_parquet(f'{name}.parquet', index=False)"
   ]
  },
  {
   "cell_type": "code",
   "execution_count": 62,
   "id": "823f004b-438c-4b9f-be7f-afc70c51259b",
   "metadata": {},
   "outputs": [
    {
     "data": {
      "text/plain": [
       "0.6383903709381271"
      ]
     },
     "execution_count": 62,
     "metadata": {},
     "output_type": "execute_result"
    }
   ],
   "source": [
    "matthews_corrcoef(val_df.contact, val_df.contact_pred > 0.5)"
   ]
  },
  {
   "cell_type": "markdown",
   "id": "101b0c55-2fd8-4c4e-8467-e6732196b241",
   "metadata": {
    "tags": []
   },
   "source": [
    "#### Fold 3"
   ]
  },
  {
   "cell_type": "code",
   "execution_count": 63,
   "id": "4109a306-3495-44be-8732-1bd96561a07c",
   "metadata": {
    "tags": []
   },
   "outputs": [],
   "source": [
    "split = 3\n",
    "name = f'tiny-pg-fold-{split}'\n",
    "# wandb.init(project='nfl-1st-and-future', group='pg-folds', name=name, force=True)"
   ]
  },
  {
   "cell_type": "code",
   "execution_count": 64,
   "id": "a2b27909-b6ab-4e93-af7e-684c31822a85",
   "metadata": {},
   "outputs": [],
   "source": [
    "mean = [0.485, 0.456, 0.406]\n",
    "std = [0.229, 0.224, 0.225]\n",
    "train_transform = A.Compose(\n",
    "    [\n",
    "        A.HorizontalFlip(),\n",
    "        A.ShiftScaleRotate(shift_limit=0.05, scale_limit=0.05, rotate_limit=15, p=0.5),\n",
    "        A.RandomBrightnessContrast(p=0.5),\n",
    "        A.Normalize(mean=mean, std=std),\n",
    "        ToTensorV2(),\n",
    "    ]\n",
    ")\n",
    "\n",
    "val_transform = A.Compose(\n",
    "    [\n",
    "        A.Normalize(mean=mean, std=mean),\n",
    "        ToTensorV2(),\n",
    "    ]\n",
    ")"
   ]
  },
  {
   "cell_type": "code",
   "execution_count": 65,
   "id": "07d0c922-f67d-45e0-bdc6-814f154768de",
   "metadata": {},
   "outputs": [],
   "source": [
    "seed = 42\n",
    "set_seed(seed, True)\n",
    "\n",
    "df = df_combo_with_helmets[(df_combo_with_helmets.nfl_player_id_2 == \"G\")].copy()\n",
    "\n",
    "frames_kwargs = dict(frames_path=CFG.frames_path, offset=0, sample_every_n_frame=6, undersample_no_contact=True, seed=seed)\n",
    "\n",
    "data = get_dls(df, kf_dict, split, train_transform, val_transform, frames_kwargs=frames_kwargs, dl=NFLFrameDataset)\n",
    "\n",
    "model, model_info = create_timm_model('convnext_tiny', 2)\n",
    "learn = Learner(data, model, CrossEntropyLossFlat(),\n",
    "                metrics=[accuracy, MatthewsCorrCoef(), Recall(), Precision(), F1Score()],\n",
    "                cbs=[\n",
    "                        ShuffleGamePlayCallBack(df, kf_dict, split, train_transform, val_transform, frames_kwargs, dl=NFLFrameDataset),\n",
    "                        # WandbCallback(log_preds=False, seed=seed),\n",
    "                        SaveModelCallback(monitor='matthews_corrcoef', fname=name),\n",
    "                        # MixUp()\n",
    "                ]\n",
    "               ).to_fp16()"
   ]
  },
  {
   "cell_type": "code",
   "execution_count": 36,
   "id": "ede12e2e-fb02-449f-beb7-0dbbb58112d0",
   "metadata": {},
   "outputs": [
    {
     "name": "stdout",
     "output_type": "stream",
     "text": [
      "Could not gather input dimensions\n"
     ]
    },
    {
     "data": {
      "text/html": [
       "\n",
       "<style>\n",
       "    /* Turns off some styling */\n",
       "    progress {\n",
       "        /* gets rid of default border in Firefox and Opera. */\n",
       "        border: none;\n",
       "        /* Needs to be in here for Safari polyfill so background images work as expected. */\n",
       "        background-size: auto;\n",
       "    }\n",
       "    progress:not([value]), progress:not([value])::-webkit-progress-bar {\n",
       "        background: repeating-linear-gradient(45deg, #7e7e7e, #7e7e7e 10px, #5c5c5c 10px, #5c5c5c 20px);\n",
       "    }\n",
       "    .progress-bar-interrupted, .progress-bar-interrupted::-webkit-progress-bar {\n",
       "        background: #F44336;\n",
       "    }\n",
       "</style>\n"
      ],
      "text/plain": [
       "<IPython.core.display.HTML object>"
      ]
     },
     "metadata": {},
     "output_type": "display_data"
    },
    {
     "data": {
      "text/html": [
       "<table border=\"1\" class=\"dataframe\">\n",
       "  <thead>\n",
       "    <tr style=\"text-align: left;\">\n",
       "      <th>epoch</th>\n",
       "      <th>train_loss</th>\n",
       "      <th>valid_loss</th>\n",
       "      <th>accuracy</th>\n",
       "      <th>matthews_corrcoef</th>\n",
       "      <th>recall_score</th>\n",
       "      <th>precision_score</th>\n",
       "      <th>f1_score</th>\n",
       "      <th>time</th>\n",
       "    </tr>\n",
       "  </thead>\n",
       "  <tbody>\n",
       "    <tr>\n",
       "      <td>0</td>\n",
       "      <td>0.411220</td>\n",
       "      <td>0.197842</td>\n",
       "      <td>0.933317</td>\n",
       "      <td>0.495808</td>\n",
       "      <td>0.764267</td>\n",
       "      <td>0.359514</td>\n",
       "      <td>0.489001</td>\n",
       "      <td>05:43</td>\n",
       "    </tr>\n",
       "    <tr>\n",
       "      <td>1</td>\n",
       "      <td>0.236263</td>\n",
       "      <td>0.162423</td>\n",
       "      <td>0.941887</td>\n",
       "      <td>0.542921</td>\n",
       "      <td>0.802380</td>\n",
       "      <td>0.401838</td>\n",
       "      <td>0.535496</td>\n",
       "      <td>05:44</td>\n",
       "    </tr>\n",
       "    <tr>\n",
       "      <td>2</td>\n",
       "      <td>0.177731</td>\n",
       "      <td>0.157020</td>\n",
       "      <td>0.950238</td>\n",
       "      <td>0.591972</td>\n",
       "      <td>0.838879</td>\n",
       "      <td>0.448663</td>\n",
       "      <td>0.584639</td>\n",
       "      <td>05:44</td>\n",
       "    </tr>\n",
       "    <tr>\n",
       "      <td>3</td>\n",
       "      <td>0.150634</td>\n",
       "      <td>0.115567</td>\n",
       "      <td>0.962959</td>\n",
       "      <td>0.615257</td>\n",
       "      <td>0.742085</td>\n",
       "      <td>0.541097</td>\n",
       "      <td>0.625850</td>\n",
       "      <td>05:43</td>\n",
       "    </tr>\n",
       "    <tr>\n",
       "      <td>4</td>\n",
       "      <td>0.126214</td>\n",
       "      <td>0.162017</td>\n",
       "      <td>0.942830</td>\n",
       "      <td>0.580894</td>\n",
       "      <td>0.881629</td>\n",
       "      <td>0.413389</td>\n",
       "      <td>0.562858</td>\n",
       "      <td>05:44</td>\n",
       "    </tr>\n",
       "    <tr>\n",
       "      <td>5</td>\n",
       "      <td>0.112541</td>\n",
       "      <td>0.127020</td>\n",
       "      <td>0.957074</td>\n",
       "      <td>0.626430</td>\n",
       "      <td>0.847348</td>\n",
       "      <td>0.491807</td>\n",
       "      <td>0.622380</td>\n",
       "      <td>05:44</td>\n",
       "    </tr>\n",
       "    <tr>\n",
       "      <td>6</td>\n",
       "      <td>0.091744</td>\n",
       "      <td>0.146342</td>\n",
       "      <td>0.949809</td>\n",
       "      <td>0.605244</td>\n",
       "      <td>0.874773</td>\n",
       "      <td>0.448187</td>\n",
       "      <td>0.592704</td>\n",
       "      <td>05:43</td>\n",
       "    </tr>\n",
       "    <tr>\n",
       "      <td>7</td>\n",
       "      <td>0.068291</td>\n",
       "      <td>0.118940</td>\n",
       "      <td>0.964221</td>\n",
       "      <td>0.647899</td>\n",
       "      <td>0.806211</td>\n",
       "      <td>0.548648</td>\n",
       "      <td>0.652948</td>\n",
       "      <td>05:43</td>\n",
       "    </tr>\n",
       "    <tr>\n",
       "      <td>8</td>\n",
       "      <td>0.064207</td>\n",
       "      <td>0.124873</td>\n",
       "      <td>0.962167</td>\n",
       "      <td>0.640225</td>\n",
       "      <td>0.816294</td>\n",
       "      <td>0.530468</td>\n",
       "      <td>0.643050</td>\n",
       "      <td>05:44</td>\n",
       "    </tr>\n",
       "    <tr>\n",
       "      <td>9</td>\n",
       "      <td>0.047738</td>\n",
       "      <td>0.120191</td>\n",
       "      <td>0.962698</td>\n",
       "      <td>0.639447</td>\n",
       "      <td>0.806816</td>\n",
       "      <td>0.535322</td>\n",
       "      <td>0.643610</td>\n",
       "      <td>05:43</td>\n",
       "    </tr>\n",
       "  </tbody>\n",
       "</table>"
      ],
      "text/plain": [
       "<IPython.core.display.HTML object>"
      ]
     },
     "metadata": {},
     "output_type": "display_data"
    },
    {
     "name": "stdout",
     "output_type": "stream",
     "text": [
      "43 1\n",
      "Better model found at epoch 0 with matthews_corrcoef value: 0.4958084394059081.\n",
      "44 2\n",
      "Better model found at epoch 1 with matthews_corrcoef value: 0.5429212668359377.\n",
      "45 3\n",
      "Better model found at epoch 2 with matthews_corrcoef value: 0.5919724088621491.\n",
      "46 4\n",
      "Better model found at epoch 3 with matthews_corrcoef value: 0.6152571724677346.\n",
      "47 5\n",
      "48 6\n",
      "Better model found at epoch 5 with matthews_corrcoef value: 0.6264304111134427.\n",
      "49 7\n",
      "50 8\n",
      "Better model found at epoch 7 with matthews_corrcoef value: 0.6478993570016734.\n",
      "51 9\n",
      "52 10\n"
     ]
    }
   ],
   "source": [
    "learn.fit_one_cycle(10, 4e-4)"
   ]
  },
  {
   "cell_type": "code",
   "execution_count": 37,
   "id": "15b9decf-ecf7-4d04-8257-b40d2d7cc1aa",
   "metadata": {},
   "outputs": [],
   "source": [
    "torch.save(learn.model, f'nflutils/{name}.pkl')"
   ]
  },
  {
   "cell_type": "code",
   "execution_count": 66,
   "id": "8304fd1f-1ee9-41f3-a374-06e249e8df93",
   "metadata": {},
   "outputs": [
    {
     "name": "stderr",
     "output_type": "stream",
     "text": [
      "/usr/local/lib/python3.9/dist-packages/fastai/learner.py:59: UserWarning: Saved filed doesn't contain an optimizer state.\n",
      "  elif with_opt: warn(\"Saved filed doesn't contain an optimizer state.\")\n"
     ]
    },
    {
     "data": {
      "text/plain": [
       "<fastai.learner.Learner at 0x7fa9eeefaaf0>"
      ]
     },
     "execution_count": 66,
     "metadata": {},
     "output_type": "execute_result"
    }
   ],
   "source": [
    "learn.load(name)"
   ]
  },
  {
   "cell_type": "code",
   "execution_count": 67,
   "id": "626b371d-9b94-4f4c-b705-0609bcf088f2",
   "metadata": {},
   "outputs": [],
   "source": [
    "val_games = kf_dict[split]['val_games']\n",
    "\n",
    "val_df = df_combo_with_helmets.query('game_play in @val_games').copy()\n",
    "val_df = val_df[(val_df.nfl_player_id_2 == \"G\")].copy()\n",
    "val_df['frame'] = val_df['frame'].astype(int)\n",
    "\n",
    "test_ds = NFLFrameDataset(val_df, transform=val_transform, crop_size=256)\n",
    "\n",
    "test_loader = DataLoader(\n",
    "    test_ds, batch_size=64, shuffle=False, num_workers=8, pin_memory=True,\n",
    ")"
   ]
  },
  {
   "cell_type": "code",
   "execution_count": 68,
   "id": "4f8b2866-8887-4210-8a2d-a6bb8aab39bc",
   "metadata": {},
   "outputs": [
    {
     "data": {
      "text/html": [
       "\n",
       "<style>\n",
       "    /* Turns off some styling */\n",
       "    progress {\n",
       "        /* gets rid of default border in Firefox and Opera. */\n",
       "        border: none;\n",
       "        /* Needs to be in here for Safari polyfill so background images work as expected. */\n",
       "        background-size: auto;\n",
       "    }\n",
       "    progress:not([value]), progress:not([value])::-webkit-progress-bar {\n",
       "        background: repeating-linear-gradient(45deg, #7e7e7e, #7e7e7e 10px, #5c5c5c 10px, #5c5c5c 20px);\n",
       "    }\n",
       "    .progress-bar-interrupted, .progress-bar-interrupted::-webkit-progress-bar {\n",
       "        background: #F44336;\n",
       "    }\n",
       "</style>\n"
      ],
      "text/plain": [
       "<IPython.core.display.HTML object>"
      ]
     },
     "metadata": {},
     "output_type": "display_data"
    },
    {
     "data": {
      "text/html": [],
      "text/plain": [
       "<IPython.core.display.HTML object>"
      ]
     },
     "metadata": {},
     "output_type": "display_data"
    },
    {
     "name": "stdout",
     "output_type": "stream",
     "text": [
      "43 1\n"
     ]
    }
   ],
   "source": [
    "preds, _ = learn.get_preds(dl=test_loader)"
   ]
  },
  {
   "cell_type": "code",
   "execution_count": 69,
   "id": "c43a4f53-8532-44cc-9b65-c7a1eac48d5f",
   "metadata": {},
   "outputs": [],
   "source": [
    "val_df['contact_pred'] = preds[:, 1]\n",
    "\n",
    "val_df.to_parquet(f'{name}.parquet', index=False)"
   ]
  },
  {
   "cell_type": "code",
   "execution_count": 70,
   "id": "faaae58c-f840-4d8f-98d8-054459391fca",
   "metadata": {},
   "outputs": [
    {
     "data": {
      "text/plain": [
       "0.6441514735854122"
      ]
     },
     "execution_count": 70,
     "metadata": {},
     "output_type": "execute_result"
    }
   ],
   "source": [
    "matthews_corrcoef(val_df.contact, val_df.contact_pred > 0.5)"
   ]
  },
  {
   "cell_type": "markdown",
   "id": "d0fb13e3-27c3-4b47-86f7-8905c118a93a",
   "metadata": {
    "tags": []
   },
   "source": [
    "#### Fold 4"
   ]
  },
  {
   "cell_type": "code",
   "execution_count": 71,
   "id": "90e2b6f4-a83b-4133-af62-6ff4e7faa085",
   "metadata": {
    "tags": []
   },
   "outputs": [],
   "source": [
    "split = 4\n",
    "name = f'tiny-pg-fold-{split}'\n",
    "# wandb.init(project='nfl-1st-and-future', group='pg-folds', name=name, force=True)"
   ]
  },
  {
   "cell_type": "code",
   "execution_count": 72,
   "id": "87ebdb56-c2ed-4268-96b3-98a7e3ebb986",
   "metadata": {},
   "outputs": [],
   "source": [
    "mean = [0.485, 0.456, 0.406]\n",
    "std = [0.229, 0.224, 0.225]\n",
    "train_transform = A.Compose(\n",
    "    [\n",
    "        A.HorizontalFlip(),\n",
    "        A.ShiftScaleRotate(shift_limit=0.05, scale_limit=0.05, rotate_limit=15, p=0.5),\n",
    "        A.RandomBrightnessContrast(p=0.5),\n",
    "        A.Normalize(mean=mean, std=std),\n",
    "        ToTensorV2(),\n",
    "    ]\n",
    ")\n",
    "\n",
    "val_transform = A.Compose(\n",
    "    [\n",
    "        A.Normalize(mean=mean, std=mean),\n",
    "        ToTensorV2(),\n",
    "    ]\n",
    ")"
   ]
  },
  {
   "cell_type": "code",
   "execution_count": 73,
   "id": "2e17024c-fe72-4575-8b01-f61c14b3c173",
   "metadata": {},
   "outputs": [],
   "source": [
    "seed = 42\n",
    "set_seed(seed, True)\n",
    "\n",
    "df = df_combo_with_helmets[(df_combo_with_helmets.nfl_player_id_2 == \"G\")].copy()\n",
    "\n",
    "frames_kwargs = dict(frames_path=CFG.frames_path, offset=0, sample_every_n_frame=6, undersample_no_contact=True, seed=seed)\n",
    "\n",
    "data = get_dls(df, kf_dict, split, train_transform, val_transform, frames_kwargs=frames_kwargs, dl=NFLFrameDataset)\n",
    "\n",
    "model, model_info = create_timm_model('convnext_tiny', 2)\n",
    "learn = Learner(data, model, CrossEntropyLossFlat(),\n",
    "                metrics=[accuracy, MatthewsCorrCoef(), Recall(), Precision(), F1Score()],\n",
    "                cbs=[\n",
    "                        ShuffleGamePlayCallBack(df, kf_dict, split, train_transform, val_transform, frames_kwargs, dl=NFLFrameDataset),\n",
    "                        # WandbCallback(log_preds=False, seed=seed),\n",
    "                        SaveModelCallback(monitor='matthews_corrcoef', fname=name),\n",
    "                        # MixUp()\n",
    "                ]\n",
    "               ).to_fp16()"
   ]
  },
  {
   "cell_type": "code",
   "execution_count": 45,
   "id": "b8d7eb3d-c19d-4ccc-b626-7630a504141b",
   "metadata": {},
   "outputs": [
    {
     "name": "stdout",
     "output_type": "stream",
     "text": [
      "43 1\n",
      "Better model found at epoch 0 with matthews_corrcoef value: 0.5048228524764763.\n",
      "44 2\n",
      "Better model found at epoch 1 with matthews_corrcoef value: 0.520638108717711.\n",
      "45 3\n",
      "46 4\n",
      "47 5\n",
      "Better model found at epoch 4 with matthews_corrcoef value: 0.6232283139164713.\n",
      "48 6\n",
      "Better model found at epoch 5 with matthews_corrcoef value: 0.6413905929369962.\n",
      "49 7\n",
      "Better model found at epoch 6 with matthews_corrcoef value: 0.6496941159881423.\n",
      "50 8\n",
      "Better model found at epoch 7 with matthews_corrcoef value: 0.6614613341631429.\n",
      "51 9\n",
      "52 10\n"
     ]
    }
   ],
   "source": [
    "learn.fit_one_cycle(10, 4e-4)"
   ]
  },
  {
   "cell_type": "code",
   "execution_count": 46,
   "id": "7ff6a095-873d-470d-8b9a-00e3ac677fcb",
   "metadata": {},
   "outputs": [],
   "source": [
    "torch.save(learn.model, f'nflutils/{name}.pkl')"
   ]
  },
  {
   "cell_type": "code",
   "execution_count": 74,
   "id": "278e3404-dee7-4349-ae44-44269872fc97",
   "metadata": {},
   "outputs": [
    {
     "name": "stderr",
     "output_type": "stream",
     "text": [
      "/usr/local/lib/python3.9/dist-packages/fastai/learner.py:59: UserWarning: Saved filed doesn't contain an optimizer state.\n",
      "  elif with_opt: warn(\"Saved filed doesn't contain an optimizer state.\")\n"
     ]
    },
    {
     "data": {
      "text/plain": [
       "<fastai.learner.Learner at 0x7fa9eff95280>"
      ]
     },
     "execution_count": 74,
     "metadata": {},
     "output_type": "execute_result"
    }
   ],
   "source": [
    "learn.load(name)"
   ]
  },
  {
   "cell_type": "code",
   "execution_count": 75,
   "id": "5f4dbf67-3005-4556-8b71-f6b2a36de816",
   "metadata": {},
   "outputs": [],
   "source": [
    "val_games = kf_dict[split]['val_games']\n",
    "\n",
    "val_df = df_combo_with_helmets.query('game_play in @val_games').copy()\n",
    "val_df = val_df[(val_df.nfl_player_id_2 == \"G\")].copy()\n",
    "val_df['frame'] = val_df['frame'].astype(int)\n",
    "\n",
    "test_ds = NFLFrameDataset(val_df, transform=val_transform, crop_size=256)\n",
    "\n",
    "test_loader = DataLoader(\n",
    "    test_ds, batch_size=64, shuffle=False, num_workers=8, pin_memory=True,\n",
    ")"
   ]
  },
  {
   "cell_type": "code",
   "execution_count": 76,
   "id": "43263dde-cbd0-40e3-a950-575a6f02bdb1",
   "metadata": {},
   "outputs": [
    {
     "data": {
      "text/html": [
       "\n",
       "<style>\n",
       "    /* Turns off some styling */\n",
       "    progress {\n",
       "        /* gets rid of default border in Firefox and Opera. */\n",
       "        border: none;\n",
       "        /* Needs to be in here for Safari polyfill so background images work as expected. */\n",
       "        background-size: auto;\n",
       "    }\n",
       "    progress:not([value]), progress:not([value])::-webkit-progress-bar {\n",
       "        background: repeating-linear-gradient(45deg, #7e7e7e, #7e7e7e 10px, #5c5c5c 10px, #5c5c5c 20px);\n",
       "    }\n",
       "    .progress-bar-interrupted, .progress-bar-interrupted::-webkit-progress-bar {\n",
       "        background: #F44336;\n",
       "    }\n",
       "</style>\n"
      ],
      "text/plain": [
       "<IPython.core.display.HTML object>"
      ]
     },
     "metadata": {},
     "output_type": "display_data"
    },
    {
     "data": {
      "text/html": [],
      "text/plain": [
       "<IPython.core.display.HTML object>"
      ]
     },
     "metadata": {},
     "output_type": "display_data"
    },
    {
     "name": "stdout",
     "output_type": "stream",
     "text": [
      "43 1\n"
     ]
    }
   ],
   "source": [
    "preds, _ = learn.get_preds(dl=test_loader)"
   ]
  },
  {
   "cell_type": "code",
   "execution_count": 77,
   "id": "332612dc-86eb-4fff-99ff-c81998fd69ba",
   "metadata": {},
   "outputs": [],
   "source": [
    "val_df['contact_pred'] = preds[:, 1]\n",
    "\n",
    "val_df.to_parquet(f'{name}.parquet', index=False)"
   ]
  },
  {
   "cell_type": "code",
   "execution_count": 78,
   "id": "bc337fb3-568a-4617-a11b-ddfdfe198929",
   "metadata": {},
   "outputs": [
    {
     "data": {
      "text/plain": [
       "0.6606114653136125"
      ]
     },
     "execution_count": 78,
     "metadata": {},
     "output_type": "execute_result"
    }
   ],
   "source": [
    "matthews_corrcoef(val_df.contact, val_df.contact_pred > 0.5)"
   ]
  },
  {
   "cell_type": "markdown",
   "id": "167accf3-e757-40fc-bbb5-016899599aee",
   "metadata": {},
   "source": [
    "### OOF Score"
   ]
  },
  {
   "cell_type": "code",
   "execution_count": 37,
   "id": "c48cb728-dfa3-4b80-8f8c-0cea4c302b6f",
   "metadata": {},
   "outputs": [],
   "source": [
    "from nflutils.validation import *"
   ]
  },
  {
   "cell_type": "code",
   "execution_count": 48,
   "id": "d195657d-b838-42c6-bb87-ccc019db7cfd",
   "metadata": {},
   "outputs": [],
   "source": [
    "oof_df_p = pd.DataFrame()\n",
    "\n",
    "for i in range(0, 5):\n",
    "    oof_df_p = pd.concat([oof_df_p, pd.read_parquet(f'tiny-pp-fold-{i}.parquet')], axis=0)"
   ]
  },
  {
   "cell_type": "code",
   "execution_count": 49,
   "id": "08064b45-1555-401a-8202-e756d1ade6ff",
   "metadata": {},
   "outputs": [],
   "source": [
    "oof_df_g = pd.DataFrame()\n",
    "\n",
    "for i in range(0, 5):\n",
    "    oof_df_g = pd.concat([oof_df_g, pd.read_parquet(f'tiny-pg-fold-{i}.parquet')], axis=0)"
   ]
  },
  {
   "cell_type": "code",
   "execution_count": 82,
   "id": "1655f33c-1ac1-4f5a-808d-d79541b05673",
   "metadata": {},
   "outputs": [
    {
     "data": {
      "text/plain": [
       "0.6449854838881407"
      ]
     },
     "execution_count": 82,
     "metadata": {},
     "output_type": "execute_result"
    }
   ],
   "source": [
    "matthews_corrcoef(oof_df_p.contact, oof_df_p.contact_pred > 0.5)"
   ]
  },
  {
   "cell_type": "code",
   "execution_count": 83,
   "id": "fca6393e-3277-4299-8f66-73c782d138d5",
   "metadata": {},
   "outputs": [
    {
     "data": {
      "text/plain": [
       "0.6689076700311953"
      ]
     },
     "execution_count": 83,
     "metadata": {},
     "output_type": "execute_result"
    }
   ],
   "source": [
    "matthews_corrcoef(oof_df_g.contact, oof_df_g.contact_pred > 0.5)"
   ]
  },
  {
   "cell_type": "code",
   "execution_count": 51,
   "id": "f774f223-2078-4dc1-8fb3-e60ba40a68b5",
   "metadata": {},
   "outputs": [],
   "source": [
    "oof_df = pd.concat([oof_df_p, oof_df_g], axis=0)"
   ]
  },
  {
   "cell_type": "code",
   "execution_count": 89,
   "id": "29019b87-0569-4d41-bd32-db6d7bc0445e",
   "metadata": {},
   "outputs": [
    {
     "data": {
      "text/plain": [
       "0.6760869221154314"
      ]
     },
     "execution_count": 89,
     "metadata": {},
     "output_type": "execute_result"
    }
   ],
   "source": [
    "matthews_corrcoef(oof_df.contact, oof_df.contact_pred > 0.5)"
   ]
  },
  {
   "cell_type": "code",
   "execution_count": 53,
   "id": "73609392-a9a3-44de-968f-f72c98a5de39",
   "metadata": {},
   "outputs": [],
   "source": [
    "oof_df['thresh'] = 0.5"
   ]
  },
  {
   "cell_type": "code",
   "execution_count": 54,
   "id": "86c35ad5-f40d-4838-b0fc-50a32d0eac31",
   "metadata": {},
   "outputs": [
    {
     "data": {
      "text/plain": [
       "0.7256455976795063"
      ]
     },
     "execution_count": 54,
     "metadata": {},
     "output_type": "execute_result"
    }
   ],
   "source": [
    "oof_df_combo = merge_combo_val(df_combo, oof_df, pred_col='contact_pred')\n",
    "get_matthews_corrcoef(oof_df_combo, pred_col='contact_pred', dist=0.5)"
   ]
  },
  {
   "cell_type": "code",
   "execution_count": 57,
   "id": "9a623617-45f2-46c1-a696-2769c3610f2c",
   "metadata": {},
   "outputs": [],
   "source": [
    "oof_df[['contact_id', 'game_play', 'nfl_player_id_1', 'nfl_player_id_2', 'step', 'contact', 'contact_pred', 'view', 'distance']].to_parquet('nflutils/oof_preds_raw.parquet', index=False)"
   ]
  },
  {
   "cell_type": "code",
   "execution_count": 56,
   "id": "365a2d96-953e-4bc6-9a35-6b41fe5adf41",
   "metadata": {},
   "outputs": [],
   "source": [
    "oof_df_combo[['contact_id', 'game_play', 'nfl_player_id_1', 'nfl_player_id_2', 'step', 'contact', 'contact_pred', 'distance']].to_parquet('nflutils/oof_df.parquet', index=False)"
   ]
  },
  {
   "cell_type": "code",
   "execution_count": null,
   "id": "33137ed8-e8ff-49ff-997e-438dfb3a3030",
   "metadata": {},
   "outputs": [
    {
     "data": {
      "application/vnd.jupyter.widget-view+json": {
       "model_id": "04f0d95e663a40c3bb8ade50e9e434c0",
       "version_major": 2,
       "version_minor": 0
      },
      "text/plain": [
       "  0%|          | 0/22461 [00:00<?, ?it/s]"
      ]
     },
     "metadata": {},
     "output_type": "display_data"
    }
   ],
   "source": [
    "oof_df_p = smooth_predictions(oof_df_p, True, [14])"
   ]
  },
  {
   "cell_type": "code",
   "execution_count": null,
   "id": "750e9afb-a019-4f26-a617-a1b1212203f3",
   "metadata": {},
   "outputs": [],
   "source": [
    "oof_df_g = smooth_prediction(oof_df_g, True, [56])"
   ]
  },
  {
   "cell_type": "code",
   "execution_count": 58,
   "id": "5930d40d-be0c-4878-8485-a45ed2bb2362",
   "metadata": {},
   "outputs": [
    {
     "name": "stdout",
     "output_type": "stream",
     "text": [
      "CPU times: user 17 s, sys: 152 ms, total: 17.2 s\n",
      "Wall time: 17.2 s\n"
     ]
    }
   ],
   "source": [
    "%%time\n",
    "\n",
    "oof_df_p['contact_pred_rolling'] =  oof_df_p.groupby(['game_play', 'nfl_player_id_1', 'nfl_player_id_2', 'view'])['contact_pred'].transform(lambda x: x.rolling(22, center=True).mean().bfill().ffill().fillna(0))"
   ]
  },
  {
   "cell_type": "code",
   "execution_count": 59,
   "id": "be33ee10-7f6b-4635-b122-308122660102",
   "metadata": {},
   "outputs": [
    {
     "name": "stdout",
     "output_type": "stream",
     "text": [
      "CPU times: user 8.48 s, sys: 27.5 ms, total: 8.51 s\n",
      "Wall time: 8.51 s\n"
     ]
    }
   ],
   "source": [
    "%%time\n",
    "\n",
    "oof_df_g['contact_pred_rolling'] =  oof_df_g.groupby(['game_play', 'nfl_player_id_1', 'nfl_player_id_2', 'view'])['contact_pred'].transform(lambda x: x.rolling(56, center=True).mean().bfill().ffill().fillna(0))"
   ]
  },
  {
   "cell_type": "code",
   "execution_count": 60,
   "id": "6c184d05-16cf-4bf5-80e8-8b8d55353d28",
   "metadata": {},
   "outputs": [],
   "source": [
    "oof_df_p['thresh'] = 0.49\n",
    "oof_df_g['thresh'] = 0.4"
   ]
  },
  {
   "cell_type": "code",
   "execution_count": 61,
   "id": "ac76625a-6914-4065-a197-bc470e1b19c9",
   "metadata": {},
   "outputs": [],
   "source": [
    "oof_df = pd.concat([oof_df_p, oof_df_g], axis=0)"
   ]
  },
  {
   "cell_type": "code",
   "execution_count": 62,
   "id": "742dce93-13f8-42eb-9ab3-2e55e1064cba",
   "metadata": {},
   "outputs": [
    {
     "data": {
      "text/plain": [
       "0.7377263009600805"
      ]
     },
     "execution_count": 62,
     "metadata": {},
     "output_type": "execute_result"
    }
   ],
   "source": [
    "oof_df_combo = merge_combo_val(df_combo, oof_df, pred_col='contact_pred_rolling')\n",
    "get_matthews_corrcoef(oof_df_combo, pred_col='contact_pred_rolling', dist=0.5)"
   ]
  },
  {
   "cell_type": "code",
   "execution_count": 63,
   "id": "a72ba9fb-3b6b-47d2-bf4f-a83439c32b0c",
   "metadata": {},
   "outputs": [],
   "source": [
    "oof_df[['contact_id', 'game_play', 'nfl_player_id_1', 'nfl_player_id_2', 'step', 'contact', 'contact_pred', 'distance', 'view']].to_parquet('nflutils/oof_preds_rolling.parquet', index=False)"
   ]
  },
  {
   "cell_type": "code",
   "execution_count": 64,
   "id": "a7e533b3-0aa2-487a-968c-05ac0f5aaafa",
   "metadata": {},
   "outputs": [],
   "source": [
    "oof_df_combo[['contact_id', 'game_play', 'nfl_player_id_1', 'nfl_player_id_2', 'step', 'contact', 'contact_pred', 'distance']].to_parquet('nflutils/oof_df_rolling.parquet', index=False)"
   ]
  },
  {
   "cell_type": "code",
   "execution_count": null,
   "id": "94be7e34-1448-4157-9134-c63544bbd105",
   "metadata": {},
   "outputs": [],
   "source": []
  },
  {
   "cell_type": "code",
   "execution_count": 33,
   "id": "3102351e-b86d-49fd-b79d-cf474acff830",
   "metadata": {},
   "outputs": [
    {
     "data": {
      "text/html": [
       "<div>\n",
       "<style scoped>\n",
       "    .dataframe tbody tr th:only-of-type {\n",
       "        vertical-align: middle;\n",
       "    }\n",
       "\n",
       "    .dataframe tbody tr th {\n",
       "        vertical-align: top;\n",
       "    }\n",
       "\n",
       "    .dataframe thead th {\n",
       "        text-align: right;\n",
       "    }\n",
       "</style>\n",
       "<table border=\"1\" class=\"dataframe\">\n",
       "  <thead>\n",
       "    <tr style=\"text-align: right;\">\n",
       "      <th></th>\n",
       "      <th>contact_id</th>\n",
       "      <th>game_play</th>\n",
       "      <th>datetime</th>\n",
       "      <th>step</th>\n",
       "      <th>nfl_player_id_1</th>\n",
       "      <th>nfl_player_id_2</th>\n",
       "      <th>contact</th>\n",
       "      <th>x_position_1</th>\n",
       "      <th>y_position_1</th>\n",
       "      <th>speed_1</th>\n",
       "      <th>distance_1</th>\n",
       "      <th>direction_1</th>\n",
       "      <th>orientation_1</th>\n",
       "      <th>acceleration_1</th>\n",
       "      <th>sa_1</th>\n",
       "      <th>x_position_2</th>\n",
       "      <th>y_position_2</th>\n",
       "      <th>speed_2</th>\n",
       "      <th>distance_2</th>\n",
       "      <th>direction_2</th>\n",
       "      <th>orientation_2</th>\n",
       "      <th>acceleration_2</th>\n",
       "      <th>sa_2</th>\n",
       "      <th>distance</th>\n",
       "      <th>datetime_ngs</th>\n",
       "      <th>view</th>\n",
       "      <th>frame</th>\n",
       "      <th>player_label_1</th>\n",
       "      <th>left_1</th>\n",
       "      <th>width_1</th>\n",
       "      <th>top_1</th>\n",
       "      <th>height_1</th>\n",
       "      <th>player_label_2</th>\n",
       "      <th>left_2</th>\n",
       "      <th>width_2</th>\n",
       "      <th>top_2</th>\n",
       "      <th>height_2</th>\n",
       "      <th>top</th>\n",
       "      <th>left</th>\n",
       "      <th>bottom</th>\n",
       "      <th>right</th>\n",
       "      <th>center_y</th>\n",
       "      <th>center_x</th>\n",
       "      <th>G_flag</th>\n",
       "      <th>contact_pred</th>\n",
       "    </tr>\n",
       "  </thead>\n",
       "  <tbody>\n",
       "    <tr>\n",
       "      <th>288</th>\n",
       "      <td>58173_003606_6_43345_46183</td>\n",
       "      <td>58173_003606</td>\n",
       "      <td>2020-09-13 19:45:13.100000+00:00</td>\n",
       "      <td>6</td>\n",
       "      <td>43345</td>\n",
       "      <td>46183</td>\n",
       "      <td>1</td>\n",
       "      <td>65.78</td>\n",
       "      <td>23.71</td>\n",
       "      <td>2.76</td>\n",
       "      <td>0.25</td>\n",
       "      <td>242.39</td>\n",
       "      <td>107.97</td>\n",
       "      <td>4.37</td>\n",
       "      <td>4.37</td>\n",
       "      <td>66.45</td>\n",
       "      <td>23.18</td>\n",
       "      <td>3.2</td>\n",
       "      <td>0.31</td>\n",
       "      <td>248.31</td>\n",
       "      <td>268.98</td>\n",
       "      <td>2.52</td>\n",
       "      <td>2.52</td>\n",
       "      <td>0.854283</td>\n",
       "      <td>2020-09-13 19:45:13.100000+00:00</td>\n",
       "      <td>Sideline</td>\n",
       "      <td>332</td>\n",
       "      <td>V65</td>\n",
       "      <td>315.0</td>\n",
       "      <td>18.0</td>\n",
       "      <td>396.0</td>\n",
       "      <td>18.0</td>\n",
       "      <td>H93</td>\n",
       "      <td>351.0</td>\n",
       "      <td>19.0</td>\n",
       "      <td>400.0</td>\n",
       "      <td>20.0</td>\n",
       "      <td>396.0</td>\n",
       "      <td>315.0</td>\n",
       "      <td>420.0</td>\n",
       "      <td>370.0</td>\n",
       "      <td>408.0</td>\n",
       "      <td>342.0</td>\n",
       "      <td>0</td>\n",
       "      <td>0.938520</td>\n",
       "    </tr>\n",
       "    <tr>\n",
       "      <th>289</th>\n",
       "      <td>58173_003606_6_43345_46183</td>\n",
       "      <td>58173_003606</td>\n",
       "      <td>2020-09-13 19:45:13.100000+00:00</td>\n",
       "      <td>6</td>\n",
       "      <td>43345</td>\n",
       "      <td>46183</td>\n",
       "      <td>1</td>\n",
       "      <td>65.78</td>\n",
       "      <td>23.71</td>\n",
       "      <td>2.76</td>\n",
       "      <td>0.25</td>\n",
       "      <td>242.39</td>\n",
       "      <td>107.97</td>\n",
       "      <td>4.37</td>\n",
       "      <td>4.37</td>\n",
       "      <td>66.45</td>\n",
       "      <td>23.18</td>\n",
       "      <td>3.2</td>\n",
       "      <td>0.31</td>\n",
       "      <td>248.31</td>\n",
       "      <td>268.98</td>\n",
       "      <td>2.52</td>\n",
       "      <td>2.52</td>\n",
       "      <td>0.854283</td>\n",
       "      <td>2020-09-13 19:45:13.100000+00:00</td>\n",
       "      <td>Sideline</td>\n",
       "      <td>333</td>\n",
       "      <td>V65</td>\n",
       "      <td>313.0</td>\n",
       "      <td>18.0</td>\n",
       "      <td>396.0</td>\n",
       "      <td>18.0</td>\n",
       "      <td>H93</td>\n",
       "      <td>347.0</td>\n",
       "      <td>20.0</td>\n",
       "      <td>400.0</td>\n",
       "      <td>21.0</td>\n",
       "      <td>396.0</td>\n",
       "      <td>313.0</td>\n",
       "      <td>421.0</td>\n",
       "      <td>367.0</td>\n",
       "      <td>408.0</td>\n",
       "      <td>340.0</td>\n",
       "      <td>0</td>\n",
       "      <td>0.960398</td>\n",
       "    </tr>\n",
       "    <tr>\n",
       "      <th>290</th>\n",
       "      <td>58173_003606_6_43345_46183</td>\n",
       "      <td>58173_003606</td>\n",
       "      <td>2020-09-13 19:45:13.100000+00:00</td>\n",
       "      <td>6</td>\n",
       "      <td>43345</td>\n",
       "      <td>46183</td>\n",
       "      <td>1</td>\n",
       "      <td>65.78</td>\n",
       "      <td>23.71</td>\n",
       "      <td>2.76</td>\n",
       "      <td>0.25</td>\n",
       "      <td>242.39</td>\n",
       "      <td>107.97</td>\n",
       "      <td>4.37</td>\n",
       "      <td>4.37</td>\n",
       "      <td>66.45</td>\n",
       "      <td>23.18</td>\n",
       "      <td>3.2</td>\n",
       "      <td>0.31</td>\n",
       "      <td>248.31</td>\n",
       "      <td>268.98</td>\n",
       "      <td>2.52</td>\n",
       "      <td>2.52</td>\n",
       "      <td>0.854283</td>\n",
       "      <td>2020-09-13 19:45:13.100000+00:00</td>\n",
       "      <td>Sideline</td>\n",
       "      <td>334</td>\n",
       "      <td>V65</td>\n",
       "      <td>311.0</td>\n",
       "      <td>18.0</td>\n",
       "      <td>396.0</td>\n",
       "      <td>18.0</td>\n",
       "      <td>H93</td>\n",
       "      <td>344.0</td>\n",
       "      <td>20.0</td>\n",
       "      <td>401.0</td>\n",
       "      <td>22.0</td>\n",
       "      <td>396.0</td>\n",
       "      <td>311.0</td>\n",
       "      <td>423.0</td>\n",
       "      <td>364.0</td>\n",
       "      <td>409.0</td>\n",
       "      <td>337.0</td>\n",
       "      <td>0</td>\n",
       "      <td>0.950915</td>\n",
       "    </tr>\n",
       "    <tr>\n",
       "      <th>291</th>\n",
       "      <td>58173_003606_6_43345_46183</td>\n",
       "      <td>58173_003606</td>\n",
       "      <td>2020-09-13 19:45:13.100000+00:00</td>\n",
       "      <td>6</td>\n",
       "      <td>43345</td>\n",
       "      <td>46183</td>\n",
       "      <td>1</td>\n",
       "      <td>65.78</td>\n",
       "      <td>23.71</td>\n",
       "      <td>2.76</td>\n",
       "      <td>0.25</td>\n",
       "      <td>242.39</td>\n",
       "      <td>107.97</td>\n",
       "      <td>4.37</td>\n",
       "      <td>4.37</td>\n",
       "      <td>66.45</td>\n",
       "      <td>23.18</td>\n",
       "      <td>3.2</td>\n",
       "      <td>0.31</td>\n",
       "      <td>248.31</td>\n",
       "      <td>268.98</td>\n",
       "      <td>2.52</td>\n",
       "      <td>2.52</td>\n",
       "      <td>0.854283</td>\n",
       "      <td>2020-09-13 19:45:13.100000+00:00</td>\n",
       "      <td>Sideline</td>\n",
       "      <td>335</td>\n",
       "      <td>V65</td>\n",
       "      <td>309.0</td>\n",
       "      <td>18.0</td>\n",
       "      <td>396.0</td>\n",
       "      <td>18.0</td>\n",
       "      <td>H93</td>\n",
       "      <td>341.0</td>\n",
       "      <td>19.0</td>\n",
       "      <td>401.0</td>\n",
       "      <td>20.0</td>\n",
       "      <td>396.0</td>\n",
       "      <td>309.0</td>\n",
       "      <td>421.0</td>\n",
       "      <td>360.0</td>\n",
       "      <td>408.0</td>\n",
       "      <td>334.0</td>\n",
       "      <td>0</td>\n",
       "      <td>0.960584</td>\n",
       "    </tr>\n",
       "    <tr>\n",
       "      <th>292</th>\n",
       "      <td>58173_003606_6_43345_46183</td>\n",
       "      <td>58173_003606</td>\n",
       "      <td>2020-09-13 19:45:13.100000+00:00</td>\n",
       "      <td>6</td>\n",
       "      <td>43345</td>\n",
       "      <td>46183</td>\n",
       "      <td>1</td>\n",
       "      <td>65.78</td>\n",
       "      <td>23.71</td>\n",
       "      <td>2.76</td>\n",
       "      <td>0.25</td>\n",
       "      <td>242.39</td>\n",
       "      <td>107.97</td>\n",
       "      <td>4.37</td>\n",
       "      <td>4.37</td>\n",
       "      <td>66.45</td>\n",
       "      <td>23.18</td>\n",
       "      <td>3.2</td>\n",
       "      <td>0.31</td>\n",
       "      <td>248.31</td>\n",
       "      <td>268.98</td>\n",
       "      <td>2.52</td>\n",
       "      <td>2.52</td>\n",
       "      <td>0.854283</td>\n",
       "      <td>2020-09-13 19:45:13.100000+00:00</td>\n",
       "      <td>Sideline</td>\n",
       "      <td>336</td>\n",
       "      <td>V65</td>\n",
       "      <td>308.0</td>\n",
       "      <td>17.0</td>\n",
       "      <td>396.0</td>\n",
       "      <td>18.0</td>\n",
       "      <td>H93</td>\n",
       "      <td>338.0</td>\n",
       "      <td>19.0</td>\n",
       "      <td>401.0</td>\n",
       "      <td>21.0</td>\n",
       "      <td>396.0</td>\n",
       "      <td>308.0</td>\n",
       "      <td>422.0</td>\n",
       "      <td>357.0</td>\n",
       "      <td>409.0</td>\n",
       "      <td>332.0</td>\n",
       "      <td>0</td>\n",
       "      <td>0.962953</td>\n",
       "    </tr>\n",
       "  </tbody>\n",
       "</table>\n",
       "</div>"
      ],
      "text/plain": [
       "                     contact_id     game_play  \\\n",
       "288  58173_003606_6_43345_46183  58173_003606   \n",
       "289  58173_003606_6_43345_46183  58173_003606   \n",
       "290  58173_003606_6_43345_46183  58173_003606   \n",
       "291  58173_003606_6_43345_46183  58173_003606   \n",
       "292  58173_003606_6_43345_46183  58173_003606   \n",
       "\n",
       "                            datetime  step nfl_player_id_1 nfl_player_id_2  \\\n",
       "288 2020-09-13 19:45:13.100000+00:00     6           43345           46183   \n",
       "289 2020-09-13 19:45:13.100000+00:00     6           43345           46183   \n",
       "290 2020-09-13 19:45:13.100000+00:00     6           43345           46183   \n",
       "291 2020-09-13 19:45:13.100000+00:00     6           43345           46183   \n",
       "292 2020-09-13 19:45:13.100000+00:00     6           43345           46183   \n",
       "\n",
       "     contact  x_position_1  y_position_1  speed_1  distance_1  direction_1  \\\n",
       "288        1         65.78         23.71     2.76        0.25       242.39   \n",
       "289        1         65.78         23.71     2.76        0.25       242.39   \n",
       "290        1         65.78         23.71     2.76        0.25       242.39   \n",
       "291        1         65.78         23.71     2.76        0.25       242.39   \n",
       "292        1         65.78         23.71     2.76        0.25       242.39   \n",
       "\n",
       "     orientation_1  acceleration_1  sa_1  x_position_2  y_position_2  speed_2  \\\n",
       "288         107.97            4.37  4.37         66.45         23.18      3.2   \n",
       "289         107.97            4.37  4.37         66.45         23.18      3.2   \n",
       "290         107.97            4.37  4.37         66.45         23.18      3.2   \n",
       "291         107.97            4.37  4.37         66.45         23.18      3.2   \n",
       "292         107.97            4.37  4.37         66.45         23.18      3.2   \n",
       "\n",
       "     distance_2  direction_2  orientation_2  acceleration_2  sa_2  distance  \\\n",
       "288        0.31       248.31         268.98            2.52  2.52  0.854283   \n",
       "289        0.31       248.31         268.98            2.52  2.52  0.854283   \n",
       "290        0.31       248.31         268.98            2.52  2.52  0.854283   \n",
       "291        0.31       248.31         268.98            2.52  2.52  0.854283   \n",
       "292        0.31       248.31         268.98            2.52  2.52  0.854283   \n",
       "\n",
       "                        datetime_ngs      view  frame player_label_1  left_1  \\\n",
       "288 2020-09-13 19:45:13.100000+00:00  Sideline    332            V65   315.0   \n",
       "289 2020-09-13 19:45:13.100000+00:00  Sideline    333            V65   313.0   \n",
       "290 2020-09-13 19:45:13.100000+00:00  Sideline    334            V65   311.0   \n",
       "291 2020-09-13 19:45:13.100000+00:00  Sideline    335            V65   309.0   \n",
       "292 2020-09-13 19:45:13.100000+00:00  Sideline    336            V65   308.0   \n",
       "\n",
       "     width_1  top_1  height_1 player_label_2  left_2  width_2  top_2  \\\n",
       "288     18.0  396.0      18.0            H93   351.0     19.0  400.0   \n",
       "289     18.0  396.0      18.0            H93   347.0     20.0  400.0   \n",
       "290     18.0  396.0      18.0            H93   344.0     20.0  401.0   \n",
       "291     18.0  396.0      18.0            H93   341.0     19.0  401.0   \n",
       "292     17.0  396.0      18.0            H93   338.0     19.0  401.0   \n",
       "\n",
       "     height_2    top   left  bottom  right  center_y  center_x  G_flag  \\\n",
       "288      20.0  396.0  315.0   420.0  370.0     408.0     342.0       0   \n",
       "289      21.0  396.0  313.0   421.0  367.0     408.0     340.0       0   \n",
       "290      22.0  396.0  311.0   423.0  364.0     409.0     337.0       0   \n",
       "291      20.0  396.0  309.0   421.0  360.0     408.0     334.0       0   \n",
       "292      21.0  396.0  308.0   422.0  357.0     409.0     332.0       0   \n",
       "\n",
       "     contact_pred  \n",
       "288      0.938520  \n",
       "289      0.960398  \n",
       "290      0.950915  \n",
       "291      0.960584  \n",
       "292      0.962953  "
      ]
     },
     "execution_count": 33,
     "metadata": {},
     "output_type": "execute_result"
    }
   ],
   "source": [
    "oof_df_p.query('contact == 1').head()"
   ]
  },
  {
   "cell_type": "code",
   "execution_count": 42,
   "id": "330d472f-cb2f-4c53-beb8-00d620cb2638",
   "metadata": {},
   "outputs": [],
   "source": [
    "sample_df = oof_df_p.query('game_play == \"58173_003606\"').copy()"
   ]
  },
  {
   "cell_type": "code",
   "execution_count": 45,
   "id": "1a982d8c-acd7-4511-b305-b3ead0a8e869",
   "metadata": {},
   "outputs": [],
   "source": [
    "sample_df['contact_pred_rolling'] = sample_df.groupby(['game_play', 'nfl_player_id_1', 'nfl_player_id_2', 'view'])['contact_pred'].transform(lambda x: x.rolling(22, center=True).mean().bfill().ffill().fillna(0))"
   ]
  },
  {
   "cell_type": "code",
   "execution_count": 47,
   "id": "bf7629c9-9e19-4a0d-8ce6-52bc06199d59",
   "metadata": {},
   "outputs": [
    {
     "data": {
      "text/plain": [
       "<AxesSubplot:>"
      ]
     },
     "execution_count": 47,
     "metadata": {},
     "output_type": "execute_result"
    },
    {
     "data": {
      "image/png": "[encoded data removed]",
      "text/plain": [
       "<Figure size 432x288 with 1 Axes>"
      ]
     },
     "metadata": {
      "needs_background": "light"
     },
     "output_type": "display_data"
    }
   ],
   "source": [
    "sample_df.contact_pred_rolling.hist()"
   ]
  },
  {
   "cell_type": "code",
   "execution_count": null,
   "id": "8248705e-7ff2-4cfd-8e8c-b1ca84d82981",
   "metadata": {},
   "outputs": [],
   "source": []
  }
 ],
 "metadata": {
  "kernelspec": {
   "display_name": "Python 3 (ipykernel)",
   "language": "python",
   "name": "python3"
  },
  "language_info": {
   "codemirror_mode": {
    "name": "ipython",
    "version": 3
   },
   "file_extension": ".py",
   "mimetype": "text/x-python",
   "name": "python",
   "nbconvert_exporter": "python",
   "pygments_lexer": "ipython3",
   "version": "3.9.13"
  }
 },
 "nbformat": 4,
 "nbformat_minor": 5
}
